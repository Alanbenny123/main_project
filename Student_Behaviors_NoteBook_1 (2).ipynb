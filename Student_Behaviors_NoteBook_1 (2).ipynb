{
  "cells": [
    {
      "cell_type": "code",
      "execution_count": null,
      "metadata": {
        "id": "ak6qFCM_bn2P"
      },
      "outputs": [],
      "source": [
        "# IMPORTANT: This cell was modified for local execution\n",
        "# Original Kaggle-specific code has been commented out\n",
        "# NOTE: THIS NOTEBOOK ENVIRONMENT DIFFERS FROM KAGGLE'S PYTHON\n",
        "# ENVIRONMENT SO THERE MAY BE MISSING LIBRARIES USED BY YOUR\n",
        "# NOTEBOOK.\n",
        "\n",
        "# Original Kaggle code (commented out for local execution):\n",
        "# import kagglehub\n",
        "# phamluhuynhmai_classroom_student_behaviors_path = kagglehub.dataset_download('phamluhuynhmai/classroom-student-behaviors')\n",
        "# danieljamesdj08_data_split_path = kagglehub.dataset_download('danieljamesdj08/data-split')\n",
        "\n",
        "# For local execution, you need to download the dataset manually and place it in the correct directory structure\n",
        "# Expected structure: ./data/Behaviors_Features/\n",
        "print('Data source import complete.')\n",
        "print('NOTE: For local execution, please ensure the dataset is downloaded and placed in ./data/Behaviors_Features/')\n"
      ]
    },
    {
      "cell_type": "code",
      "execution_count": null,
      "metadata": {
        "_cell_guid": "b1076dfc-b9ad-4769-8c92-a6c4dae69d19",
        "_uuid": "8f2839f25d086af736a60e9eeb907d3b93b6e0e5",
        "execution": {
          "iopub.execute_input": "2024-02-01T17:19:45.883206Z",
          "iopub.status.busy": "2024-02-01T17:19:45.882965Z",
          "iopub.status.idle": "2024-02-01T17:19:58.876775Z",
          "shell.execute_reply": "2024-02-01T17:19:58.875836Z",
          "shell.execute_reply.started": "2024-02-01T17:19:45.883183Z"
        },
        "id": "ihwScWy5bn2Q",
        "trusted": true
      },
      "outputs": [],
      "source": [
        "# Import all required libraries with error handling\n",
        "try:\n",
        "    import cv2\n",
        "    import glob\n",
        "    import numpy as np\n",
        "    import matplotlib.pyplot as plt\n",
        "    from skimage.transform import resize\n",
        "    from IPython.display import clear_output\n",
        "    from matplotlib.pyplot import imshow\n",
        "    import pandas as pd\n",
        "    from tensorflow.keras.layers import *\n",
        "    from tensorflow.keras.models import Sequential, Model\n",
        "    from tensorflow.keras.utils import to_categorical\n",
        "    from tensorflow.keras.losses import *\n",
        "    from tensorflow.keras.optimizers import *\n",
        "    from tensorflow.keras.activations import *\n",
        "    from tensorflow.keras.metrics import *\n",
        "    from sklearn.model_selection import train_test_split\n",
        "    import tensorflow.keras as keras\n",
        "    import tensorflow as tf\n",
        "    from tensorflow.keras import backend as k\n",
        "    import datetime\n",
        "    import os\n",
        "    import csv\n",
        "    import pandas as pd\n",
        "    import random\n",
        "    import tensorflow_addons as tfa\n",
        "    from tensorflow import keras\n",
        "    from tensorflow.keras import layers\n",
        "    from tqdm import tqdm\n",
        "    from keras.models import Sequential\n",
        "    from keras.layers import Dense, Dropout, Activation, Flatten\n",
        "    from keras.layers import Conv2D, MaxPooling2D,AveragePooling2D, BatchNormalization , Input ,concatenate , Concatenate\n",
        "    from keras.layers import Dense,  MaxPool2D, Flatten, GlobalAveragePooling2D,  BatchNormalization, Layer, Add, UpSampling2D, Lambda, Multiply\n",
        "    from keras.losses import categorical_crossentropy,categorical_hinge,hinge,squared_hinge\n",
        "    from keras.models import Model\n",
        "    from keras.regularizers import l2\n",
        "    from keras.callbacks import  EarlyStopping, ModelCheckpoint\n",
        "    from keras.preprocessing.image import ImageDataGenerator\n",
        "    print(\"✓ All imports successful!\")\n",
        "    \n",
        "except ImportError as e:\n",
        "    print(f\"❌ Import error: {e}\")\n",
        "    print(\"Please install missing packages using:\")\n",
        "    print(\"pip install opencv-python scikit-image tensorflow tensorflow-addons scikit-learn tqdm\")\n",
        "    print(\"or\")\n",
        "    print(\"conda install opencv scikit-image tensorflow scikit-learn tqdm\")"
      ]
    },
    {
      "cell_type": "code",
      "execution_count": null,
      "metadata": {
        "execution": {
          "iopub.execute_input": "2024-01-10T08:52:41.896562Z",
          "iopub.status.busy": "2024-01-10T08:52:41.89601Z",
          "iopub.status.idle": "2024-01-10T08:52:41.900509Z",
          "shell.execute_reply": "2024-01-10T08:52:41.89966Z",
          "shell.execute_reply.started": "2024-01-10T08:52:41.896535Z"
        },
        "id": "Q_c159EUbn2R",
        "trusted": true
      },
      "outputs": [],
      "source": [
        "# labels = ['Looking_Forward', 'Raising_Hand', 'Reading', 'Sleeping', 'Standing', 'Turning_Around', 'Writting']"
      ]
    },
    {
      "cell_type": "code",
      "execution_count": null,
      "metadata": {
        "execution": {
          "iopub.execute_input": "2024-02-01T17:21:34.539654Z",
          "iopub.status.busy": "2024-02-01T17:21:34.538996Z",
          "iopub.status.idle": "2024-02-01T17:21:34.544138Z",
          "shell.execute_reply": "2024-02-01T17:21:34.543123Z",
          "shell.execute_reply.started": "2024-02-01T17:21:34.539621Z"
        },
        "id": "A4d2bcLIbn2R",
        "trusted": true
      },
      "outputs": [],
      "source": [
        "labels = ['Raising_Hand', 'Reading', 'Sleeping', 'Writting']"
      ]
    },
    {
      "cell_type": "code",
      "execution_count": null,
      "metadata": {
        "execution": {
          "iopub.execute_input": "2024-01-29T16:48:41.156663Z",
          "iopub.status.busy": "2024-01-29T16:48:41.156325Z",
          "iopub.status.idle": "2024-01-29T16:48:41.190186Z",
          "shell.execute_reply": "2024-01-29T16:48:41.18911Z",
          "shell.execute_reply.started": "2024-01-29T16:48:41.15663Z"
        },
        "id": "dodvE_yLbn2R",
        "trusted": true
      },
      "outputs": [],
      "source": [
        "# path = '/kaggle/input/classroom-student-behaviors/Behaviors_Features'"
      ]
    },
    {
      "cell_type": "code",
      "execution_count": null,
      "metadata": {
        "execution": {
          "iopub.execute_input": "2024-01-28T06:59:51.565121Z",
          "iopub.status.busy": "2024-01-28T06:59:51.564872Z",
          "iopub.status.idle": "2024-01-28T07:02:05.156168Z",
          "shell.execute_reply": "2024-01-28T07:02:05.155391Z",
          "shell.execute_reply.started": "2024-01-28T06:59:51.565099Z"
        },
        "id": "L_aFgeYqbn2S",
        "trusted": true
      },
      "outputs": [],
      "source": [
        "# empty_csv_files = ['Hand_Ver01_Hand20_id3_Act1_hand20.csv', 'Read_Ver01_Read4_id4_Act14_read4.csv', 'Read_Ver01_Read4_id2_Act14_read4.csv']\n",
        "# samples = {\n",
        "#     'Raising_Hand' : [],\n",
        "#     'Reading': [],\n",
        "#     'Sleeping': [],\n",
        "#     'Writting': []\n",
        "# }\n",
        "# index = 0\n",
        "# for label in labels:\n",
        "#     class_path = os.path.join(path, label)\n",
        "#     for id_person in os.listdir(class_path):\n",
        "#         person_data = os.path.join(class_path, id_person)\n",
        "#         for data in os.listdir(person_data):\n",
        "#             data_path = person_data + '/' + data\n",
        "#             if os.path.isdir(data_path):\n",
        "#                 number_rgb_images = len([image for image in os.listdir(data_path)])\n",
        "#                 rgb_name = data.split('_')[:-1]\n",
        "#                 for csv_file in os.listdir(person_data):\n",
        "#                     csv_path = person_data + '/' + csv_file\n",
        "#                     if os.path.isfile(csv_path) and csv_file not in empty_csv_files and csv_file.split('_')[2:-1] == rgb_name:\n",
        "#                         df = pd.read_csv(csv_path)\n",
        "#                         number_row = len(df)\n",
        "# #                         if number_rgb_images == number_row:\n",
        "#                         samples[label].append([data_path, csv_path, number_rgb_images, index])\n",
        "#     samples[label] = sorted(samples[label], key=lambda x:x[2], reverse=True)\n",
        "#     index += 1"
      ]
    },
    {
      "cell_type": "code",
      "execution_count": null,
      "metadata": {
        "execution": {
          "iopub.execute_input": "2024-01-25T14:58:02.284991Z",
          "iopub.status.busy": "2024-01-25T14:58:02.284548Z",
          "iopub.status.idle": "2024-01-25T14:58:02.290991Z",
          "shell.execute_reply": "2024-01-25T14:58:02.290005Z",
          "shell.execute_reply.started": "2024-01-25T14:58:02.284958Z"
        },
        "id": "mblaGNxFbn2S",
        "trusted": true
      },
      "outputs": [],
      "source": [
        "# for label in labels:\n",
        "#     print(label, len(samples[label]))"
      ]
    },
    {
      "cell_type": "code",
      "execution_count": null,
      "metadata": {
        "execution": {
          "iopub.execute_input": "2024-01-26T09:18:40.291502Z",
          "iopub.status.busy": "2024-01-26T09:18:40.291074Z",
          "iopub.status.idle": "2024-01-26T09:18:40.299317Z",
          "shell.execute_reply": "2024-01-26T09:18:40.298233Z",
          "shell.execute_reply.started": "2024-01-26T09:18:40.29147Z"
        },
        "id": "PeLgc0kXbn2S",
        "trusted": true
      },
      "outputs": [],
      "source": [
        "# rgb_selection, skeleton_selection = [], []\n",
        "# for label in labels:\n",
        "#     for i in range(0, 180):\n",
        "#         rgb_selection.append([samples[label][i][0], samples[label][i][3]])\n",
        "#         skeleton_selection.append([samples[label][i][1], samples[label][i][3]])"
      ]
    },
    {
      "cell_type": "markdown",
      "metadata": {
        "id": "xtx03YEibn2T"
      },
      "source": [
        "<h1 style=\"text-align: center\">DATA PREPARING</h1>"
      ]
    },
    {
      "cell_type": "code",
      "execution_count": null,
      "metadata": {
        "execution": {
          "iopub.execute_input": "2024-01-26T09:18:41.85707Z",
          "iopub.status.busy": "2024-01-26T09:18:41.856467Z",
          "iopub.status.idle": "2024-01-26T09:18:41.909812Z",
          "shell.execute_reply": "2024-01-26T09:18:41.909033Z",
          "shell.execute_reply.started": "2024-01-26T09:18:41.85704Z"
        },
        "id": "DGhchEvIbn2U",
        "trusted": true
      },
      "outputs": [],
      "source": [
        "# content = [[], [], [], []]\n",
        "# df = pd.DataFrame(rgb_selection, columns=['rgb_folder', 'class'])\n",
        "# for i, row in df.iterrows():\n",
        "#     content[row['class']].append(row['rgb_folder'])\n",
        "# content = np.array(content)"
      ]
    },
    {
      "cell_type": "code",
      "execution_count": null,
      "metadata": {
        "execution": {
          "iopub.execute_input": "2024-01-26T09:18:43.591703Z",
          "iopub.status.busy": "2024-01-26T09:18:43.591384Z",
          "iopub.status.idle": "2024-01-26T09:18:43.645067Z",
          "shell.execute_reply": "2024-01-26T09:18:43.644201Z",
          "shell.execute_reply.started": "2024-01-26T09:18:43.591679Z"
        },
        "id": "ibahr737bn2U",
        "trusted": true
      },
      "outputs": [],
      "source": [
        "# skeletons = [[], [], [], []]\n",
        "# df = pd.DataFrame(skeleton_selection, columns=['csv_path', 'class'])\n",
        "# for i, row in df.iterrows():\n",
        "#     skeletons[row['class']].append(row['csv_path'])\n",
        "# skeletons = np.array(skeletons)"
      ]
    },
    {
      "cell_type": "code",
      "execution_count": null,
      "metadata": {
        "id": "6Tf260bgbn2U",
        "trusted": true
      },
      "outputs": [],
      "source": [
        "# print(y)"
      ]
    },
    {
      "cell_type": "code",
      "execution_count": null,
      "metadata": {
        "execution": {
          "iopub.execute_input": "2024-01-26T09:18:46.334589Z",
          "iopub.status.busy": "2024-01-26T09:18:46.333578Z",
          "iopub.status.idle": "2024-01-26T09:18:46.339347Z",
          "shell.execute_reply": "2024-01-26T09:18:46.338434Z",
          "shell.execute_reply.started": "2024-01-26T09:18:46.334553Z"
        },
        "id": "l2bh2D89bn2V",
        "trusted": true
      },
      "outputs": [],
      "source": [
        "# content = content.reshape(720,)\n",
        "# skeletons = skeletons.reshape(720,)\n",
        "# y = np.array([i//180 for i in range(0,720)])"
      ]
    },
    {
      "cell_type": "code",
      "execution_count": null,
      "metadata": {
        "execution": {
          "iopub.execute_input": "2024-02-01T13:29:45.181097Z",
          "iopub.status.busy": "2024-02-01T13:29:45.180712Z",
          "iopub.status.idle": "2024-02-01T13:29:45.225244Z",
          "shell.execute_reply": "2024-02-01T13:29:45.224163Z",
          "shell.execute_reply.started": "2024-02-01T13:29:45.181062Z"
        },
        "id": "rp_Mhnt8bn2V",
        "trusted": true
      },
      "outputs": [],
      "source": [
        "test_dataset = [\n",
        "    ['Hand2_id1_Act1_rgb','Hand5_id1_Act1_rgb','Hand38_id1_Act1_rgb','Hand13_id1_Act1_rgb','Hand33_id2_Act1_rgb','Hand23_id1_Act2_rgb','Hand4_id1_Act1_rgb','Hand29_id1_Act1_rgb','Hand19_id1_Act1_rgb','Hand3_id1_Act1_rgb','Hand18_id2_Act1_rgb','Hand21_id3_Act1_rgb','Hand32_id2_Act1_rgb','Hand7_id4_Act1_rgb','Hand1_id2_Act1_rgb','Hand1_id2_Act2_rgb','Hand24_id2_Act1_rgb','Hand7_id2_Act1_rgb','Hand37_id2_Act1_rgb','Hand1_id2_Act3_rgb','Hand29_id2_Act1_rgb','Hand11_id2_Act1_rgb','Hand5_id2_Act1_rgb','Hand40_id2_Act2_rgb','Hand20_id2_Act1_rgb','Hand4_id2_Act1_rgb','Hand26_id3_Act1_rgb','Hand22_id3_Act1_rgb','Hand34_id3_Act1_rgb','Hand23_id3_Act1_rgb','Hand39_id3_Act1_rgb','Hand14_id3_Act1_rgb','Hand16_id3_Act1_rgb','Hand25_id3_Act1_rgb','Hand33_id4_Act1_rgb','Hand21_id2_Act1_rgb'],\n",
        "    ['Read54_id1_Act6_rgb','Read38_id2_Act9_rgb','Read45_id2_Act3_rgb','Read45_id1_Act8_rgb','Read61_id1_Act4_rgb','Read58_id1_Act8_rgb','Read45_id1_Act1_rgb','Read49_id1_Act6_rgb','Read60_id1_Act8_rgb','Read55_id2_Act4_rgb','Read48_id1_Act4_rgb','Read12_id2_Act8_rgb','Read7_id2_Act3_rgb','Read6_id2_Act10_rgb','Read24_id2_Act10_rgb','Read17_id2_Act2_rgb','Read53_id2_Act3_rgb','Read36_id2_Act3_rgb','Read49_id4_Act7_rgb','Read27_id2_Act2_rgb','Read36_id4_Act1_rgb','Read25_id4_Act3_rgb','Read21_id2_Act1_rgb','Read5_id2_Act3_rgb','Read57_id2_Act2_rgb','Read11_id2_Act2_rgb','Read28_id2_Act9_rgb','Read49_id4_Act2_rgb','Read26_id2_Act1_rgb','Read1_id3_Act3_rgb','Read46_id2_Act2_rgb','Read63_id2_Act8_rgb','Read31_id2_Act4_rgb','Read9_id2_Act9_rgb','Read13_id3_Act10_rgb','Read15_id3_Act1_rgb'],\n",
        "    ['Sleep37_id1_Act2_rgb','Sleep42_id1_Act3_rgb','Sleep43_id1_Act3_rgb','Sleep20_id3_Act2_rgb','Sleep30_id1_Act1_rgb','Sleep43_id1_Act2_rgb','Sleep14_id3_Act2_rgb','Sleep1_id1_Act1_rgb','Sleep19_id2_Act1_rgb','Sleep30_id1_Act5_rgb','Sleep40_id1_Act1_rgb','Sleep4_id3_Act1_rgb','Sleep44_id1_Act1_rgb','Sleep9_id1_Act1_rgb','Sleep20_id1_Act2_rgb','Sleep29_id2_Act3_rgb','Sleep20_id3_Act2_rgb','Sleep14_id3_Act4_rgb','Sleep36_id1_Act3_rgb','Sleep15_id4_Act2_rgb','Sleep15_id3_Act2_rgb','Sleep10_id1_Act1_rgb','Sleep37_id1_Act3_rgb','Sleep26_id2_Act1_rgb','Sleep14_id2_Act2_rgb','Sleep12_id2_Act2_rgb','Sleep29_id2_Act1_rgb','Sleep34_id2_Act2_rgb','Sleep39_id2_Act1_rgb','Sleep26_id3_Act1_rgb','Sleep15_id4_Act1_rgb','Sleep38_id3_Act3_rgb','Sleep9_id3_Act2_rgb','Sleep30_id1_Act4_rgb','Sleep21_id2_Act2_rgb','Sleep28_id4_Act1_rgb'],\n",
        "    ['Write14_id1_Act1_rgb','Write5_id1_Act1_rgb','Write26_id1_Act1_rgb','Write36_id1_Act1_rgb','Write13_id1_Act1_rgb','Write39_id1_Act1_rgb','Write10_id1_Act1_rgb','Write15_id1_Act1_rgb','Write42_id1_Act1_rgb','Write32_id1_Act1_rgb','Write21_id2_Act2_rgb','Write38_id2_Act1_rgb','Write2_id2_Act1_rgb','Write30_id2_Act1_rgb','Write22_id2_Act2_rgb','Write15_id3_Act1_rgb','Write45_id3_Act1_rgb','Write21_id3_Act1_rgb','Write37_id3_Act1_rgb','Write12_id3_Act2_rgb','Write4_id3_Act2_rgb','Write5_id3_Act1_rgb','Write12_id3_Act1_rgb','Write27_id3_Act1_rgb','Write33_id3_Act1_rgb','Write11_id3_Act1_rgb','Write31_id3_Act1_rgb','Write27_id4_Act1_rgb','Write2_id4_Act1_rgb','Write7_id4_Act1_rgb','Write42_id4_Act1_rgb','Write5_id4_Act1_rgb','Write3_id4_Act2_rgb','Write45_id4_Act1_rgb','Write10_id4_Act1_rgb','Write6_id4_Act1_rgb']\n",
        "]"
      ]
    },
    {
      "cell_type": "code",
      "execution_count": null,
      "metadata": {
        "execution": {
          "iopub.execute_input": "2024-02-01T13:29:45.227884Z",
          "iopub.status.busy": "2024-02-01T13:29:45.227568Z",
          "iopub.status.idle": "2024-02-01T13:29:45.258489Z",
          "shell.execute_reply": "2024-02-01T13:29:45.25751Z",
          "shell.execute_reply.started": "2024-02-01T13:29:45.227859Z"
        },
        "id": "DcI50s7Bbn2V",
        "trusted": true
      },
      "outputs": [],
      "source": [
        "train_valid_data = [\n",
        "    ['Hand23_id1_Act1_rgb', 'Hand1_id1_Act1_rgb', 'Hand1_id1_Act2_rgb', 'Hand36_id1_Act1_rgb', 'Hand40_id1_Act2_rgb', 'Hand21_id1_Act1_rgb', 'Hand33_id1_Act2_rgb', 'Hand24_id1_Act1_rgb', 'Hand8_id1_Act1_rgb', 'Hand6_id1_Act1_rgb', 'Hand33_id1_Act3_rgb', 'Hand32_id1_Act1_rgb', 'Hand33_id1_Act1_rgb', 'Hand16_id1_Act1_rgb', 'Hand26_id1_Act1_rgb', 'Hand37_id1_Act1_rgb', 'Hand27_id1_Act1_rgb', 'Hand32_id1_Act2_rgb', 'Hand34_id2_Act1_rgb', 'Hand23_id2_Act2_rgb', 'Hand5_id2_Act2_rgb', 'Hand39_id2_Act1_rgb', 'Hand26_id2_Act3_rgb', 'Hand14_id2_Act1_rgb', 'Hand23_id2_Act3_rgb', 'Hand40_id2_Act1_rgb', 'Hand9_id2_Act1_rgb', 'Hand22_id2_Act1_rgb', 'Hand22_id2_Act3_rgb', 'Hand27_id2_Act1_rgb', 'Hand11_id2_Act1_rgb', 'Hand31_id2_Act1_rgb', 'Hand23_id2_Act4_rgb', 'Hand25_id2_Act2_rgb', 'Hand22_id2_Act2_rgb', 'Hand2_id2_Act1_rgb', 'Hand21_id2_Act1_rgb', 'Hand26_id2_Act2_rgb', 'Hand23_id2_Act1_rgb', 'Hand39_id2_Act2_rgb', 'Hand33_id2_Act1_rgb', 'Hand39_id2_Act3_rgb', 'Hand26_id2_Act1_rgb', 'Hand36_id2_Act2_rgb', 'Hand29_id3_Act3_rgb', 'Hand2_id3_Act3_rgb', 'Hand4_id3_Act1_rgb', 'Hand11_id3_Act1_rgb', 'Hand33_id3_Act1_rgb', 'Hand13_id3_Act1_rgb', 'Hand1_id3_Act1_rgb', 'Hand29_id3_Act4_rgb', 'Hand18_id3_Act1_rgb', 'Hand40_id3_Act2_rgb', 'Hand24_id3_Act1_rgb', 'Hand27_id3_Act1_rgb', 'Hand37_id3_Act1_rgb', 'Hand7_id3_Act2_rgb', 'Hand27_id3_Act4_rgb', 'Hand21_id3_Act1_rgb', 'Hand33_id3_Act2_rgb', 'Hand29_id3_Act2_rgb', 'Hand24_id3_Act3_rgb', 'Hand10_id3_Act1_rgb', 'Hand30_id3_Act1_rgb', 'Hand6_id3_Act2_rgb', 'Hand9_id3_Act1_rgb', 'Hand2_id3_Act1_rgb', 'Hand27_id3_Act3_rgb', 'Hand38_id3_Act1_rgb', 'Hand1_id3_Act3_rgb', 'Hand6_id3_Act1_rgb', 'Hand27_id3_Act2_rgb', 'Hand4_id3_Act2_rgb', 'Hand4_id3_Act3_rgb', 'Hand12_id3_Act1_rgb', 'Hand5_id3_Act2_rgb', 'Hand2_id3_Act2_rgb', 'Hand28_id3_Act1_rgb', 'Hand13_id3_Act2_rgb', 'Hand3_id3_Act1_rgb', 'Hand37_id3_Act2_rgb', 'Hand24_id4_Act1_rgb', 'Hand15_id4_Act1_rgb', 'Hand29_id4_Act2_rgb', 'Hand2_id4_Act2_rgb', 'Hand26_id4_Act1_rgb', 'Hand21_id4_Act1_rgb', 'Hand18_id4_Act1_rgb', 'Hand23_id4_Act3_rgb', 'Hand38_id4_Act1_rgb', 'Hand39_id4_Act4_rgb', 'Hand7_id4_Act1_rgb', 'Hand37_id4_Act2_rgb', 'Hand37_id4_Act3_rgb', 'Hand27_id4_Act1_rgb', 'Hand4_id4_Act3_rgb', 'Hand11_id4_Act1_rgb', 'Hand13_id4_Act1_rgb', 'Hand4_id4_Act4_rgb', 'Hand29_id4_Act1_rgb', 'Hand31_id4_Act4_rgb', 'Hand5_id4_Act1_rgb', 'Hand31_id4_Act1_rgb', 'Hand1_id4_Act3_rgb', 'Hand31_id4_Act2_rgb', 'Hand37_id4_Act1_rgb', 'Hand28_id4_Act1_rgb', 'Hand22_id4_Act1_rgb', 'Hand2_id4_Act1_rgb', 'Hand16_id4_Act3_rgb', 'Hand39_id4_Act1_rgb', 'Hand40_id4_Act3_rgb', 'Hand16_id4_Act1_rgb', 'Hand25_id4_Act3_rgb', 'Hand13_id4_Act2_rgb', 'Hand25_id4_Act2_rgb', 'Hand39_id4_Act3_rgb', 'Hand30_id4_Act1_rgb', 'Hand12_id4_Act1_rgb', 'Hand23_id4_Act1_rgb', 'Hand35_id4_Act1_rgb', 'Hand5_id4_Act2_rgb', 'Hand26_id4_Act2_rgb', 'Hand21_id4_Act2_rgb', 'Hand16_id4_Act2_rgb', 'Hand7_id4_Act2_rgb', 'Hand27_id4_Act4_rgb', 'Hand19_id4_Act1_rgb', 'Hand27_id4_Act3_rgb', 'Hand14_id4_Act1_rgb', 'Hand11_id4_Act2_rgb', 'Hand32_id4_Act1_rgb', 'Hand25_id4_Act1_rgb', 'Hand24_id4_Act2_rgb', 'Hand34_id4_Act2_rgb', 'Hand39_id4_Act2_rgb', 'Hand1_id4_Act2_rgb', 'Hand32_id4_Act2_rgb', 'Hand2_id4_Act3_rgb', 'Hand10_id4_Act1_rgb', 'Hand40_id4_Act2_rgb', 'Hand4_id4_Act2_rgb', 'Hand34_id4_Act1_rgb'],\n",
        "    ['Read50_id1_Act7_rgb', 'Read49_id1_Act2_rgb', 'Read52_id1_Act4_rgb', 'Read7_id1_Act4_rgb', 'Read14_id1_Act8_rgb', 'Read40_id1_Act2_rgb', 'Read51_id1_Act10_rgb', 'Read20_id1_Act9_rgb', 'Read15_id3_Act2_rgb', 'Read18_id3_Act4_rgb', 'Read16_id3_Act2_rgb', 'Read14_id3_Act10_rgb', 'Read19_id3_Act5_rgb', 'Read18_id3_Act5_rgb', 'Read16_id3_Act8_rgb', 'Read19_id3_Act8_rgb', 'Read17_id3_Act4_rgb', 'Read16_id3_Act6_rgb', 'Read16_id3_Act4_rgb', 'Read13_id3_Act10_rgb', 'Read14_id3_Act2_rgb', 'Read15_id3_Act1_rgb', 'Read19_id3_Act7_rgb', 'Read12_id3_Act6_rgb', 'Read18_id3_Act3_rgb', 'Read16_id3_Act10_rgb', 'Read12_id3_Act8_rgb', 'Read13_id3_Act5_rgb', 'Read19_id3_Act9_rgb', 'Read18_id3_Act8_rgb', 'Read12_id3_Act10_rgb', 'Read12_id3_Act5_rgb', 'Read19_id3_Act3_rgb', 'Read10_id3_Act9_rgb', 'Read10_id3_Act2_rgb', 'Read12_id3_Act4_rgb', 'Read13_id3_Act3_rgb', 'Read13_id3_Act8_rgb', 'Read1_id3_Act3_rgb', 'Read12_id3_Act3_rgb', 'Read18_id3_Act7_rgb', 'Read13_id3_Act7_rgb', 'Read10_id3_Act4_rgb', 'Read19_id3_Act4_rgb', 'Read19_id3_Act2_rgb', 'Read11_id3_Act7_rgb', 'Read10_id3_Act7_rgb', 'Read18_id3_Act6_rgb', 'Read14_id3_Act3_rgb', 'Read14_id3_Act6_rgb', 'Read16_id3_Act1_rgb', 'Read15_id3_Act6_rgb', 'Read17_id3_Act2_rgb', 'Read13_id3_Act6_rgb', 'Read10_id3_Act1_rgb', 'Read15_id3_Act9_rgb', 'Read12_id3_Act1_rgb', 'Read17_id3_Act1_rgb', 'Read17_id3_Act8_rgb', 'Read11_id3_Act8_rgb', 'Read11_id3_Act10_rgb', 'Read16_id3_Act3_rgb', 'Read11_id3_Act3_rgb', 'Read15_id3_Act5_rgb', 'Read13_id3_Act9_rgb', 'Read11_id3_Act6_rgb', 'Read15_id3_Act7_rgb', 'Read19_id3_Act6_rgb', 'Read17_id3_Act3_rgb', 'Read11_id3_Act4_rgb', 'Read10_id3_Act6_rgb', 'Read16_id3_Act5_rgb', 'Read13_id3_Act1_rgb', 'Read14_id3_Act1_rgb', 'Read19_id3_Act10_rgb', 'Read10_id3_Act3_rgb', 'Read28_id4_Act9_rgb', 'Read54_id4_Act9_rgb', 'Read53_id4_Act10_rgb', 'Read4_id4_Act9_rgb', 'Read39_id4_Act2_rgb', 'Read53_id4_Act5_rgb', 'Read27_id4_Act6_rgb', 'Read55_id4_Act2_rgb', 'Read20_id4_Act3_rgb', 'Read53_id4_Act4_rgb', 'Read36_id4_Act10_rgb', 'Read54_id4_Act7_rgb', 'Read58_id4_Act7_rgb', 'Read26_id4_Act8_rgb', 'Read42_id4_Act2_rgb', 'Read35_id4_Act3_rgb', 'Read27_id4_Act3_rgb', 'Read52_id4_Act4_rgb', 'Read50_id4_Act6_rgb', 'Read42_id4_Act3_rgb', 'Read51_id4_Act2_rgb', 'Read6_id4_Act4_rgb', 'Read23_id4_Act3_rgb', 'Read54_id4_Act1_rgb', 'Read41_id4_Act4_rgb', 'Read20_id4_Act1_rgb', 'Read19_id4_Act10_rgb', 'Read48_id4_Act4_rgb', 'Read32_id4_Act2_rgb', 'Read36_id4_Act8_rgb', 'Read27_id4_Act4_rgb', 'Read58_id4_Act8_rgb', 'Read4_id4_Act6_rgb', 'Read42_id4_Act1_rgb', 'Read19_id4_Act6_rgb', 'Read31_id4_Act2_rgb', 'Read50_id4_Act2_rgb', 'Read7_id4_Act1_rgb', 'Read35_id4_Act2_rgb', 'Read16_id4_Act4_rgb', 'Read40_id4_Act1_rgb', 'Read5_id4_Act5_rgb', 'Read43_id4_Act5_rgb', 'Read29_id4_Act1_rgb', 'Read55_id4_Act1_rgb', 'Read52_id4_Act2_rgb', 'Read25_id4_Act5_rgb', 'Read43_id4_Act10_rgb', 'Read35_id4_Act1_rgb', 'Read18_id4_Act6_rgb', 'Read53_id4_Act3_rgb', 'Read16_id4_Act6_rgb', 'Read6_id4_Act1_rgb', 'Read2_id4_Act3_rgb', 'Read27_id4_Act7_rgb', 'Read20_id4_Act8_rgb', 'Read51_id4_Act6_rgb', 'Read48_id4_Act10_rgb', 'Read2_id4_Act10_rgb', 'Read36_id4_Act2_rgb', 'Read5_id4_Act9_rgb', 'Read4_id4_Act7_rgb', 'Read29_id4_Act9_rgb', 'Read6_id4_Act6_rgb', 'Read30_id4_Act7_rgb', 'Read4_id4_Act1_rgb', 'Read26_id4_Act4_rgb', 'Read28_id4_Act4_rgb'],\n",
        "    ['Sleep26_id1_Act1_rgb', 'Sleep3_id1_Act3_rgb', 'Sleep1_id1_Act1_rgb', 'Sleep43_id1_Act2_rgb', 'Sleep33_id1_Act1_rgb', 'Sleep16_id1_Act1_rgb', 'Sleep29_id1_Act4_rgb', 'Sleep35_id1_Act2_rgb', 'Sleep10_id1_Act2_rgb', 'Sleep13_id1_Act2_rgb', 'Sleep16_id1_Act3_rgb', 'Sleep29_id1_Act3_rgb', 'Sleep41_id1_Act2_rgb', 'Sleep42_id1_Act2_rgb', 'Sleep34_id1_Act3_rgb', 'Sleep4_id1_Act1_rgb', 'Sleep19_id1_Act1_rgb', 'Sleep25_id1_Act1_rgb', 'Sleep21_id1_Act1_rgb', 'Sleep13_id1_Act1_rgb', 'Sleep17_id1_Act3_rgb', 'Sleep42_id1_Act5_rgb', 'Sleep28_id1_Act1_rgb', 'Sleep36_id1_Act2_rgb', 'Sleep34_id1_Act1_rgb', 'Sleep43_id1_Act1_rgb', 'Sleep14_id1_Act1_rgb', 'Sleep42_id1_Act4_rgb', 'Sleep45_id1_Act1_rgb', 'Sleep5_id1_Act1_rgb', 'Sleep36_id1_Act1_rgb', 'Sleep32_id1_Act1_rgb', 'Sleep24_id1_Act1_rgb', 'Sleep11_id1_Act1_rgb', 'Sleep42_id1_Act1_rgb', 'Sleep3_id1_Act1_rgb', 'Sleep13_id2_Act4_rgb', 'Sleep44_id2_Act1_rgb', 'Sleep3_id2_Act1_rgb', 'Sleep27_id2_Act1_rgb', 'Sleep30_id2_Act2_rgb', 'Sleep21_id2_Act3_rgb', 'Sleep14_id2_Act1_rgb', 'Sleep3_id2_Act3_rgb', 'Sleep11_id2_Act2_rgb', 'Sleep8_id2_Act1_rgb', 'Sleep2_id2_Act1_rgb', 'Sleep25_id2_Act5_rgb', 'Sleep46_id2_Act1_rgb', 'Sleep34_id2_Act3_rgb', 'Sleep26_id2_Act3_rgb', 'Sleep23_id2_Act1_rgb', 'Sleep22_id2_Act5_rgb', 'Sleep35_id2_Act1_rgb', 'Sleep5_id2_Act1_rgb', 'Sleep1_id2_Act1_rgb', 'Sleep24_id2_Act1_rgb', 'Sleep28_id2_Act1_rgb', 'Sleep16_id2_Act1_rgb', 'Sleep2_id2_Act2_rgb', 'Sleep33_id2_Act1_rgb', 'Sleep9_id2_Act1_rgb', 'Sleep7_id2_Act1_rgb', 'Sleep13_id2_Act5_rgb', 'Sleep19_id2_Act1_rgb', 'Sleep10_id2_Act1_rgb', 'Sleep6_id2_Act3_rgb', 'Sleep29_id2_Act2_rgb', 'Sleep41_id2_Act1_rgb', 'Sleep31_id2_Act1_rgb', 'Sleep45_id2_Act1_rgb', 'Sleep30_id2_Act1_rgb', 'Sleep20_id3_Act1_rgb', 'Sleep29_id3_Act1_rgb', 'Sleep33_id3_Act3_rgb', 'Sleep46_id3_Act1_rgb', 'Sleep19_id3_Act1_rgb', 'Sleep42_id3_Act3_rgb', 'Sleep15_id3_Act3_rgb', 'Sleep18_id3_Act2_rgb', 'Sleep14_id3_Act4_rgb', 'Sleep15_id3_Act2_rgb', 'Sleep25_id3_Act3_rgb', 'Sleep33_id3_Act4_rgb', 'Sleep6_id3_Act1_rgb', 'Sleep39_id3_Act2_rgb', 'Sleep30_id3_Act2_rgb', 'Sleep25_id3_Act1_rgb', 'Sleep34_id3_Act1_rgb', 'Sleep14_id3_Act1_rgb', 'Sleep9_id3_Act1_rgb', 'Sleep40_id3_Act1_rgb', 'Sleep12_id3_Act2_rgb', 'Sleep21_id3_Act5_rgb', 'Sleep18_id3_Act4_rgb', 'Sleep8_id3_Act2_rgb', 'Sleep16_id3_Act1_rgb', 'Sleep18_id3_Act1_rgb', 'Sleep3_id3_Act2_rgb', 'Sleep5_id3_Act2_rgb', 'Sleep1_id3_Act1_rgb', 'Sleep14_id3_Act3_rgb', 'Sleep5_id3_Act1_rgb', 'Sleep23_id3_Act1_rgb', 'Sleep37_id3_Act2_rgb', 'Sleep24_id3_Act1_rgb', 'Sleep44_id3_Act1_rgb', 'Sleep11_id3_Act1_rgb', 'Sleep25_id4_Act3_rgb', 'Sleep6_id4_Act4_rgb', 'Sleep44_id4_Act1_rgb', 'Sleep31_id4_Act2_rgb', 'Sleep31_id4_Act1_rgb', 'Sleep34_id4_Act2_rgb', 'Sleep13_id4_Act1_rgb', 'Sleep34_id4_Act4_rgb', 'Sleep20_id4_Act1_rgb', 'Sleep14_id4_Act1_rgb', 'Sleep9_id4_Act1_rgb', 'Sleep23_id4_Act1_rgb', 'Sleep14_id4_Act2_rgb', 'Sleep9_id4_Act2_rgb', 'Sleep45_id4_Act1_rgb', 'Sleep15_id4_Act3_rgb', 'Sleep35_id4_Act4_rgb', 'Sleep41_id4_Act1_rgb', 'Sleep34_id4_Act3_rgb', 'Sleep35_id4_Act1_rgb', 'Sleep6_id4_Act1_rgb', 'Sleep28_id4_Act3_rgb', 'Sleep14_id4_Act3_rgb', 'Sleep35_id4_Act5_rgb', 'Sleep18_id4_Act2_rgb', 'Sleep3_id4_Act5_rgb', 'Sleep5_id4_Act1_rgb', 'Sleep25_id4_Act2_rgb', 'Sleep7_id4_Act2_rgb', 'Sleep13_id4_Act3_rgb', 'Sleep29_id4_Act1_rgb', 'Sleep33_id4_Act1_rgb', 'Sleep26_id4_Act1_rgb', 'Sleep4_id4_Act1_rgb', 'Sleep35_id4_Act3_rgb', 'Sleep9_id4_Act3_rgb'],\n",
        "    ['Write6_id1_Act1_rgb', 'Write30_id1_Act1_rgb', 'Write20_id1_Act1_rgb', 'Write12_id1_Act1_rgb', 'Write24_id1_Act1_rgb', 'Write7_id1_Act1_rgb', 'Write34_id1_Act1_rgb', 'Write7_id1_Act1_rgb', 'Write7_id1_Act1_rgb', 'Write17_id1_Act1_rgb', 'Write3_id1_Act1_rgb', 'Write30_id1_Act1_rgb', 'Write41_id1_Act1_rgb', 'Write9_id1_Act1_rgb', 'Write12_id1_Act1_rgb', 'Write24_id1_Act1_rgb', 'Write6_id1_Act1_rgb', 'Write30_id1_Act1_rgb', 'Write34_id1_Act1_rgb', 'Write29_id1_Act1_rgb', 'Write7_id1_Act1_rgb', 'Write3_id1_Act1_rgb', 'Write7_id1_Act1_rgb', 'Write27_id1_Act1_rgb', 'Write6_id1_Act1_rgb', 'Write8_id1_Act1_rgb', 'Write38_id1_Act1_rgb', 'Write2_id1_Act1_rgb', 'Write16_id1_Act1_rgb', 'Write30_id1_Act1_rgb', 'Write7_id1_Act1_rgb', 'Write30_id1_Act1_rgb', 'Write8_id1_Act1_rgb', 'Write38_id1_Act1_rgb', 'Write12_id1_Act1_rgb', 'Write41_id1_Act1_rgb', 'Write9_id2_Act1_rgb', 'Write40_id2_Act1_rgb', 'Write12_id2_Act1_rgb', 'Write17_id2_Act1_rgb', 'Write3_id2_Act1_rgb', 'Write16_id2_Act1_rgb', 'Write21_id2_Act1_rgb', 'Write25_id2_Act1_rgb', 'Write44_id2_Act1_rgb', 'Write41_id2_Act1_rgb', 'Write22_id2_Act1_rgb', 'Write14_id2_Act1_rgb', 'Write34_id2_Act1_rgb', 'Write21_id2_Act1_rgb', 'Write26_id2_Act1_rgb', 'Write15_id2_Act1_rgb', 'Write3_id2_Act1_rgb', 'Write32_id2_Act1_rgb', 'Write40_id2_Act1_rgb', 'Write36_id2_Act1_rgb', 'Write12_id2_Act1_rgb', 'Write12_id2_Act1_rgb', 'Write6_id2_Act1_rgb', 'Write25_id2_Act1_rgb', 'Write22_id2_Act1_rgb', 'Write44_id2_Act1_rgb', 'Write32_id2_Act2_rgb', 'Write5_id2_Act1_rgb', 'Write21_id2_Act1_rgb', 'Write20_id2_Act1_rgb', 'Write13_id2_Act1_rgb', 'Write24_id2_Act1_rgb', 'Write27_id2_Act1_rgb', 'Write3_id2_Act1_rgb', 'Write40_id2_Act1_rgb', 'Write29_id2_Act1_rgb', 'Write35_id3_Act1_rgb', 'Write29_id3_Act1_rgb', 'Write27_id3_Act2_rgb', 'Write13_id3_Act1_rgb', 'Write41_id3_Act1_rgb', 'Write26_id3_Act1_rgb', 'Write3_id3_Act1_rgb', 'Write41_id3_Act1_rgb', 'Write18_id3_Act1_rgb', 'Write16_id3_Act1_rgb', 'Write42_id3_Act1_rgb', 'Write19_id3_Act1_rgb', 'Write28_id3_Act1_rgb', 'Write23_id3_Act1_rgb', 'Write4_id3_Act1_rgb', 'Write10_id3_Act1_rgb', 'Write2_id3_Act1_rgb', 'Write42_id3_Act1_rgb', 'Write16_id3_Act1_rgb', 'Write36_id3_Act1_rgb', 'Write40_id3_Act1_rgb', 'Write35_id3_Act1_rgb', 'Write41_id3_Act1_rgb', 'Write29_id3_Act1_rgb', 'Write17_id3_Act1_rgb', 'Write14_id3_Act1_rgb', 'Write40_id3_Act1_rgb', 'Write23_id3_Act1_rgb', 'Write26_id3_Act1_rgb', 'Write22_id3_Act1_rgb', 'Write32_id3_Act1_rgb', 'Write38_id3_Act1_rgb', 'Write39_id3_Act1_rgb', 'Write7_id3_Act1_rgb', 'Write44_id3_Act1_rgb', 'Write16_id3_Act1_rgb', 'Write12_id4_Act1_rgb', 'Write18_id4_Act1_rgb', 'Write20_id4_Act1_rgb', 'Write15_id4_Act1_rgb', 'Write23_id4_Act1_rgb', 'Write8_id4_Act1_rgb', 'Write16_id4_Act1_rgb', 'Write18_id4_Act1_rgb', 'Write9_id4_Act1_rgb', 'Write44_id4_Act1_rgb', 'Write20_id4_Act1_rgb', 'Write6_id4_Act2_rgb', 'Write9_id4_Act1_rgb', 'Write38_id4_Act1_rgb', 'Write31_id4_Act1_rgb', 'Write6_id4_Act2_rgb', 'Write9_id4_Act1_rgb', 'Write9_id4_Act1_rgb', 'Write3_id4_Act1_rgb', 'Write24_id4_Act1_rgb', 'Write40_id4_Act1_rgb', 'Write8_id4_Act1_rgb', 'Write31_id4_Act1_rgb', 'Write33_id4_Act1_rgb', 'Write28_id4_Act1_rgb', 'Write39_id4_Act1_rgb', 'Write21_id4_Act1_rgb', 'Write43_id4_Act1_rgb', 'Write31_id4_Act1_rgb', 'Write14_id4_Act1_rgb', 'Write6_id4_Act2_rgb', 'Write40_id4_Act1_rgb', 'Write14_id4_Act1_rgb', 'Write28_id4_Act1_rgb', 'Write24_id4_Act1_rgb', 'Write44_id4_Act1_rgb']\n",
        "]"
      ]
    },
    {
      "cell_type": "code",
      "execution_count": null,
      "metadata": {
        "execution": {
          "iopub.execute_input": "2024-02-01T13:29:45.260072Z",
          "iopub.status.busy": "2024-02-01T13:29:45.259689Z",
          "iopub.status.idle": "2024-02-01T13:29:45.273826Z",
          "shell.execute_reply": "2024-02-01T13:29:45.273048Z",
          "shell.execute_reply.started": "2024-02-01T13:29:45.260045Z"
        },
        "id": "plzAV-i5bn2V",
        "trusted": true
      },
      "outputs": [],
      "source": [
        "# Updated paths for local execution\n",
        "root_paths = [\n",
        "    './data/Behaviors_Features/Raising_Hand',\n",
        "    './data/Behaviors_Features/Reading',\n",
        "    './data/Behaviors_Features/Sleeping',\n",
        "    './data/Behaviors_Features/Writting'\n",
        "]\n",
        "\n",
        "# Check if data directories exist\n",
        "import os\n",
        "for path in root_paths:\n",
        "    if not os.path.exists(path):\n",
        "        print(f\"WARNING: Data directory not found: {path}\")\n",
        "        print(\"Please download the dataset and place it in the correct directory structure\")\n",
        "    else:\n",
        "        print(f\"✓ Found data directory: {path}\")"
      ]
    },
    {
      "cell_type": "code",
      "execution_count": null,
      "metadata": {
        "execution": {
          "iopub.execute_input": "2024-01-31T11:43:42.526983Z",
          "iopub.status.busy": "2024-01-31T11:43:42.526598Z",
          "iopub.status.idle": "2024-01-31T11:43:42.532921Z",
          "shell.execute_reply": "2024-01-31T11:43:42.531986Z",
          "shell.execute_reply.started": "2024-01-31T11:43:42.526952Z"
        },
        "id": "8ELOcQb4bn2V",
        "trusted": true
      },
      "outputs": [],
      "source": [
        "# Update test dataset paths for local execution\n",
        "for i in range(len(test_dataset)):\n",
        "    for j in range(len(test_dataset[i])):\n",
        "        # Extract the folder name and convert to local path\n",
        "        folder_name = test_dataset[i][j].split('_')[1].replace('id', 'ID')\n",
        "        img_path = root_paths[i] + '/' + folder_name + '/' + test_dataset[i][j]\n",
        "        test_dataset[i][j] = img_path"
      ]
    },
    {
      "cell_type": "code",
      "execution_count": null,
      "metadata": {
        "execution": {
          "iopub.execute_input": "2024-01-31T11:43:44.813587Z",
          "iopub.status.busy": "2024-01-31T11:43:44.813232Z",
          "iopub.status.idle": "2024-01-31T11:43:44.822542Z",
          "shell.execute_reply": "2024-01-31T11:43:44.821182Z",
          "shell.execute_reply.started": "2024-01-31T11:43:44.813561Z"
        },
        "id": "N6xsjGnGbn2W",
        "trusted": true
      },
      "outputs": [],
      "source": [
        "# Update train/validation dataset paths for local execution\n",
        "for i in range(len(train_valid_data)):\n",
        "    for j in range(len(train_valid_data[i])):\n",
        "        # Extract the folder name and convert to local path\n",
        "        folder_name = train_valid_data[i][j].split('_')[1].replace('id', 'ID')\n",
        "        img_path = root_paths[i] + '/' + folder_name + '/' + train_valid_data[i][j]\n",
        "        train_valid_data[i][j] = img_path"
      ]
    },
    {
      "cell_type": "code",
      "execution_count": null,
      "metadata": {},
      "outputs": [],
      "source": [
        "# Function to convert Kaggle paths to local paths\n",
        "def convert_kaggle_to_local_paths(dataset_list):\n",
        "    \"\"\"Convert Kaggle paths to local paths\"\"\"\n",
        "    converted_dataset = []\n",
        "    for i, class_data in enumerate(dataset_list):\n",
        "        converted_class = []\n",
        "        for path in class_data:\n",
        "            # Extract the relative path from Kaggle path\n",
        "            if '/kaggle/input/classroom-student-behaviors/Behaviors_Features/' in path:\n",
        "                relative_path = path.replace('/kaggle/input/classroom-student-behaviors/Behaviors_Features/', './data/Behaviors_Features/')\n",
        "                converted_class.append(relative_path)\n",
        "            else:\n",
        "                converted_class.append(path)\n",
        "        converted_dataset.append(converted_class)\n",
        "    return converted_dataset\n",
        "\n",
        "# Convert test_dataset paths\n",
        "test_dataset = convert_kaggle_to_local_paths(test_dataset)\n",
        "print(\"✓ Converted test_dataset paths to local format\")\n",
        "\n",
        "# Convert train_valid_data paths  \n",
        "train_valid_data = convert_kaggle_to_local_paths(train_valid_data)\n",
        "print(\"✓ Converted train_valid_data paths to local format\")\n"
      ]
    },
    {
      "cell_type": "code",
      "execution_count": null,
      "metadata": {},
      "outputs": [],
      "source": [
        "# Create directory structure for local execution\n",
        "import os\n",
        "\n",
        "# Create the data directory structure\n",
        "data_dirs = [\n",
        "    './data/Behaviors_Features/Raising_Hand',\n",
        "    './data/Behaviors_Features/Reading', \n",
        "    './data/Behaviors_Features/Sleeping',\n",
        "    './data/Behaviors_Features/Writting'\n",
        "]\n",
        "\n",
        "# Create ID subdirectories for each class\n",
        "id_dirs = ['ID1', 'ID2', 'ID3', 'ID4']\n",
        "\n",
        "print(\"Creating directory structure...\")\n",
        "for data_dir in data_dirs:\n",
        "    os.makedirs(data_dir, exist_ok=True)\n",
        "    print(f\"✓ Created: {data_dir}\")\n",
        "    \n",
        "    for id_dir in id_dirs:\n",
        "        id_path = os.path.join(data_dir, id_dir)\n",
        "        os.makedirs(id_path, exist_ok=True)\n",
        "        print(f\"  ✓ Created: {id_path}\")\n",
        "\n",
        "print(\"\\n\" + \"=\"*60)\n",
        "print(\"SETUP INSTRUCTIONS:\")\n",
        "print(\"=\"*60)\n",
        "print(\"1. Download the dataset from Kaggle:\")\n",
        "print(\"   - Dataset: 'phamluhuynhmai/classroom-student-behaviors'\")\n",
        "print(\"   - Place the 'Behaviors_Features' folder in './data/' directory\")\n",
        "print(\"2. The directory structure should be:\")\n",
        "print(\"   ./data/Behaviors_Features/\")\n",
        "print(\"   ├── Raising_Hand/\")\n",
        "print(\"   │   ├── ID1/\")\n",
        "print(\"   │   ├── ID2/\")\n",
        "print(\"   │   ├── ID3/\")\n",
        "print(\"   │   └── ID4/\")\n",
        "print(\"   ├── Reading/\")\n",
        "print(\"   │   ├── ID1/\")\n",
        "print(\"   │   ├── ID2/\")\n",
        "print(\"   │   ├── ID3/\")\n",
        "print(\"   │   └── ID4/\")\n",
        "print(\"   ├── Sleeping/\")\n",
        "print(\"   │   ├── ID1/\")\n",
        "print(\"   │   ├── ID2/\")\n",
        "print(\"   │   ├── ID3/\")\n",
        "print(\"   │   └── ID4/\")\n",
        "print(\"   └── Writting/\")\n",
        "print(\"       ├── ID1/\")\n",
        "print(\"       ├── ID2/\")\n",
        "print(\"       ├── ID3/\")\n",
        "print(\"       └── ID4/\")\n",
        "print(\"=\"*60)\n"
      ]
    },
    {
      "cell_type": "code",
      "execution_count": null,
      "metadata": {},
      "outputs": [],
      "source": [
        "# Check if data files exist and provide helpful error messages\n",
        "def check_data_availability():\n",
        "    \"\"\"Check if the required data files exist\"\"\"\n",
        "    print(\"Checking data availability...\")\n",
        "    \n",
        "    # Check if any files exist in the data directories\n",
        "    data_found = False\n",
        "    missing_dirs = []\n",
        "    \n",
        "    for root_path in root_paths:\n",
        "        if os.path.exists(root_path):\n",
        "            # Check if there are any files in subdirectories\n",
        "            has_files = False\n",
        "            for root, dirs, files in os.walk(root_path):\n",
        "                if files:\n",
        "                    has_files = True\n",
        "                    data_found = True\n",
        "                    break\n",
        "            \n",
        "            if not has_files:\n",
        "                missing_dirs.append(root_path)\n",
        "        else:\n",
        "            missing_dirs.append(root_path)\n",
        "    \n",
        "    if data_found:\n",
        "        print(\"✓ Data files found!\")\n",
        "        print(\"You can proceed with the notebook execution.\")\n",
        "    else:\n",
        "        print(\"❌ No data files found!\")\n",
        "        print(\"\\nTo fix this issue:\")\n",
        "        print(\"1. Download the dataset from Kaggle:\")\n",
        "        print(\"   https://www.kaggle.com/datasets/phamluhuynhmai/classroom-student-behaviors\")\n",
        "        print(\"2. Extract the dataset and place the 'Behaviors_Features' folder in './data/' directory\")\n",
        "        print(\"3. The structure should be: ./data/Behaviors_Features/[class]/[ID]/[files]\")\n",
        "        \n",
        "        if missing_dirs:\n",
        "            print(f\"\\nMissing directories: {missing_dirs}\")\n",
        "    \n",
        "    return data_found\n",
        "\n",
        "# Run the check\n",
        "data_available = check_data_availability()\n"
      ]
    },
    {
      "cell_type": "code",
      "execution_count": null,
      "metadata": {},
      "outputs": [],
      "source": []
    },
    {
      "cell_type": "code",
      "execution_count": null,
      "metadata": {
        "execution": {
          "iopub.execute_input": "2024-01-31T11:43:46.226585Z",
          "iopub.status.busy": "2024-01-31T11:43:46.22595Z",
          "iopub.status.idle": "2024-01-31T11:43:46.231216Z",
          "shell.execute_reply": "2024-01-31T11:43:46.230298Z",
          "shell.execute_reply.started": "2024-01-31T11:43:46.226553Z"
        },
        "id": "6oEUNoY0bn2W",
        "trusted": true
      },
      "outputs": [],
      "source": [
        "test_dataset = list(np.array(test_dataset).flatten())"
      ]
    },
    {
      "cell_type": "code",
      "execution_count": null,
      "metadata": {
        "execution": {
          "iopub.execute_input": "2024-01-31T11:43:47.666855Z",
          "iopub.status.busy": "2024-01-31T11:43:47.66648Z",
          "iopub.status.idle": "2024-01-31T11:43:47.672722Z",
          "shell.execute_reply": "2024-01-31T11:43:47.671686Z",
          "shell.execute_reply.started": "2024-01-31T11:43:47.666825Z"
        },
        "id": "-uyyZSPcbn2W",
        "trusted": true
      },
      "outputs": [],
      "source": [
        "train_valid_data = list(np.array(train_valid_data).flatten())"
      ]
    },
    {
      "cell_type": "code",
      "execution_count": null,
      "metadata": {
        "execution": {
          "iopub.execute_input": "2024-02-01T13:33:05.209337Z",
          "iopub.status.busy": "2024-02-01T13:33:05.208962Z",
          "iopub.status.idle": "2024-02-01T13:33:05.214462Z",
          "shell.execute_reply": "2024-02-01T13:33:05.213445Z",
          "shell.execute_reply.started": "2024-02-01T13:33:05.209311Z"
        },
        "id": "hfvXW1jkbn2W",
        "trusted": true
      },
      "outputs": [],
      "source": [
        "yte = [0 for i in range(0, 36)] + [1 for i in range(0, 36)] + [2 for i in range(0, 36)] + [3 for i in range(0, 36)]"
      ]
    },
    {
      "cell_type": "code",
      "execution_count": null,
      "metadata": {
        "execution": {
          "iopub.execute_input": "2024-02-01T13:33:07.166193Z",
          "iopub.status.busy": "2024-02-01T13:33:07.165222Z",
          "iopub.status.idle": "2024-02-01T13:33:07.170099Z",
          "shell.execute_reply": "2024-02-01T13:33:07.169204Z",
          "shell.execute_reply.started": "2024-02-01T13:33:07.166159Z"
        },
        "id": "4M6z-Ddzbn2W",
        "trusted": true
      },
      "outputs": [],
      "source": [
        "yte = np.array(yte).flatten()"
      ]
    },
    {
      "cell_type": "code",
      "execution_count": null,
      "metadata": {
        "execution": {
          "iopub.execute_input": "2024-02-01T13:33:16.122977Z",
          "iopub.status.busy": "2024-02-01T13:33:16.122254Z",
          "iopub.status.idle": "2024-02-01T13:33:16.129904Z",
          "shell.execute_reply": "2024-02-01T13:33:16.129Z",
          "shell.execute_reply.started": "2024-02-01T13:33:16.122944Z"
        },
        "id": "gQNiZDNXbn2W",
        "trusted": true
      },
      "outputs": [],
      "source": [
        "yte"
      ]
    },
    {
      "cell_type": "code",
      "execution_count": null,
      "metadata": {
        "execution": {
          "iopub.execute_input": "2024-01-31T11:43:54.129274Z",
          "iopub.status.busy": "2024-01-31T11:43:54.128864Z",
          "iopub.status.idle": "2024-01-31T11:43:54.149174Z",
          "shell.execute_reply": "2024-01-31T11:43:54.148163Z",
          "shell.execute_reply.started": "2024-01-31T11:43:54.129239Z"
        },
        "id": "pO3FC_xrbn2W",
        "trusted": true
      },
      "outputs": [],
      "source": [
        "train_valid_data"
      ]
    },
    {
      "cell_type": "code",
      "execution_count": null,
      "metadata": {
        "execution": {
          "iopub.execute_input": "2024-01-31T11:43:56.270828Z",
          "iopub.status.busy": "2024-01-31T11:43:56.269972Z",
          "iopub.status.idle": "2024-01-31T11:43:56.276142Z",
          "shell.execute_reply": "2024-01-31T11:43:56.27497Z",
          "shell.execute_reply.started": "2024-01-31T11:43:56.270791Z"
        },
        "id": "D9nVvnBibn2W",
        "trusted": true
      },
      "outputs": [],
      "source": [
        "ytr = [0 for i in range(0, 144)] + [1 for i in range(0, 144)] + [2 for i in range(0, 144)] + [3 for i in range(0, 144)]"
      ]
    },
    {
      "cell_type": "code",
      "execution_count": null,
      "metadata": {
        "id": "8b3EwFq3bn2W",
        "trusted": true
      },
      "outputs": [],
      "source": [
        "ytr"
      ]
    },
    {
      "cell_type": "code",
      "execution_count": null,
      "metadata": {
        "execution": {
          "iopub.execute_input": "2024-01-31T11:43:58.973186Z",
          "iopub.status.busy": "2024-01-31T11:43:58.972271Z",
          "iopub.status.idle": "2024-01-31T11:43:58.977687Z",
          "shell.execute_reply": "2024-01-31T11:43:58.976621Z",
          "shell.execute_reply.started": "2024-01-31T11:43:58.973107Z"
        },
        "id": "tv8fuRMtbn2W",
        "trusted": true
      },
      "outputs": [],
      "source": [
        "ytr = np.array(ytr).flatten()"
      ]
    },
    {
      "cell_type": "code",
      "execution_count": null,
      "metadata": {
        "execution": {
          "iopub.execute_input": "2024-01-31T11:44:00.268587Z",
          "iopub.status.busy": "2024-01-31T11:44:00.267979Z",
          "iopub.status.idle": "2024-01-31T11:44:00.274554Z",
          "shell.execute_reply": "2024-01-31T11:44:00.273675Z",
          "shell.execute_reply.started": "2024-01-31T11:44:00.268552Z"
        },
        "id": "wsa4m_ggbn2X",
        "trusted": true
      },
      "outputs": [],
      "source": [
        "train_dataset, validation_dataset, ytr, yval = train_test_split(train_valid_data, ytr, shuffle=True, test_size=0.2, random_state=42)"
      ]
    },
    {
      "cell_type": "code",
      "execution_count": null,
      "metadata": {
        "execution": {
          "iopub.execute_input": "2024-02-01T17:21:41.923726Z",
          "iopub.status.busy": "2024-02-01T17:21:41.923353Z",
          "iopub.status.idle": "2024-02-01T17:21:41.942972Z",
          "shell.execute_reply": "2024-02-01T17:21:41.941859Z",
          "shell.execute_reply.started": "2024-02-01T17:21:41.923694Z"
        },
        "id": "CawmwMXJbn2X",
        "trusted": true
      },
      "outputs": [],
      "source": [
        "test_dataset = ['/kaggle/input/classroom-student-behaviors/Behaviors_Features/Raising_Hand/ID1/Hand2_id1_Act1_rgb',\n",
        " '/kaggle/input/classroom-student-behaviors/Behaviors_Features/Raising_Hand/ID1/Hand5_id1_Act1_rgb',\n",
        " '/kaggle/input/classroom-student-behaviors/Behaviors_Features/Raising_Hand/ID1/Hand38_id1_Act1_rgb',\n",
        " '/kaggle/input/classroom-student-behaviors/Behaviors_Features/Raising_Hand/ID1/Hand13_id1_Act1_rgb',\n",
        " '/kaggle/input/classroom-student-behaviors/Behaviors_Features/Raising_Hand/ID2/Hand33_id2_Act1_rgb',\n",
        " '/kaggle/input/classroom-student-behaviors/Behaviors_Features/Raising_Hand/ID1/Hand23_id1_Act2_rgb',\n",
        " '/kaggle/input/classroom-student-behaviors/Behaviors_Features/Raising_Hand/ID1/Hand4_id1_Act1_rgb',\n",
        " '/kaggle/input/classroom-student-behaviors/Behaviors_Features/Raising_Hand/ID1/Hand29_id1_Act1_rgb',\n",
        " '/kaggle/input/classroom-student-behaviors/Behaviors_Features/Raising_Hand/ID1/Hand19_id1_Act1_rgb',\n",
        " '/kaggle/input/classroom-student-behaviors/Behaviors_Features/Raising_Hand/ID1/Hand3_id1_Act1_rgb',\n",
        " '/kaggle/input/classroom-student-behaviors/Behaviors_Features/Raising_Hand/ID2/Hand18_id2_Act1_rgb',\n",
        " '/kaggle/input/classroom-student-behaviors/Behaviors_Features/Raising_Hand/ID3/Hand21_id3_Act1_rgb',\n",
        " '/kaggle/input/classroom-student-behaviors/Behaviors_Features/Raising_Hand/ID2/Hand32_id2_Act1_rgb',\n",
        " '/kaggle/input/classroom-student-behaviors/Behaviors_Features/Raising_Hand/ID4/Hand7_id4_Act1_rgb',\n",
        " '/kaggle/input/classroom-student-behaviors/Behaviors_Features/Raising_Hand/ID2/Hand1_id2_Act1_rgb',\n",
        " '/kaggle/input/classroom-student-behaviors/Behaviors_Features/Raising_Hand/ID2/Hand1_id2_Act2_rgb',\n",
        " '/kaggle/input/classroom-student-behaviors/Behaviors_Features/Raising_Hand/ID2/Hand24_id2_Act1_rgb',\n",
        " '/kaggle/input/classroom-student-behaviors/Behaviors_Features/Raising_Hand/ID2/Hand7_id2_Act1_rgb',\n",
        " '/kaggle/input/classroom-student-behaviors/Behaviors_Features/Raising_Hand/ID2/Hand37_id2_Act1_rgb',\n",
        " '/kaggle/input/classroom-student-behaviors/Behaviors_Features/Raising_Hand/ID2/Hand1_id2_Act3_rgb',\n",
        " '/kaggle/input/classroom-student-behaviors/Behaviors_Features/Raising_Hand/ID2/Hand29_id2_Act1_rgb',\n",
        " '/kaggle/input/classroom-student-behaviors/Behaviors_Features/Raising_Hand/ID2/Hand11_id2_Act1_rgb',\n",
        " '/kaggle/input/classroom-student-behaviors/Behaviors_Features/Raising_Hand/ID2/Hand5_id2_Act1_rgb',\n",
        " '/kaggle/input/classroom-student-behaviors/Behaviors_Features/Raising_Hand/ID2/Hand40_id2_Act2_rgb',\n",
        " '/kaggle/input/classroom-student-behaviors/Behaviors_Features/Raising_Hand/ID2/Hand20_id2_Act1_rgb',\n",
        " '/kaggle/input/classroom-student-behaviors/Behaviors_Features/Raising_Hand/ID2/Hand4_id2_Act1_rgb',\n",
        " '/kaggle/input/classroom-student-behaviors/Behaviors_Features/Raising_Hand/ID3/Hand26_id3_Act1_rgb',\n",
        " '/kaggle/input/classroom-student-behaviors/Behaviors_Features/Raising_Hand/ID3/Hand22_id3_Act1_rgb',\n",
        " '/kaggle/input/classroom-student-behaviors/Behaviors_Features/Raising_Hand/ID3/Hand34_id3_Act1_rgb',\n",
        " '/kaggle/input/classroom-student-behaviors/Behaviors_Features/Raising_Hand/ID3/Hand23_id3_Act1_rgb',\n",
        " '/kaggle/input/classroom-student-behaviors/Behaviors_Features/Raising_Hand/ID3/Hand39_id3_Act1_rgb',\n",
        " '/kaggle/input/classroom-student-behaviors/Behaviors_Features/Raising_Hand/ID3/Hand14_id3_Act1_rgb',\n",
        " '/kaggle/input/classroom-student-behaviors/Behaviors_Features/Raising_Hand/ID3/Hand16_id3_Act1_rgb',\n",
        " '/kaggle/input/classroom-student-behaviors/Behaviors_Features/Raising_Hand/ID3/Hand25_id3_Act1_rgb',\n",
        " '/kaggle/input/classroom-student-behaviors/Behaviors_Features/Raising_Hand/ID4/Hand33_id4_Act1_rgb',\n",
        " '/kaggle/input/classroom-student-behaviors/Behaviors_Features/Raising_Hand/ID2/Hand21_id2_Act1_rgb',\n",
        " '/kaggle/input/classroom-student-behaviors/Behaviors_Features/Reading/ID1/Read54_id1_Act6_rgb',\n",
        " '/kaggle/input/classroom-student-behaviors/Behaviors_Features/Reading/ID2/Read38_id2_Act9_rgb',\n",
        " '/kaggle/input/classroom-student-behaviors/Behaviors_Features/Reading/ID2/Read28_id2_Act9_rgb',\n",
        " '/kaggle/input/classroom-student-behaviors/Behaviors_Features/Reading/ID1/Read45_id1_Act8_rgb',\n",
        " '/kaggle/input/classroom-student-behaviors/Behaviors_Features/Reading/ID1/Read61_id1_Act4_rgb',\n",
        " '/kaggle/input/classroom-student-behaviors/Behaviors_Features/Reading/ID1/Read58_id1_Act8_rgb',\n",
        " '/kaggle/input/classroom-student-behaviors/Behaviors_Features/Reading/ID1/Read45_id1_Act1_rgb',\n",
        " '/kaggle/input/classroom-student-behaviors/Behaviors_Features/Reading/ID1/Read49_id1_Act6_rgb',\n",
        " '/kaggle/input/classroom-student-behaviors/Behaviors_Features/Reading/ID1/Read60_id1_Act8_rgb',\n",
        " '/kaggle/input/classroom-student-behaviors/Behaviors_Features/Reading/ID4/Read19_id4_Act9_rgb',\n",
        " '/kaggle/input/classroom-student-behaviors/Behaviors_Features/Reading/ID1/Read48_id1_Act4_rgb',\n",
        " '/kaggle/input/classroom-student-behaviors/Behaviors_Features/Reading/ID2/Read12_id2_Act8_rgb',\n",
        " '/kaggle/input/classroom-student-behaviors/Behaviors_Features/Reading/ID2/Read7_id2_Act3_rgb',\n",
        " '/kaggle/input/classroom-student-behaviors/Behaviors_Features/Reading/ID2/Read6_id2_Act10_rgb',\n",
        " '/kaggle/input/classroom-student-behaviors/Behaviors_Features/Reading/ID2/Read24_id2_Act10_rgb',\n",
        " '/kaggle/input/classroom-student-behaviors/Behaviors_Features/Reading/ID2/Read17_id2_Act2_rgb',\n",
        " '/kaggle/input/classroom-student-behaviors/Behaviors_Features/Reading/ID2/Read53_id2_Act3_rgb',\n",
        " '/kaggle/input/classroom-student-behaviors/Behaviors_Features/Reading/ID2/Read36_id2_Act3_rgb',\n",
        " '/kaggle/input/classroom-student-behaviors/Behaviors_Features/Reading/ID4/Read49_id4_Act7_rgb',\n",
        " '/kaggle/input/classroom-student-behaviors/Behaviors_Features/Reading/ID2/Read27_id2_Act2_rgb',\n",
        " '/kaggle/input/classroom-student-behaviors/Behaviors_Features/Reading/ID4/Read36_id4_Act1_rgb',\n",
        " '/kaggle/input/classroom-student-behaviors/Behaviors_Features/Reading/ID4/Read25_id4_Act3_rgb',\n",
        " '/kaggle/input/classroom-student-behaviors/Behaviors_Features/Reading/ID2/Read21_id2_Act1_rgb',\n",
        " '/kaggle/input/classroom-student-behaviors/Behaviors_Features/Reading/ID2/Read5_id2_Act3_rgb',\n",
        " '/kaggle/input/classroom-student-behaviors/Behaviors_Features/Reading/ID2/Read57_id2_Act2_rgb',\n",
        " '/kaggle/input/classroom-student-behaviors/Behaviors_Features/Reading/ID2/Read11_id2_Act2_rgb',\n",
        " '/kaggle/input/classroom-student-behaviors/Behaviors_Features/Reading/ID2/Read28_id2_Act9_rgb',\n",
        " '/kaggle/input/classroom-student-behaviors/Behaviors_Features/Reading/ID4/Read49_id4_Act2_rgb',\n",
        " '/kaggle/input/classroom-student-behaviors/Behaviors_Features/Reading/ID2/Read26_id2_Act1_rgb',\n",
        " '/kaggle/input/classroom-student-behaviors/Behaviors_Features/Reading/ID3/Read1_id3_Act3_rgb',\n",
        " '/kaggle/input/classroom-student-behaviors/Behaviors_Features/Reading/ID2/Read46_id2_Act2_rgb',\n",
        " '/kaggle/input/classroom-student-behaviors/Behaviors_Features/Reading/ID2/Read63_id2_Act8_rgb',\n",
        " '/kaggle/input/classroom-student-behaviors/Behaviors_Features/Reading/ID2/Read31_id2_Act4_rgb',\n",
        " '/kaggle/input/classroom-student-behaviors/Behaviors_Features/Reading/ID2/Read9_id2_Act9_rgb',\n",
        " '/kaggle/input/classroom-student-behaviors/Behaviors_Features/Reading/ID3/Read13_id3_Act10_rgb',\n",
        " '/kaggle/input/classroom-student-behaviors/Behaviors_Features/Reading/ID3/Read15_id3_Act1_rgb',\n",
        " '/kaggle/input/classroom-student-behaviors/Behaviors_Features/Sleeping/ID1/Sleep37_id1_Act2_rgb',\n",
        " '/kaggle/input/classroom-student-behaviors/Behaviors_Features/Sleeping/ID1/Sleep42_id1_Act3_rgb',\n",
        " '/kaggle/input/classroom-student-behaviors/Behaviors_Features/Sleeping/ID1/Sleep43_id1_Act3_rgb',\n",
        " '/kaggle/input/classroom-student-behaviors/Behaviors_Features/Sleeping/ID3/Sleep20_id3_Act2_rgb',\n",
        " '/kaggle/input/classroom-student-behaviors/Behaviors_Features/Sleeping/ID1/Sleep30_id1_Act1_rgb',\n",
        " '/kaggle/input/classroom-student-behaviors/Behaviors_Features/Sleeping/ID1/Sleep43_id1_Act2_rgb',\n",
        " '/kaggle/input/classroom-student-behaviors/Behaviors_Features/Sleeping/ID3/Sleep14_id3_Act2_rgb',\n",
        " '/kaggle/input/classroom-student-behaviors/Behaviors_Features/Sleeping/ID1/Sleep1_id1_Act1_rgb',\n",
        " '/kaggle/input/classroom-student-behaviors/Behaviors_Features/Sleeping/ID2/Sleep19_id2_Act1_rgb',\n",
        " '/kaggle/input/classroom-student-behaviors/Behaviors_Features/Sleeping/ID1/Sleep30_id1_Act5_rgb',\n",
        " '/kaggle/input/classroom-student-behaviors/Behaviors_Features/Sleeping/ID1/Sleep40_id1_Act1_rgb',\n",
        " '/kaggle/input/classroom-student-behaviors/Behaviors_Features/Sleeping/ID3/Sleep4_id3_Act1_rgb',\n",
        " '/kaggle/input/classroom-student-behaviors/Behaviors_Features/Sleeping/ID1/Sleep44_id1_Act1_rgb',\n",
        " '/kaggle/input/classroom-student-behaviors/Behaviors_Features/Sleeping/ID1/Sleep9_id1_Act1_rgb',\n",
        " '/kaggle/input/classroom-student-behaviors/Behaviors_Features/Sleeping/ID1/Sleep20_id1_Act2_rgb',\n",
        " '/kaggle/input/classroom-student-behaviors/Behaviors_Features/Sleeping/ID2/Sleep29_id2_Act3_rgb',\n",
        " '/kaggle/input/classroom-student-behaviors/Behaviors_Features/Sleeping/ID3/Sleep20_id3_Act2_rgb',\n",
        " '/kaggle/input/classroom-student-behaviors/Behaviors_Features/Sleeping/ID3/Sleep14_id3_Act4_rgb',\n",
        " '/kaggle/input/classroom-student-behaviors/Behaviors_Features/Sleeping/ID1/Sleep36_id1_Act3_rgb',\n",
        " '/kaggle/input/classroom-student-behaviors/Behaviors_Features/Sleeping/ID4/Sleep15_id4_Act2_rgb',\n",
        " '/kaggle/input/classroom-student-behaviors/Behaviors_Features/Sleeping/ID3/Sleep15_id3_Act2_rgb',\n",
        " '/kaggle/input/classroom-student-behaviors/Behaviors_Features/Sleeping/ID1/Sleep10_id1_Act1_rgb',\n",
        " '/kaggle/input/classroom-student-behaviors/Behaviors_Features/Sleeping/ID1/Sleep37_id1_Act3_rgb',\n",
        " '/kaggle/input/classroom-student-behaviors/Behaviors_Features/Sleeping/ID2/Sleep26_id2_Act1_rgb',\n",
        " '/kaggle/input/classroom-student-behaviors/Behaviors_Features/Sleeping/ID2/Sleep14_id2_Act2_rgb',\n",
        " '/kaggle/input/classroom-student-behaviors/Behaviors_Features/Sleeping/ID2/Sleep12_id2_Act2_rgb',\n",
        " '/kaggle/input/classroom-student-behaviors/Behaviors_Features/Sleeping/ID2/Sleep29_id2_Act1_rgb',\n",
        " '/kaggle/input/classroom-student-behaviors/Behaviors_Features/Sleeping/ID2/Sleep34_id2_Act2_rgb',\n",
        " '/kaggle/input/classroom-student-behaviors/Behaviors_Features/Sleeping/ID2/Sleep39_id2_Act1_rgb',\n",
        " '/kaggle/input/classroom-student-behaviors/Behaviors_Features/Sleeping/ID3/Sleep26_id3_Act1_rgb',\n",
        " '/kaggle/input/classroom-student-behaviors/Behaviors_Features/Sleeping/ID4/Sleep15_id4_Act1_rgb',\n",
        " '/kaggle/input/classroom-student-behaviors/Behaviors_Features/Sleeping/ID3/Sleep38_id3_Act3_rgb',\n",
        " '/kaggle/input/classroom-student-behaviors/Behaviors_Features/Sleeping/ID3/Sleep9_id3_Act2_rgb',\n",
        " '/kaggle/input/classroom-student-behaviors/Behaviors_Features/Sleeping/ID1/Sleep30_id1_Act4_rgb',\n",
        " '/kaggle/input/classroom-student-behaviors/Behaviors_Features/Sleeping/ID2/Sleep21_id2_Act2_rgb',\n",
        " '/kaggle/input/classroom-student-behaviors/Behaviors_Features/Sleeping/ID4/Sleep28_id4_Act1_rgb',\n",
        " '/kaggle/input/classroom-student-behaviors/Behaviors_Features/Writting/ID1/Write14_id1_Act1_rgb',\n",
        " '/kaggle/input/classroom-student-behaviors/Behaviors_Features/Writting/ID1/Write5_id1_Act1_rgb',\n",
        " '/kaggle/input/classroom-student-behaviors/Behaviors_Features/Writting/ID1/Write26_id1_Act1_rgb',\n",
        " '/kaggle/input/classroom-student-behaviors/Behaviors_Features/Writting/ID1/Write36_id1_Act1_rgb',\n",
        " '/kaggle/input/classroom-student-behaviors/Behaviors_Features/Writting/ID1/Write13_id1_Act1_rgb',\n",
        " '/kaggle/input/classroom-student-behaviors/Behaviors_Features/Writting/ID1/Write39_id1_Act1_rgb',\n",
        " '/kaggle/input/classroom-student-behaviors/Behaviors_Features/Writting/ID1/Write10_id1_Act1_rgb',\n",
        " '/kaggle/input/classroom-student-behaviors/Behaviors_Features/Writting/ID1/Write15_id1_Act1_rgb',\n",
        " '/kaggle/input/classroom-student-behaviors/Behaviors_Features/Writting/ID1/Write42_id1_Act1_rgb',\n",
        " '/kaggle/input/classroom-student-behaviors/Behaviors_Features/Writting/ID1/Write32_id1_Act1_rgb',\n",
        " '/kaggle/input/classroom-student-behaviors/Behaviors_Features/Writting/ID2/Write21_id2_Act2_rgb',\n",
        " '/kaggle/input/classroom-student-behaviors/Behaviors_Features/Writting/ID2/Write38_id2_Act1_rgb',\n",
        " '/kaggle/input/classroom-student-behaviors/Behaviors_Features/Writting/ID2/Write2_id2_Act1_rgb',\n",
        " '/kaggle/input/classroom-student-behaviors/Behaviors_Features/Writting/ID2/Write30_id2_Act1_rgb',\n",
        " '/kaggle/input/classroom-student-behaviors/Behaviors_Features/Writting/ID2/Write22_id2_Act2_rgb',\n",
        " '/kaggle/input/classroom-student-behaviors/Behaviors_Features/Writting/ID3/Write15_id3_Act1_rgb',\n",
        " '/kaggle/input/classroom-student-behaviors/Behaviors_Features/Writting/ID3/Write45_id3_Act1_rgb',\n",
        " '/kaggle/input/classroom-student-behaviors/Behaviors_Features/Writting/ID3/Write21_id3_Act1_rgb',\n",
        " '/kaggle/input/classroom-student-behaviors/Behaviors_Features/Writting/ID3/Write37_id3_Act1_rgb',\n",
        " '/kaggle/input/classroom-student-behaviors/Behaviors_Features/Writting/ID3/Write12_id3_Act2_rgb',\n",
        " '/kaggle/input/classroom-student-behaviors/Behaviors_Features/Writting/ID3/Write4_id3_Act2_rgb',\n",
        " '/kaggle/input/classroom-student-behaviors/Behaviors_Features/Writting/ID3/Write5_id3_Act1_rgb',\n",
        " '/kaggle/input/classroom-student-behaviors/Behaviors_Features/Writting/ID3/Write12_id3_Act1_rgb',\n",
        " '/kaggle/input/classroom-student-behaviors/Behaviors_Features/Writting/ID3/Write27_id3_Act1_rgb',\n",
        " '/kaggle/input/classroom-student-behaviors/Behaviors_Features/Writting/ID3/Write33_id3_Act1_rgb',\n",
        " '/kaggle/input/classroom-student-behaviors/Behaviors_Features/Writting/ID3/Write11_id3_Act1_rgb',\n",
        " '/kaggle/input/classroom-student-behaviors/Behaviors_Features/Writting/ID3/Write31_id3_Act1_rgb',\n",
        " '/kaggle/input/classroom-student-behaviors/Behaviors_Features/Writting/ID4/Write27_id4_Act1_rgb',\n",
        " '/kaggle/input/classroom-student-behaviors/Behaviors_Features/Writting/ID4/Write2_id4_Act1_rgb',\n",
        " '/kaggle/input/classroom-student-behaviors/Behaviors_Features/Writting/ID4/Write7_id4_Act1_rgb',\n",
        " '/kaggle/input/classroom-student-behaviors/Behaviors_Features/Writting/ID4/Write42_id4_Act1_rgb',\n",
        " '/kaggle/input/classroom-student-behaviors/Behaviors_Features/Writting/ID4/Write5_id4_Act1_rgb',\n",
        " '/kaggle/input/classroom-student-behaviors/Behaviors_Features/Writting/ID4/Write3_id4_Act2_rgb',\n",
        " '/kaggle/input/classroom-student-behaviors/Behaviors_Features/Writting/ID4/Write45_id4_Act1_rgb',\n",
        " '/kaggle/input/classroom-student-behaviors/Behaviors_Features/Writting/ID4/Write10_id4_Act1_rgb',\n",
        " '/kaggle/input/classroom-student-behaviors/Behaviors_Features/Writting/ID4/Write6_id4_Act1_rgb']"
      ]
    },
    {
      "cell_type": "code",
      "execution_count": null,
      "metadata": {
        "execution": {
          "iopub.execute_input": "2024-02-01T17:21:48.134341Z",
          "iopub.status.busy": "2024-02-01T17:21:48.133973Z",
          "iopub.status.idle": "2024-02-01T17:21:48.149719Z",
          "shell.execute_reply": "2024-02-01T17:21:48.148649Z",
          "shell.execute_reply.started": "2024-02-01T17:21:48.134303Z"
        },
        "id": "b1_2dB3zbn2X",
        "trusted": true
      },
      "outputs": [],
      "source": [
        "validation_dataset = ['/kaggle/input/classroom-student-behaviors/Behaviors_Features/Reading/ID4/Read42_id4_Act2_rgb',\n",
        " '/kaggle/input/classroom-student-behaviors/Behaviors_Features/Raising_Hand/ID4/Hand30_id4_Act1_rgb',\n",
        " '/kaggle/input/classroom-student-behaviors/Behaviors_Features/Sleeping/ID2/Sleep16_id2_Act1_rgb',\n",
        " '/kaggle/input/classroom-student-behaviors/Behaviors_Features/Writting/ID2/Write13_id2_Act1_rgb',\n",
        " '/kaggle/input/classroom-student-behaviors/Behaviors_Features/Sleeping/ID4/Sleep13_id4_Act1_rgb',\n",
        " '/kaggle/input/classroom-student-behaviors/Behaviors_Features/Sleeping/ID4/Sleep31_id4_Act1_rgb',\n",
        " '/kaggle/input/classroom-student-behaviors/Behaviors_Features/Reading/ID4/Read16_id4_Act4_rgb',\n",
        " '/kaggle/input/classroom-student-behaviors/Behaviors_Features/Raising_Hand/ID2/Hand27_id2_Act1_rgb',\n",
        " '/kaggle/input/classroom-student-behaviors/Behaviors_Features/Raising_Hand/ID4/Hand24_id4_Act1_rgb',\n",
        " '/kaggle/input/classroom-student-behaviors/Behaviors_Features/Sleeping/ID3/Sleep12_id3_Act2_rgb',\n",
        " '/kaggle/input/classroom-student-behaviors/Behaviors_Features/Writting/ID2/Write12_id2_Act1_rgb',\n",
        " '/kaggle/input/classroom-student-behaviors/Behaviors_Features/Writting/ID1/Write24_id1_Act1_rgb',\n",
        " '/kaggle/input/classroom-student-behaviors/Behaviors_Features/Reading/ID4/Read4_id4_Act7_rgb',\n",
        " '/kaggle/input/classroom-student-behaviors/Behaviors_Features/Sleeping/ID2/Sleep41_id2_Act1_rgb',\n",
        " '/kaggle/input/classroom-student-behaviors/Behaviors_Features/Writting/ID3/Write32_id3_Act1_rgb',\n",
        " '/kaggle/input/classroom-student-behaviors/Behaviors_Features/Reading/ID3/Read12_id3_Act6_rgb',\n",
        " '/kaggle/input/classroom-student-behaviors/Behaviors_Features/Reading/ID4/Read52_id4_Act2_rgb',\n",
        " '/kaggle/input/classroom-student-behaviors/Behaviors_Features/Raising_Hand/ID3/Hand27_id3_Act1_rgb',\n",
        " '/kaggle/input/classroom-student-behaviors/Behaviors_Features/Writting/ID3/Write40_id3_Act1_rgb',\n",
        " '/kaggle/input/classroom-student-behaviors/Behaviors_Features/Reading/ID3/Read18_id3_Act4_rgb',\n",
        " '/kaggle/input/classroom-student-behaviors/Behaviors_Features/Writting/ID4/Write39_id4_Act1_rgb',\n",
        " '/kaggle/input/classroom-student-behaviors/Behaviors_Features/Raising_Hand/ID4/Hand38_id4_Act1_rgb',\n",
        " '/kaggle/input/classroom-student-behaviors/Behaviors_Features/Sleeping/ID4/Sleep14_id4_Act1_rgb',\n",
        " '/kaggle/input/classroom-student-behaviors/Behaviors_Features/Reading/ID4/Read20_id4_Act3_rgb',\n",
        " '/kaggle/input/classroom-student-behaviors/Behaviors_Features/Writting/ID3/Write42_id3_Act1_rgb',\n",
        " '/kaggle/input/classroom-student-behaviors/Behaviors_Features/Reading/ID3/Read19_id3_Act3_rgb',\n",
        " '/kaggle/input/classroom-student-behaviors/Behaviors_Features/Reading/ID4/Read48_id4_Act4_rgb',\n",
        " '/kaggle/input/classroom-student-behaviors/Behaviors_Features/Sleeping/ID4/Sleep13_id4_Act3_rgb',\n",
        " '/kaggle/input/classroom-student-behaviors/Behaviors_Features/Reading/ID4/Read35_id4_Act1_rgb',\n",
        " '/kaggle/input/classroom-student-behaviors/Behaviors_Features/Raising_Hand/ID3/Hand4_id3_Act2_rgb',\n",
        " '/kaggle/input/classroom-student-behaviors/Behaviors_Features/Writting/ID4/Write40_id4_Act1_rgb',\n",
        " '/kaggle/input/classroom-student-behaviors/Behaviors_Features/Writting/ID3/Write28_id3_Act1_rgb',\n",
        " '/kaggle/input/classroom-student-behaviors/Behaviors_Features/Writting/ID1/Write24_id1_Act1_rgb',\n",
        " '/kaggle/input/classroom-student-behaviors/Behaviors_Features/Writting/ID3/Write16_id3_Act1_rgb',\n",
        " '/kaggle/input/classroom-student-behaviors/Behaviors_Features/Reading/ID4/Read55_id4_Act2_rgb',\n",
        " '/kaggle/input/classroom-student-behaviors/Behaviors_Features/Raising_Hand/ID3/Hand37_id3_Act2_rgb',\n",
        " '/kaggle/input/classroom-student-behaviors/Behaviors_Features/Raising_Hand/ID1/Hand33_id1_Act3_rgb',\n",
        " '/kaggle/input/classroom-student-behaviors/Behaviors_Features/Raising_Hand/ID3/Hand28_id3_Act1_rgb',\n",
        " '/kaggle/input/classroom-student-behaviors/Behaviors_Features/Raising_Hand/ID1/Hand33_id1_Act2_rgb',\n",
        " '/kaggle/input/classroom-student-behaviors/Behaviors_Features/Writting/ID4/Write14_id4_Act1_rgb',\n",
        " '/kaggle/input/classroom-student-behaviors/Behaviors_Features/Writting/ID4/Write18_id4_Act1_rgb',\n",
        " '/kaggle/input/classroom-student-behaviors/Behaviors_Features/Reading/ID3/Read13_id3_Act10_rgb',\n",
        " '/kaggle/input/classroom-student-behaviors/Behaviors_Features/Sleeping/ID3/Sleep8_id3_Act2_rgb',\n",
        " '/kaggle/input/classroom-student-behaviors/Behaviors_Features/Sleeping/ID2/Sleep26_id2_Act3_rgb',\n",
        " '/kaggle/input/classroom-student-behaviors/Behaviors_Features/Reading/ID3/Read15_id3_Act1_rgb',\n",
        " '/kaggle/input/classroom-student-behaviors/Behaviors_Features/Raising_Hand/ID4/Hand16_id4_Act3_rgb',\n",
        " '/kaggle/input/classroom-student-behaviors/Behaviors_Features/Reading/ID3/Read15_id3_Act7_rgb',\n",
        " '/kaggle/input/classroom-student-behaviors/Behaviors_Features/Reading/ID3/Read15_id3_Act6_rgb',\n",
        " '/kaggle/input/classroom-student-behaviors/Behaviors_Features/Raising_Hand/ID3/Hand1_id3_Act3_rgb',\n",
        " '/kaggle/input/classroom-student-behaviors/Behaviors_Features/Writting/ID4/Write40_id4_Act1_rgb',\n",
        " '/kaggle/input/classroom-student-behaviors/Behaviors_Features/Sleeping/ID1/Sleep43_id1_Act2_rgb',\n",
        " '/kaggle/input/classroom-student-behaviors/Behaviors_Features/Sleeping/ID1/Sleep36_id1_Act1_rgb',\n",
        " '/kaggle/input/classroom-student-behaviors/Behaviors_Features/Sleeping/ID4/Sleep34_id4_Act3_rgb',\n",
        " '/kaggle/input/classroom-student-behaviors/Behaviors_Features/Raising_Hand/ID2/Hand11_id2_Act1_rgb',\n",
        " '/kaggle/input/classroom-student-behaviors/Behaviors_Features/Reading/ID4/Read35_id4_Act3_rgb',\n",
        " '/kaggle/input/classroom-student-behaviors/Behaviors_Features/Writting/ID4/Write9_id4_Act1_rgb',\n",
        " '/kaggle/input/classroom-student-behaviors/Behaviors_Features/Raising_Hand/ID4/Hand1_id4_Act3_rgb',\n",
        " '/kaggle/input/classroom-student-behaviors/Behaviors_Features/Sleeping/ID4/Sleep34_id4_Act4_rgb',\n",
        " '/kaggle/input/classroom-student-behaviors/Behaviors_Features/Reading/ID3/Read1_id3_Act3_rgb',\n",
        " '/kaggle/input/classroom-student-behaviors/Behaviors_Features/Raising_Hand/ID4/Hand15_id4_Act1_rgb',\n",
        " '/kaggle/input/classroom-student-behaviors/Behaviors_Features/Raising_Hand/ID2/Hand39_id2_Act2_rgb',\n",
        " '/kaggle/input/classroom-student-behaviors/Behaviors_Features/Raising_Hand/ID3/Hand13_id3_Act2_rgb',\n",
        " '/kaggle/input/classroom-student-behaviors/Behaviors_Features/Sleeping/ID3/Sleep46_id3_Act1_rgb',\n",
        " '/kaggle/input/classroom-student-behaviors/Behaviors_Features/Raising_Hand/ID1/Hand1_id1_Act2_rgb',\n",
        " '/kaggle/input/classroom-student-behaviors/Behaviors_Features/Raising_Hand/ID3/Hand27_id3_Act2_rgb',\n",
        " '/kaggle/input/classroom-student-behaviors/Behaviors_Features/Writting/ID1/Write7_id1_Act1_rgb',\n",
        " '/kaggle/input/classroom-student-behaviors/Behaviors_Features/Reading/ID1/Read14_id1_Act8_rgb',\n",
        " '/kaggle/input/classroom-student-behaviors/Behaviors_Features/Reading/ID1/Read49_id1_Act2_rgb',\n",
        " '/kaggle/input/classroom-student-behaviors/Behaviors_Features/Sleeping/ID4/Sleep3_id4_Act5_rgb',\n",
        " '/kaggle/input/classroom-student-behaviors/Behaviors_Features/Writting/ID4/Write31_id4_Act1_rgb',\n",
        " '/kaggle/input/classroom-student-behaviors/Behaviors_Features/Writting/ID2/Write3_id2_Act1_rgb',\n",
        " '/kaggle/input/classroom-student-behaviors/Behaviors_Features/Sleeping/ID2/Sleep11_id2_Act2_rgb',\n",
        " '/kaggle/input/classroom-student-behaviors/Behaviors_Features/Raising_Hand/ID1/Hand32_id1_Act1_rgb',\n",
        " '/kaggle/input/classroom-student-behaviors/Behaviors_Features/Raising_Hand/ID3/Hand5_id3_Act2_rgb',\n",
        " '/kaggle/input/classroom-student-behaviors/Behaviors_Features/Reading/ID3/Read13_id3_Act8_rgb',\n",
        " '/kaggle/input/classroom-student-behaviors/Behaviors_Features/Sleeping/ID1/Sleep42_id1_Act5_rgb',\n",
        " '/kaggle/input/classroom-student-behaviors/Behaviors_Features/Sleeping/ID1/Sleep3_id1_Act3_rgb',\n",
        " '/kaggle/input/classroom-student-behaviors/Behaviors_Features/Reading/ID3/Read19_id3_Act6_rgb',\n",
        " '/kaggle/input/classroom-student-behaviors/Behaviors_Features/Reading/ID4/Read5_id4_Act5_rgb',\n",
        " '/kaggle/input/classroom-student-behaviors/Behaviors_Features/Raising_Hand/ID4/Hand26_id4_Act1_rgb',\n",
        " '/kaggle/input/classroom-student-behaviors/Behaviors_Features/Raising_Hand/ID4/Hand32_id4_Act1_rgb',\n",
        " '/kaggle/input/classroom-student-behaviors/Behaviors_Features/Sleeping/ID4/Sleep23_id4_Act1_rgb',\n",
        " '/kaggle/input/classroom-student-behaviors/Behaviors_Features/Reading/ID3/Read13_id3_Act7_rgb',\n",
        " '/kaggle/input/classroom-student-behaviors/Behaviors_Features/Writting/ID4/Write28_id4_Act1_rgb',\n",
        " '/kaggle/input/classroom-student-behaviors/Behaviors_Features/Writting/ID1/Write20_id1_Act1_rgb',\n",
        " '/kaggle/input/classroom-student-behaviors/Behaviors_Features/Sleeping/ID1/Sleep16_id1_Act3_rgb',\n",
        " '/kaggle/input/classroom-student-behaviors/Behaviors_Features/Writting/ID4/Write12_id4_Act1_rgb',\n",
        " '/kaggle/input/classroom-student-behaviors/Behaviors_Features/Raising_Hand/ID1/Hand6_id1_Act1_rgb',\n",
        " '/kaggle/input/classroom-student-behaviors/Behaviors_Features/Writting/ID1/Write7_id1_Act1_rgb',\n",
        " '/kaggle/input/classroom-student-behaviors/Behaviors_Features/Reading/ID4/Read27_id4_Act7_rgb',\n",
        " '/kaggle/input/classroom-student-behaviors/Behaviors_Features/Reading/ID3/Read11_id3_Act10_rgb',\n",
        " '/kaggle/input/classroom-student-behaviors/Behaviors_Features/Raising_Hand/ID4/Hand29_id4_Act2_rgb',\n",
        " '/kaggle/input/classroom-student-behaviors/Behaviors_Features/Writting/ID2/Write26_id2_Act1_rgb',\n",
        " '/kaggle/input/classroom-student-behaviors/Behaviors_Features/Writting/ID4/Write15_id4_Act1_rgb',\n",
        " '/kaggle/input/classroom-student-behaviors/Behaviors_Features/Sleeping/ID3/Sleep21_id3_Act5_rgb',\n",
        " '/kaggle/input/classroom-student-behaviors/Behaviors_Features/Raising_Hand/ID4/Hand2_id4_Act1_rgb',\n",
        " '/kaggle/input/classroom-student-behaviors/Behaviors_Features/Reading/ID4/Read28_id4_Act4_rgb',\n",
        " '/kaggle/input/classroom-student-behaviors/Behaviors_Features/Raising_Hand/ID4/Hand31_id4_Act4_rgb',\n",
        " '/kaggle/input/classroom-student-behaviors/Behaviors_Features/Raising_Hand/ID4/Hand1_id4_Act2_rgb',\n",
        " '/kaggle/input/classroom-student-behaviors/Behaviors_Features/Writting/ID4/Write3_id4_Act1_rgb',\n",
        " '/kaggle/input/classroom-student-behaviors/Behaviors_Features/Reading/ID3/Read14_id3_Act10_rgb',\n",
        " '/kaggle/input/classroom-student-behaviors/Behaviors_Features/Sleeping/ID2/Sleep35_id2_Act1_rgb',\n",
        " '/kaggle/input/classroom-student-behaviors/Behaviors_Features/Reading/ID4/Read50_id4_Act6_rgb',\n",
        " '/kaggle/input/classroom-student-behaviors/Behaviors_Features/Raising_Hand/ID3/Hand2_id3_Act2_rgb',\n",
        " '/kaggle/input/classroom-student-behaviors/Behaviors_Features/Sleeping/ID4/Sleep18_id4_Act2_rgb',\n",
        " '/kaggle/input/classroom-student-behaviors/Behaviors_Features/Reading/ID4/Read2_id4_Act10_rgb',\n",
        " '/kaggle/input/classroom-student-behaviors/Behaviors_Features/Reading/ID3/Read14_id3_Act3_rgb',\n",
        " '/kaggle/input/classroom-student-behaviors/Behaviors_Features/Writting/ID3/Write44_id3_Act1_rgb',\n",
        " '/kaggle/input/classroom-student-behaviors/Behaviors_Features/Writting/ID4/Write33_id4_Act1_rgb',\n",
        " '/kaggle/input/classroom-student-behaviors/Behaviors_Features/Writting/ID2/Write41_id2_Act1_rgb',\n",
        " '/kaggle/input/classroom-student-behaviors/Behaviors_Features/Writting/ID2/Write36_id2_Act1_rgb',\n",
        " '/kaggle/input/classroom-student-behaviors/Behaviors_Features/Raising_Hand/ID3/Hand12_id3_Act1_rgb',\n",
        " '/kaggle/input/classroom-student-behaviors/Behaviors_Features/Sleeping/ID2/Sleep29_id2_Act2_rgb',\n",
        " '/kaggle/input/classroom-student-behaviors/Behaviors_Features/Reading/ID4/Read41_id4_Act4_rgb',\n",
        " '/kaggle/input/classroom-student-behaviors/Behaviors_Features/Reading/ID4/Read6_id4_Act1_rgb',\n",
        " '/kaggle/input/classroom-student-behaviors/Behaviors_Features/Raising_Hand/ID3/Hand27_id3_Act3_rgb']"
      ]
    },
    {
      "cell_type": "code",
      "execution_count": null,
      "metadata": {
        "execution": {
          "iopub.execute_input": "2024-02-01T17:21:52.742443Z",
          "iopub.status.busy": "2024-02-01T17:21:52.742095Z",
          "iopub.status.idle": "2024-02-01T17:21:52.841416Z",
          "shell.execute_reply": "2024-02-01T17:21:52.84068Z",
          "shell.execute_reply.started": "2024-02-01T17:21:52.742412Z"
        },
        "id": "jupvex51bn2Y",
        "trusted": true
      },
      "outputs": [],
      "source": [
        "train_dataset = ['/kaggle/input/classroom-student-behaviors/Behaviors_Features/Writting/ID1/Write7_id1_Act1_rgb',\n",
        " '/kaggle/input/classroom-student-behaviors/Behaviors_Features/Raising_Hand/ID3/Hand10_id3_Act1_rgb',\n",
        " '/kaggle/input/classroom-student-behaviors/Behaviors_Features/Reading/ID3/Read13_id3_Act9_rgb',\n",
        " '/kaggle/input/classroom-student-behaviors/Behaviors_Features/Raising_Hand/ID3/Hand33_id3_Act2_rgb',\n",
        " '/kaggle/input/classroom-student-behaviors/Behaviors_Features/Raising_Hand/ID1/Hand37_id1_Act1_rgb',\n",
        " '/kaggle/input/classroom-student-behaviors/Behaviors_Features/Raising_Hand/ID4/Hand11_id4_Act2_rgb',\n",
        " '/kaggle/input/classroom-student-behaviors/Behaviors_Features/Writting/ID2/Write14_id2_Act1_rgb',\n",
        " '/kaggle/input/classroom-student-behaviors/Behaviors_Features/Reading/ID3/Read16_id3_Act8_rgb',\n",
        " '/kaggle/input/classroom-student-behaviors/Behaviors_Features/Reading/ID3/Read11_id3_Act6_rgb',\n",
        " '/kaggle/input/classroom-student-behaviors/Behaviors_Features/Raising_Hand/ID4/Hand18_id4_Act1_rgb',\n",
        " '/kaggle/input/classroom-student-behaviors/Behaviors_Features/Writting/ID1/Write7_id1_Act1_rgb',\n",
        " '/kaggle/input/classroom-student-behaviors/Behaviors_Features/Raising_Hand/ID4/Hand39_id4_Act3_rgb',\n",
        " '/kaggle/input/classroom-student-behaviors/Behaviors_Features/Sleeping/ID2/Sleep10_id2_Act1_rgb',\n",
        " '/kaggle/input/classroom-student-behaviors/Behaviors_Features/Sleeping/ID3/Sleep30_id3_Act2_rgb',\n",
        " '/kaggle/input/classroom-student-behaviors/Behaviors_Features/Raising_Hand/ID2/Hand25_id2_Act2_rgb',\n",
        " '/kaggle/input/classroom-student-behaviors/Behaviors_Features/Raising_Hand/ID1/Hand23_id1_Act1_rgb',\n",
        " '/kaggle/input/classroom-student-behaviors/Behaviors_Features/Writting/ID4/Write14_id4_Act1_rgb',\n",
        " '/kaggle/input/classroom-student-behaviors/Behaviors_Features/Raising_Hand/ID4/Hand10_id4_Act1_rgb',\n",
        " '/kaggle/input/classroom-student-behaviors/Behaviors_Features/Sleeping/ID1/Sleep32_id1_Act1_rgb',\n",
        " '/kaggle/input/classroom-student-behaviors/Behaviors_Features/Writting/ID3/Write17_id3_Act1_rgb',\n",
        " '/kaggle/input/classroom-student-behaviors/Behaviors_Features/Raising_Hand/ID2/Hand26_id2_Act3_rgb',\n",
        " '/kaggle/input/classroom-student-behaviors/Behaviors_Features/Sleeping/ID4/Sleep14_id4_Act2_rgb',\n",
        " '/kaggle/input/classroom-student-behaviors/Behaviors_Features/Writting/ID4/Write6_id4_Act2_rgb',\n",
        " '/kaggle/input/classroom-student-behaviors/Behaviors_Features/Raising_Hand/ID4/Hand23_id4_Act3_rgb',\n",
        " '/kaggle/input/classroom-student-behaviors/Behaviors_Features/Sleeping/ID4/Sleep29_id4_Act1_rgb',\n",
        " '/kaggle/input/classroom-student-behaviors/Behaviors_Features/Reading/ID3/Read18_id3_Act7_rgb',\n",
        " '/kaggle/input/classroom-student-behaviors/Behaviors_Features/Raising_Hand/ID2/Hand34_id2_Act1_rgb',\n",
        " '/kaggle/input/classroom-student-behaviors/Behaviors_Features/Reading/ID3/Read10_id3_Act9_rgb',\n",
        " '/kaggle/input/classroom-student-behaviors/Behaviors_Features/Writting/ID3/Write27_id3_Act2_rgb',\n",
        " '/kaggle/input/classroom-student-behaviors/Behaviors_Features/Reading/ID1/Read50_id1_Act7_rgb',\n",
        " '/kaggle/input/classroom-student-behaviors/Behaviors_Features/Sleeping/ID3/Sleep14_id3_Act1_rgb',\n",
        " '/kaggle/input/classroom-student-behaviors/Behaviors_Features/Writting/ID3/Write10_id3_Act1_rgb',\n",
        " '/kaggle/input/classroom-student-behaviors/Behaviors_Features/Reading/ID4/Read32_id4_Act2_rgb',\n",
        " '/kaggle/input/classroom-student-behaviors/Behaviors_Features/Reading/ID4/Read31_id4_Act2_rgb',\n",
        " '/kaggle/input/classroom-student-behaviors/Behaviors_Features/Sleeping/ID2/Sleep46_id2_Act1_rgb',\n",
        " '/kaggle/input/classroom-student-behaviors/Behaviors_Features/Reading/ID3/Read19_id3_Act2_rgb',\n",
        " '/kaggle/input/classroom-student-behaviors/Behaviors_Features/Sleeping/ID3/Sleep15_id3_Act2_rgb',\n",
        " '/kaggle/input/classroom-student-behaviors/Behaviors_Features/Raising_Hand/ID3/Hand24_id3_Act1_rgb',\n",
        " '/kaggle/input/classroom-student-behaviors/Behaviors_Features/Writting/ID3/Write19_id3_Act1_rgb',\n",
        " '/kaggle/input/classroom-student-behaviors/Behaviors_Features/Raising_Hand/ID3/Hand4_id3_Act1_rgb',\n",
        " '/kaggle/input/classroom-student-behaviors/Behaviors_Features/Raising_Hand/ID4/Hand37_id4_Act2_rgb',\n",
        " '/kaggle/input/classroom-student-behaviors/Behaviors_Features/Sleeping/ID4/Sleep25_id4_Act2_rgb',\n",
        " '/kaggle/input/classroom-student-behaviors/Behaviors_Features/Raising_Hand/ID4/Hand22_id4_Act1_rgb',\n",
        " '/kaggle/input/classroom-student-behaviors/Behaviors_Features/Reading/ID4/Read27_id4_Act4_rgb',\n",
        " '/kaggle/input/classroom-student-behaviors/Behaviors_Features/Writting/ID4/Write44_id4_Act1_rgb',\n",
        " '/kaggle/input/classroom-student-behaviors/Behaviors_Features/Writting/ID1/Write12_id1_Act1_rgb',\n",
        " '/kaggle/input/classroom-student-behaviors/Behaviors_Features/Sleeping/ID4/Sleep20_id4_Act1_rgb',\n",
        " '/kaggle/input/classroom-student-behaviors/Behaviors_Features/Reading/ID3/Read17_id3_Act2_rgb',\n",
        " '/kaggle/input/classroom-student-behaviors/Behaviors_Features/Writting/ID1/Write6_id1_Act1_rgb',\n",
        " '/kaggle/input/classroom-student-behaviors/Behaviors_Features/Sleeping/ID4/Sleep25_id4_Act3_rgb',\n",
        " '/kaggle/input/classroom-student-behaviors/Behaviors_Features/Sleeping/ID3/Sleep42_id3_Act3_rgb',\n",
        " '/kaggle/input/classroom-student-behaviors/Behaviors_Features/Reading/ID4/Read55_id4_Act1_rgb',\n",
        " '/kaggle/input/classroom-student-behaviors/Behaviors_Features/Writting/ID1/Write34_id1_Act1_rgb',\n",
        " '/kaggle/input/classroom-student-behaviors/Behaviors_Features/Raising_Hand/ID3/Hand38_id3_Act1_rgb',\n",
        " '/kaggle/input/classroom-student-behaviors/Behaviors_Features/Reading/ID3/Read11_id3_Act8_rgb',\n",
        " '/kaggle/input/classroom-student-behaviors/Behaviors_Features/Sleeping/ID2/Sleep30_id2_Act2_rgb',\n",
        " '/kaggle/input/classroom-student-behaviors/Behaviors_Features/Writting/ID3/Write22_id3_Act1_rgb',\n",
        " '/kaggle/input/classroom-student-behaviors/Behaviors_Features/Sleeping/ID2/Sleep9_id2_Act1_rgb',\n",
        " '/kaggle/input/classroom-student-behaviors/Behaviors_Features/Reading/ID4/Read16_id4_Act6_rgb',\n",
        " '/kaggle/input/classroom-student-behaviors/Behaviors_Features/Reading/ID1/Read40_id1_Act2_rgb',\n",
        " '/kaggle/input/classroom-student-behaviors/Behaviors_Features/Raising_Hand/ID4/Hand21_id4_Act2_rgb',\n",
        " '/kaggle/input/classroom-student-behaviors/Behaviors_Features/Writting/ID1/Write30_id1_Act1_rgb',\n",
        " '/kaggle/input/classroom-student-behaviors/Behaviors_Features/Reading/ID3/Read15_id3_Act9_rgb',\n",
        " '/kaggle/input/classroom-student-behaviors/Behaviors_Features/Sleeping/ID3/Sleep14_id3_Act4_rgb',\n",
        " '/kaggle/input/classroom-student-behaviors/Behaviors_Features/Writting/ID2/Write20_id2_Act1_rgb',\n",
        " '/kaggle/input/classroom-student-behaviors/Behaviors_Features/Reading/ID3/Read19_id3_Act10_rgb',\n",
        " '/kaggle/input/classroom-student-behaviors/Behaviors_Features/Sleeping/ID4/Sleep15_id4_Act3_rgb',\n",
        " '/kaggle/input/classroom-student-behaviors/Behaviors_Features/Writting/ID2/Write40_id2_Act1_rgb',\n",
        " '/kaggle/input/classroom-student-behaviors/Behaviors_Features/Writting/ID3/Write40_id3_Act1_rgb',\n",
        " '/kaggle/input/classroom-student-behaviors/Behaviors_Features/Sleeping/ID4/Sleep5_id4_Act1_rgb',\n",
        " '/kaggle/input/classroom-student-behaviors/Behaviors_Features/Raising_Hand/ID4/Hand25_id4_Act3_rgb',\n",
        " '/kaggle/input/classroom-student-behaviors/Behaviors_Features/Raising_Hand/ID4/Hand40_id4_Act2_rgb',\n",
        " '/kaggle/input/classroom-student-behaviors/Behaviors_Features/Sleeping/ID1/Sleep34_id1_Act1_rgb',\n",
        " '/kaggle/input/classroom-student-behaviors/Behaviors_Features/Raising_Hand/ID1/Hand24_id1_Act1_rgb',\n",
        " '/kaggle/input/classroom-student-behaviors/Behaviors_Features/Writting/ID2/Write12_id2_Act1_rgb',\n",
        " '/kaggle/input/classroom-student-behaviors/Behaviors_Features/Raising_Hand/ID2/Hand23_id2_Act2_rgb',\n",
        " '/kaggle/input/classroom-student-behaviors/Behaviors_Features/Reading/ID3/Read19_id3_Act9_rgb',\n",
        " '/kaggle/input/classroom-student-behaviors/Behaviors_Features/Sleeping/ID4/Sleep35_id4_Act5_rgb',\n",
        " '/kaggle/input/classroom-student-behaviors/Behaviors_Features/Raising_Hand/ID3/Hand37_id3_Act1_rgb',\n",
        " '/kaggle/input/classroom-student-behaviors/Behaviors_Features/Reading/ID4/Read48_id4_Act10_rgb',\n",
        " '/kaggle/input/classroom-student-behaviors/Behaviors_Features/Sleeping/ID1/Sleep28_id1_Act1_rgb',\n",
        " '/kaggle/input/classroom-student-behaviors/Behaviors_Features/Writting/ID4/Write8_id4_Act1_rgb',\n",
        " '/kaggle/input/classroom-student-behaviors/Behaviors_Features/Sleeping/ID1/Sleep45_id1_Act1_rgb',\n",
        " '/kaggle/input/classroom-student-behaviors/Behaviors_Features/Writting/ID3/Write23_id3_Act1_rgb',\n",
        " '/kaggle/input/classroom-student-behaviors/Behaviors_Features/Raising_Hand/ID3/Hand13_id3_Act1_rgb',\n",
        " '/kaggle/input/classroom-student-behaviors/Behaviors_Features/Sleeping/ID2/Sleep25_id2_Act5_rgb',\n",
        " '/kaggle/input/classroom-student-behaviors/Behaviors_Features/Raising_Hand/ID2/Hand40_id2_Act1_rgb',\n",
        " '/kaggle/input/classroom-student-behaviors/Behaviors_Features/Sleeping/ID4/Sleep45_id4_Act1_rgb',\n",
        " '/kaggle/input/classroom-student-behaviors/Behaviors_Features/Sleeping/ID1/Sleep24_id1_Act1_rgb',\n",
        " '/kaggle/input/classroom-student-behaviors/Behaviors_Features/Writting/ID3/Write7_id3_Act1_rgb',\n",
        " '/kaggle/input/classroom-student-behaviors/Behaviors_Features/Raising_Hand/ID2/Hand26_id2_Act1_rgb',\n",
        " '/kaggle/input/classroom-student-behaviors/Behaviors_Features/Writting/ID4/Write9_id4_Act1_rgb',\n",
        " '/kaggle/input/classroom-student-behaviors/Behaviors_Features/Reading/ID4/Read54_id4_Act7_rgb',\n",
        " '/kaggle/input/classroom-student-behaviors/Behaviors_Features/Writting/ID4/Write9_id4_Act1_rgb',\n",
        " '/kaggle/input/classroom-student-behaviors/Behaviors_Features/Reading/ID4/Read7_id4_Act1_rgb',\n",
        " '/kaggle/input/classroom-student-behaviors/Behaviors_Features/Sleeping/ID2/Sleep19_id2_Act1_rgb',\n",
        " '/kaggle/input/classroom-student-behaviors/Behaviors_Features/Reading/ID3/Read16_id3_Act2_rgb',\n",
        " '/kaggle/input/classroom-student-behaviors/Behaviors_Features/Raising_Hand/ID4/Hand7_id4_Act2_rgb',\n",
        " '/kaggle/input/classroom-student-behaviors/Behaviors_Features/Reading/ID4/Read30_id4_Act7_rgb',\n",
        " '/kaggle/input/classroom-student-behaviors/Behaviors_Features/Sleeping/ID3/Sleep25_id3_Act3_rgb',\n",
        " '/kaggle/input/classroom-student-behaviors/Behaviors_Features/Writting/ID4/Write9_id4_Act1_rgb',\n",
        " '/kaggle/input/classroom-student-behaviors/Behaviors_Features/Reading/ID3/Read12_id3_Act10_rgb',\n",
        " '/kaggle/input/classroom-student-behaviors/Behaviors_Features/Raising_Hand/ID2/Hand31_id2_Act1_rgb',\n",
        " '/kaggle/input/classroom-student-behaviors/Behaviors_Features/Raising_Hand/ID4/Hand16_id4_Act1_rgb',\n",
        " '/kaggle/input/classroom-student-behaviors/Behaviors_Features/Reading/ID4/Read20_id4_Act1_rgb',\n",
        " '/kaggle/input/classroom-student-behaviors/Behaviors_Features/Reading/ID3/Read18_id3_Act8_rgb',\n",
        " '/kaggle/input/classroom-student-behaviors/Behaviors_Features/Sleeping/ID1/Sleep1_id1_Act1_rgb',\n",
        " '/kaggle/input/classroom-student-behaviors/Behaviors_Features/Writting/ID1/Write30_id1_Act1_rgb',\n",
        " '/kaggle/input/classroom-student-behaviors/Behaviors_Features/Raising_Hand/ID3/Hand7_id3_Act2_rgb',\n",
        " '/kaggle/input/classroom-student-behaviors/Behaviors_Features/Sleeping/ID1/Sleep10_id1_Act2_rgb',\n",
        " '/kaggle/input/classroom-student-behaviors/Behaviors_Features/Reading/ID4/Read53_id4_Act10_rgb',\n",
        " '/kaggle/input/classroom-student-behaviors/Behaviors_Features/Raising_Hand/ID2/Hand23_id2_Act3_rgb',\n",
        " '/kaggle/input/classroom-student-behaviors/Behaviors_Features/Raising_Hand/ID1/Hand32_id1_Act2_rgb',\n",
        " '/kaggle/input/classroom-student-behaviors/Behaviors_Features/Reading/ID4/Read20_id4_Act8_rgb',\n",
        " '/kaggle/input/classroom-student-behaviors/Behaviors_Features/Raising_Hand/ID3/Hand9_id3_Act1_rgb',\n",
        " '/kaggle/input/classroom-student-behaviors/Behaviors_Features/Reading/ID4/Read5_id4_Act9_rgb',\n",
        " '/kaggle/input/classroom-student-behaviors/Behaviors_Features/Writting/ID4/Write16_id4_Act1_rgb',\n",
        " '/kaggle/input/classroom-student-behaviors/Behaviors_Features/Sleeping/ID1/Sleep19_id1_Act1_rgb',\n",
        " '/kaggle/input/classroom-student-behaviors/Behaviors_Features/Writting/ID3/Write29_id3_Act1_rgb',\n",
        " '/kaggle/input/classroom-student-behaviors/Behaviors_Features/Reading/ID3/Read10_id3_Act7_rgb',\n",
        " '/kaggle/input/classroom-student-behaviors/Behaviors_Features/Sleeping/ID2/Sleep22_id2_Act5_rgb',\n",
        " '/kaggle/input/classroom-student-behaviors/Behaviors_Features/Sleeping/ID2/Sleep6_id2_Act3_rgb',\n",
        " '/kaggle/input/classroom-student-behaviors/Behaviors_Features/Writting/ID2/Write5_id2_Act1_rgb',\n",
        " '/kaggle/input/classroom-student-behaviors/Behaviors_Features/Reading/ID4/Read36_id4_Act8_rgb',\n",
        " '/kaggle/input/classroom-student-behaviors/Behaviors_Features/Raising_Hand/ID4/Hand37_id4_Act3_rgb',\n",
        " '/kaggle/input/classroom-student-behaviors/Behaviors_Features/Reading/ID3/Read13_id3_Act3_rgb',\n",
        " '/kaggle/input/classroom-student-behaviors/Behaviors_Features/Writting/ID4/Write44_id4_Act1_rgb',\n",
        " '/kaggle/input/classroom-student-behaviors/Behaviors_Features/Writting/ID1/Write30_id1_Act1_rgb',\n",
        " '/kaggle/input/classroom-student-behaviors/Behaviors_Features/Raising_Hand/ID4/Hand7_id4_Act1_rgb',\n",
        " '/kaggle/input/classroom-student-behaviors/Behaviors_Features/Raising_Hand/ID2/Hand14_id2_Act1_rgb',\n",
        " '/kaggle/input/classroom-student-behaviors/Behaviors_Features/Sleeping/ID1/Sleep25_id1_Act1_rgb',\n",
        " '/kaggle/input/classroom-student-behaviors/Behaviors_Features/Sleeping/ID1/Sleep34_id1_Act3_rgb',\n",
        " '/kaggle/input/classroom-student-behaviors/Behaviors_Features/Sleeping/ID2/Sleep3_id2_Act3_rgb',\n",
        " '/kaggle/input/classroom-student-behaviors/Behaviors_Features/Reading/ID4/Read26_id4_Act4_rgb',\n",
        " '/kaggle/input/classroom-student-behaviors/Behaviors_Features/Raising_Hand/ID1/Hand21_id1_Act1_rgb',\n",
        " '/kaggle/input/classroom-student-behaviors/Behaviors_Features/Raising_Hand/ID4/Hand25_id4_Act2_rgb',\n",
        " '/kaggle/input/classroom-student-behaviors/Behaviors_Features/Raising_Hand/ID3/Hand2_id3_Act3_rgb',\n",
        " '/kaggle/input/classroom-student-behaviors/Behaviors_Features/Reading/ID4/Read28_id4_Act9_rgb',\n",
        " '/kaggle/input/classroom-student-behaviors/Behaviors_Features/Writting/ID3/Write16_id3_Act1_rgb',\n",
        " '/kaggle/input/classroom-student-behaviors/Behaviors_Features/Writting/ID3/Write29_id3_Act1_rgb',\n",
        " '/kaggle/input/classroom-student-behaviors/Behaviors_Features/Sleeping/ID2/Sleep7_id2_Act1_rgb',\n",
        " '/kaggle/input/classroom-student-behaviors/Behaviors_Features/Raising_Hand/ID1/Hand27_id1_Act1_rgb',\n",
        " '/kaggle/input/classroom-student-behaviors/Behaviors_Features/Raising_Hand/ID3/Hand33_id3_Act1_rgb',\n",
        " '/kaggle/input/classroom-student-behaviors/Behaviors_Features/Writting/ID4/Write6_id4_Act2_rgb',\n",
        " '/kaggle/input/classroom-student-behaviors/Behaviors_Features/Writting/ID1/Write3_id1_Act1_rgb',\n",
        " '/kaggle/input/classroom-student-behaviors/Behaviors_Features/Raising_Hand/ID1/Hand36_id1_Act1_rgb',\n",
        " '/kaggle/input/classroom-student-behaviors/Behaviors_Features/Writting/ID2/Write12_id2_Act1_rgb',\n",
        " '/kaggle/input/classroom-student-behaviors/Behaviors_Features/Sleeping/ID2/Sleep8_id2_Act1_rgb',\n",
        " '/kaggle/input/classroom-student-behaviors/Behaviors_Features/Reading/ID4/Read53_id4_Act5_rgb',\n",
        " '/kaggle/input/classroom-student-behaviors/Behaviors_Features/Raising_Hand/ID2/Hand9_id2_Act1_rgb',\n",
        " '/kaggle/input/classroom-student-behaviors/Behaviors_Features/Reading/ID4/Read29_id4_Act1_rgb',\n",
        " '/kaggle/input/classroom-student-behaviors/Behaviors_Features/Raising_Hand/ID3/Hand1_id3_Act1_rgb',\n",
        " '/kaggle/input/classroom-student-behaviors/Behaviors_Features/Reading/ID4/Read53_id4_Act4_rgb',\n",
        " '/kaggle/input/classroom-student-behaviors/Behaviors_Features/Raising_Hand/ID2/Hand26_id2_Act2_rgb',\n",
        " '/kaggle/input/classroom-student-behaviors/Behaviors_Features/Reading/ID3/Read18_id3_Act5_rgb',\n",
        " '/kaggle/input/classroom-student-behaviors/Behaviors_Features/Reading/ID4/Read52_id4_Act4_rgb',\n",
        " '/kaggle/input/classroom-student-behaviors/Behaviors_Features/Writting/ID4/Write20_id4_Act1_rgb',\n",
        " '/kaggle/input/classroom-student-behaviors/Behaviors_Features/Reading/ID3/Read12_id3_Act5_rgb',\n",
        " '/kaggle/input/classroom-student-behaviors/Behaviors_Features/Writting/ID1/Write30_id1_Act1_rgb',\n",
        " '/kaggle/input/classroom-student-behaviors/Behaviors_Features/Sleeping/ID1/Sleep11_id1_Act1_rgb',\n",
        " '/kaggle/input/classroom-student-behaviors/Behaviors_Features/Reading/ID3/Read16_id3_Act1_rgb',\n",
        " '/kaggle/input/classroom-student-behaviors/Behaviors_Features/Writting/ID2/Write9_id2_Act1_rgb',\n",
        " '/kaggle/input/classroom-student-behaviors/Behaviors_Features/Writting/ID4/Write31_id4_Act1_rgb',\n",
        " '/kaggle/input/classroom-student-behaviors/Behaviors_Features/Raising_Hand/ID3/Hand2_id3_Act1_rgb',\n",
        " '/kaggle/input/classroom-student-behaviors/Behaviors_Features/Sleeping/ID3/Sleep18_id3_Act2_rgb',\n",
        " '/kaggle/input/classroom-student-behaviors/Behaviors_Features/Reading/ID3/Read18_id3_Act3_rgb',\n",
        " '/kaggle/input/classroom-student-behaviors/Behaviors_Features/Sleeping/ID1/Sleep29_id1_Act3_rgb',\n",
        " '/kaggle/input/classroom-student-behaviors/Behaviors_Features/Writting/ID3/Write4_id3_Act1_rgb',\n",
        " '/kaggle/input/classroom-student-behaviors/Behaviors_Features/Reading/ID3/Read14_id3_Act6_rgb',\n",
        " '/kaggle/input/classroom-student-behaviors/Behaviors_Features/Reading/ID3/Read15_id3_Act2_rgb',\n",
        " '/kaggle/input/classroom-student-behaviors/Behaviors_Features/Sleeping/ID1/Sleep42_id1_Act2_rgb',\n",
        " '/kaggle/input/classroom-student-behaviors/Behaviors_Features/Sleeping/ID1/Sleep36_id1_Act2_rgb',\n",
        " '/kaggle/input/classroom-student-behaviors/Behaviors_Features/Writting/ID1/Write29_id1_Act1_rgb',\n",
        " '/kaggle/input/classroom-student-behaviors/Behaviors_Features/Sleeping/ID1/Sleep42_id1_Act1_rgb',\n",
        " '/kaggle/input/classroom-student-behaviors/Behaviors_Features/Raising_Hand/ID4/Hand31_id4_Act1_rgb',\n",
        " '/kaggle/input/classroom-student-behaviors/Behaviors_Features/Sleeping/ID3/Sleep29_id3_Act1_rgb',\n",
        " '/kaggle/input/classroom-student-behaviors/Behaviors_Features/Raising_Hand/ID3/Hand4_id3_Act3_rgb',\n",
        " '/kaggle/input/classroom-student-behaviors/Behaviors_Features/Sleeping/ID3/Sleep5_id3_Act1_rgb',\n",
        " '/kaggle/input/classroom-student-behaviors/Behaviors_Features/Writting/ID4/Write38_id4_Act1_rgb',\n",
        " '/kaggle/input/classroom-student-behaviors/Behaviors_Features/Raising_Hand/ID4/Hand12_id4_Act1_rgb',\n",
        " '/kaggle/input/classroom-student-behaviors/Behaviors_Features/Sleeping/ID2/Sleep31_id2_Act1_rgb',\n",
        " '/kaggle/input/classroom-student-behaviors/Behaviors_Features/Writting/ID2/Write16_id2_Act1_rgb',\n",
        " '/kaggle/input/classroom-student-behaviors/Behaviors_Features/Writting/ID1/Write7_id1_Act1_rgb',\n",
        " '/kaggle/input/classroom-student-behaviors/Behaviors_Features/Writting/ID3/Write41_id3_Act1_rgb',\n",
        " '/kaggle/input/classroom-student-behaviors/Behaviors_Features/Sleeping/ID2/Sleep21_id2_Act3_rgb',\n",
        " '/kaggle/input/classroom-student-behaviors/Behaviors_Features/Writting/ID3/Write38_id3_Act1_rgb',\n",
        " '/kaggle/input/classroom-student-behaviors/Behaviors_Features/Sleeping/ID3/Sleep24_id3_Act1_rgb',\n",
        " '/kaggle/input/classroom-student-behaviors/Behaviors_Features/Writting/ID2/Write32_id2_Act1_rgb',\n",
        " '/kaggle/input/classroom-student-behaviors/Behaviors_Features/Sleeping/ID2/Sleep33_id2_Act1_rgb',\n",
        " '/kaggle/input/classroom-student-behaviors/Behaviors_Features/Raising_Hand/ID2/Hand21_id2_Act1_rgb',\n",
        " '/kaggle/input/classroom-student-behaviors/Behaviors_Features/Raising_Hand/ID4/Hand2_id4_Act3_rgb',\n",
        " '/kaggle/input/classroom-student-behaviors/Behaviors_Features/Reading/ID4/Read42_id4_Act1_rgb',\n",
        " '/kaggle/input/classroom-student-behaviors/Behaviors_Features/Sleeping/ID1/Sleep4_id1_Act1_rgb',\n",
        " '/kaggle/input/classroom-student-behaviors/Behaviors_Features/Sleeping/ID3/Sleep20_id3_Act1_rgb',\n",
        " '/kaggle/input/classroom-student-behaviors/Behaviors_Features/Raising_Hand/ID3/Hand21_id3_Act1_rgb',\n",
        " '/kaggle/input/classroom-student-behaviors/Behaviors_Features/Raising_Hand/ID4/Hand39_id4_Act1_rgb',\n",
        " '/kaggle/input/classroom-student-behaviors/Behaviors_Features/Sleeping/ID2/Sleep2_id2_Act1_rgb',\n",
        " '/kaggle/input/classroom-student-behaviors/Behaviors_Features/Sleeping/ID4/Sleep6_id4_Act1_rgb',\n",
        " '/kaggle/input/classroom-student-behaviors/Behaviors_Features/Reading/ID4/Read43_id4_Act5_rgb',\n",
        " '/kaggle/input/classroom-student-behaviors/Behaviors_Features/Writting/ID1/Write8_id1_Act1_rgb',\n",
        " '/kaggle/input/classroom-student-behaviors/Behaviors_Features/Sleeping/ID1/Sleep13_id1_Act2_rgb',\n",
        " '/kaggle/input/classroom-student-behaviors/Behaviors_Features/Reading/ID1/Read51_id1_Act10_rgb',\n",
        " '/kaggle/input/classroom-student-behaviors/Behaviors_Features/Reading/ID4/Read25_id4_Act5_rgb',\n",
        " '/kaggle/input/classroom-student-behaviors/Behaviors_Features/Writting/ID2/Write15_id2_Act1_rgb',\n",
        " '/kaggle/input/classroom-student-behaviors/Behaviors_Features/Raising_Hand/ID2/Hand23_id2_Act1_rgb',\n",
        " '/kaggle/input/classroom-student-behaviors/Behaviors_Features/Sleeping/ID4/Sleep31_id4_Act2_rgb',\n",
        " '/kaggle/input/classroom-student-behaviors/Behaviors_Features/Sleeping/ID1/Sleep13_id1_Act1_rgb',\n",
        " '/kaggle/input/classroom-student-behaviors/Behaviors_Features/Reading/ID3/Read10_id3_Act1_rgb',\n",
        " '/kaggle/input/classroom-student-behaviors/Behaviors_Features/Writting/ID4/Write31_id4_Act1_rgb',\n",
        " '/kaggle/input/classroom-student-behaviors/Behaviors_Features/Reading/ID1/Read52_id1_Act4_rgb',\n",
        " '/kaggle/input/classroom-student-behaviors/Behaviors_Features/Writting/ID2/Write21_id2_Act1_rgb',\n",
        " '/kaggle/input/classroom-student-behaviors/Behaviors_Features/Reading/ID1/Read7_id1_Act4_rgb',\n",
        " '/kaggle/input/classroom-student-behaviors/Behaviors_Features/Sleeping/ID3/Sleep1_id3_Act1_rgb',\n",
        " '/kaggle/input/classroom-student-behaviors/Behaviors_Features/Sleeping/ID2/Sleep44_id2_Act1_rgb',\n",
        " '/kaggle/input/classroom-student-behaviors/Behaviors_Features/Sleeping/ID3/Sleep33_id3_Act3_rgb',\n",
        " '/kaggle/input/classroom-student-behaviors/Behaviors_Features/Raising_Hand/ID4/Hand26_id4_Act2_rgb',\n",
        " '/kaggle/input/classroom-student-behaviors/Behaviors_Features/Writting/ID1/Write41_id1_Act1_rgb',\n",
        " '/kaggle/input/classroom-student-behaviors/Behaviors_Features/Raising_Hand/ID4/Hand4_id4_Act3_rgb',\n",
        " '/kaggle/input/classroom-student-behaviors/Behaviors_Features/Raising_Hand/ID4/Hand34_id4_Act1_rgb',\n",
        " '/kaggle/input/classroom-student-behaviors/Behaviors_Features/Reading/ID4/Read42_id4_Act3_rgb',\n",
        " '/kaggle/input/classroom-student-behaviors/Behaviors_Features/Sleeping/ID4/Sleep44_id4_Act1_rgb',\n",
        " '/kaggle/input/classroom-student-behaviors/Behaviors_Features/Raising_Hand/ID4/Hand11_id4_Act1_rgb',\n",
        " '/kaggle/input/classroom-student-behaviors/Behaviors_Features/Sleeping/ID2/Sleep13_id2_Act4_rgb',\n",
        " '/kaggle/input/classroom-student-behaviors/Behaviors_Features/Writting/ID2/Write24_id2_Act1_rgb',\n",
        " '/kaggle/input/classroom-student-behaviors/Behaviors_Features/Sleeping/ID1/Sleep16_id1_Act1_rgb',\n",
        " '/kaggle/input/classroom-student-behaviors/Behaviors_Features/Writting/ID1/Write41_id1_Act1_rgb',\n",
        " '/kaggle/input/classroom-student-behaviors/Behaviors_Features/Raising_Hand/ID4/Hand5_id4_Act2_rgb',\n",
        " '/kaggle/input/classroom-student-behaviors/Behaviors_Features/Reading/ID3/Read12_id3_Act3_rgb',\n",
        " '/kaggle/input/classroom-student-behaviors/Behaviors_Features/Reading/ID3/Read17_id3_Act8_rgb',\n",
        " '/kaggle/input/classroom-student-behaviors/Behaviors_Features/Sleeping/ID1/Sleep3_id1_Act1_rgb',\n",
        " '/kaggle/input/classroom-student-behaviors/Behaviors_Features/Reading/ID4/Read19_id4_Act10_rgb',\n",
        " '/kaggle/input/classroom-student-behaviors/Behaviors_Features/Sleeping/ID3/Sleep3_id3_Act2_rgb',\n",
        " '/kaggle/input/classroom-student-behaviors/Behaviors_Features/Sleeping/ID3/Sleep25_id3_Act1_rgb',\n",
        " '/kaggle/input/classroom-student-behaviors/Behaviors_Features/Writting/ID1/Write9_id1_Act1_rgb',\n",
        " '/kaggle/input/classroom-student-behaviors/Behaviors_Features/Writting/ID4/Write24_id4_Act1_rgb',\n",
        " '/kaggle/input/classroom-student-behaviors/Behaviors_Features/Writting/ID2/Write27_id2_Act1_rgb',\n",
        " '/kaggle/input/classroom-student-behaviors/Behaviors_Features/Writting/ID3/Write18_id3_Act1_rgb',\n",
        " '/kaggle/input/classroom-student-behaviors/Behaviors_Features/Raising_Hand/ID4/Hand16_id4_Act2_rgb',\n",
        " '/kaggle/input/classroom-student-behaviors/Behaviors_Features/Sleeping/ID3/Sleep18_id3_Act4_rgb',\n",
        " '/kaggle/input/classroom-student-behaviors/Behaviors_Features/Reading/ID4/Read4_id4_Act9_rgb',\n",
        " '/kaggle/input/classroom-student-behaviors/Behaviors_Features/Sleeping/ID2/Sleep5_id2_Act1_rgb',\n",
        " '/kaggle/input/classroom-student-behaviors/Behaviors_Features/Raising_Hand/ID3/Hand40_id3_Act2_rgb',\n",
        " '/kaggle/input/classroom-student-behaviors/Behaviors_Features/Reading/ID3/Read10_id3_Act3_rgb',\n",
        " '/kaggle/input/classroom-student-behaviors/Behaviors_Features/Raising_Hand/ID4/Hand27_id4_Act3_rgb',\n",
        " '/kaggle/input/classroom-student-behaviors/Behaviors_Features/Writting/ID3/Write42_id3_Act1_rgb',\n",
        " '/kaggle/input/classroom-student-behaviors/Behaviors_Features/Sleeping/ID3/Sleep19_id3_Act1_rgb',\n",
        " '/kaggle/input/classroom-student-behaviors/Behaviors_Features/Sleeping/ID4/Sleep35_id4_Act1_rgb',\n",
        " '/kaggle/input/classroom-student-behaviors/Behaviors_Features/Writting/ID2/Write22_id2_Act1_rgb',\n",
        " '/kaggle/input/classroom-student-behaviors/Behaviors_Features/Writting/ID2/Write3_id2_Act1_rgb',\n",
        " '/kaggle/input/classroom-student-behaviors/Behaviors_Features/Writting/ID1/Write34_id1_Act1_rgb',\n",
        " '/kaggle/input/classroom-student-behaviors/Behaviors_Features/Sleeping/ID3/Sleep33_id3_Act4_rgb',\n",
        " '/kaggle/input/classroom-student-behaviors/Behaviors_Features/Sleeping/ID1/Sleep29_id1_Act4_rgb',\n",
        " '/kaggle/input/classroom-student-behaviors/Behaviors_Features/Writting/ID1/Write38_id1_Act1_rgb',\n",
        " '/kaggle/input/classroom-student-behaviors/Behaviors_Features/Sleeping/ID4/Sleep4_id4_Act1_rgb',\n",
        " '/kaggle/input/classroom-student-behaviors/Behaviors_Features/Sleeping/ID3/Sleep44_id3_Act1_rgb',\n",
        " '/kaggle/input/classroom-student-behaviors/Behaviors_Features/Raising_Hand/ID4/Hand40_id4_Act3_rgb',\n",
        " '/kaggle/input/classroom-student-behaviors/Behaviors_Features/Reading/ID3/Read12_id3_Act4_rgb',\n",
        " '/kaggle/input/classroom-student-behaviors/Behaviors_Features/Writting/ID3/Write2_id3_Act1_rgb',\n",
        " '/kaggle/input/classroom-student-behaviors/Behaviors_Features/Sleeping/ID4/Sleep26_id4_Act1_rgb',\n",
        " '/kaggle/input/classroom-student-behaviors/Behaviors_Features/Writting/ID1/Write8_id1_Act1_rgb',\n",
        " '/kaggle/input/classroom-student-behaviors/Behaviors_Features/Sleeping/ID3/Sleep39_id3_Act2_rgb',\n",
        " '/kaggle/input/classroom-student-behaviors/Behaviors_Features/Sleeping/ID1/Sleep14_id1_Act1_rgb',\n",
        " '/kaggle/input/classroom-student-behaviors/Behaviors_Features/Reading/ID1/Read20_id1_Act9_rgb',\n",
        " '/kaggle/input/classroom-student-behaviors/Behaviors_Features/Writting/ID1/Write6_id1_Act1_rgb',\n",
        " '/kaggle/input/classroom-student-behaviors/Behaviors_Features/Reading/ID4/Read26_id4_Act8_rgb',\n",
        " '/kaggle/input/classroom-student-behaviors/Behaviors_Features/Sleeping/ID1/Sleep21_id1_Act1_rgb',\n",
        " '/kaggle/input/classroom-student-behaviors/Behaviors_Features/Sleeping/ID3/Sleep11_id3_Act1_rgb',\n",
        " '/kaggle/input/classroom-student-behaviors/Behaviors_Features/Reading/ID3/Read14_id3_Act2_rgb',\n",
        " '/kaggle/input/classroom-student-behaviors/Behaviors_Features/Sleeping/ID1/Sleep5_id1_Act1_rgb',\n",
        " '/kaggle/input/classroom-student-behaviors/Behaviors_Features/Raising_Hand/ID4/Hand39_id4_Act2_rgb',\n",
        " '/kaggle/input/classroom-student-behaviors/Behaviors_Features/Reading/ID3/Read13_id3_Act6_rgb',\n",
        " '/kaggle/input/classroom-student-behaviors/Behaviors_Features/Writting/ID1/Write3_id1_Act1_rgb',\n",
        " '/kaggle/input/classroom-student-behaviors/Behaviors_Features/Reading/ID4/Read35_id4_Act2_rgb',\n",
        " '/kaggle/input/classroom-student-behaviors/Behaviors_Features/Reading/ID4/Read58_id4_Act7_rgb',\n",
        " '/kaggle/input/classroom-student-behaviors/Behaviors_Features/Raising_Hand/ID4/Hand13_id4_Act2_rgb',\n",
        " '/kaggle/input/classroom-student-behaviors/Behaviors_Features/Raising_Hand/ID4/Hand23_id4_Act1_rgb',\n",
        " '/kaggle/input/classroom-student-behaviors/Behaviors_Features/Writting/ID1/Write17_id1_Act1_rgb',\n",
        " '/kaggle/input/classroom-student-behaviors/Behaviors_Features/Sleeping/ID3/Sleep34_id3_Act1_rgb',\n",
        " '/kaggle/input/classroom-student-behaviors/Behaviors_Features/Sleeping/ID3/Sleep16_id3_Act1_rgb',\n",
        " '/kaggle/input/classroom-student-behaviors/Behaviors_Features/Reading/ID4/Read39_id4_Act2_rgb',\n",
        " '/kaggle/input/classroom-student-behaviors/Behaviors_Features/Writting/ID3/Write13_id3_Act1_rgb',\n",
        " '/kaggle/input/classroom-student-behaviors/Behaviors_Features/Sleeping/ID4/Sleep7_id4_Act2_rgb',\n",
        " '/kaggle/input/classroom-student-behaviors/Behaviors_Features/Sleeping/ID2/Sleep2_id2_Act2_rgb',\n",
        " '/kaggle/input/classroom-student-behaviors/Behaviors_Features/Raising_Hand/ID4/Hand27_id4_Act4_rgb',\n",
        " '/kaggle/input/classroom-student-behaviors/Behaviors_Features/Writting/ID4/Write21_id4_Act1_rgb',\n",
        " '/kaggle/input/classroom-student-behaviors/Behaviors_Features/Reading/ID4/Read4_id4_Act1_rgb',\n",
        " '/kaggle/input/classroom-student-behaviors/Behaviors_Features/Writting/ID3/Write23_id3_Act1_rgb',\n",
        " '/kaggle/input/classroom-student-behaviors/Behaviors_Features/Raising_Hand/ID2/Hand36_id2_Act2_rgb',\n",
        " '/kaggle/input/classroom-student-behaviors/Behaviors_Features/Raising_Hand/ID4/Hand28_id4_Act1_rgb',\n",
        " '/kaggle/input/classroom-student-behaviors/Behaviors_Features/Writting/ID2/Write40_id2_Act1_rgb',\n",
        " '/kaggle/input/classroom-student-behaviors/Behaviors_Features/Sleeping/ID4/Sleep35_id4_Act4_rgb',\n",
        " '/kaggle/input/classroom-student-behaviors/Behaviors_Features/Raising_Hand/ID4/Hand25_id4_Act1_rgb',\n",
        " '/kaggle/input/classroom-student-behaviors/Behaviors_Features/Writting/ID1/Write16_id1_Act1_rgb',\n",
        " '/kaggle/input/classroom-student-behaviors/Behaviors_Features/Raising_Hand/ID3/Hand29_id3_Act3_rgb',\n",
        " '/kaggle/input/classroom-student-behaviors/Behaviors_Features/Reading/ID3/Read16_id3_Act10_rgb',\n",
        " '/kaggle/input/classroom-student-behaviors/Behaviors_Features/Raising_Hand/ID3/Hand6_id3_Act2_rgb',\n",
        " '/kaggle/input/classroom-student-behaviors/Behaviors_Features/Reading/ID4/Read6_id4_Act6_rgb',\n",
        " '/kaggle/input/classroom-student-behaviors/Behaviors_Features/Raising_Hand/ID4/Hand2_id4_Act2_rgb',\n",
        " '/kaggle/input/classroom-student-behaviors/Behaviors_Features/Reading/ID4/Read23_id4_Act3_rgb',\n",
        " '/kaggle/input/classroom-student-behaviors/Behaviors_Features/Reading/ID3/Read10_id3_Act4_rgb',\n",
        " '/kaggle/input/classroom-student-behaviors/Behaviors_Features/Writting/ID2/Write40_id2_Act1_rgb',\n",
        " '/kaggle/input/classroom-student-behaviors/Behaviors_Features/Reading/ID3/Read19_id3_Act8_rgb',\n",
        " '/kaggle/input/classroom-student-behaviors/Behaviors_Features/Raising_Hand/ID1/Hand33_id1_Act1_rgb',\n",
        " '/kaggle/input/classroom-student-behaviors/Behaviors_Features/Raising_Hand/ID2/Hand2_id2_Act1_rgb',\n",
        " '/kaggle/input/classroom-student-behaviors/Behaviors_Features/Raising_Hand/ID2/Hand22_id2_Act3_rgb',\n",
        " '/kaggle/input/classroom-student-behaviors/Behaviors_Features/Reading/ID3/Read12_id3_Act8_rgb',\n",
        " '/kaggle/input/classroom-student-behaviors/Behaviors_Features/Raising_Hand/ID4/Hand4_id4_Act2_rgb',\n",
        " '/kaggle/input/classroom-student-behaviors/Behaviors_Features/Writting/ID2/Write29_id2_Act1_rgb',\n",
        " '/kaggle/input/classroom-student-behaviors/Behaviors_Features/Sleeping/ID4/Sleep9_id4_Act3_rgb',\n",
        " '/kaggle/input/classroom-student-behaviors/Behaviors_Features/Writting/ID3/Write41_id3_Act1_rgb',\n",
        " '/kaggle/input/classroom-student-behaviors/Behaviors_Features/Reading/ID4/Read54_id4_Act9_rgb',\n",
        " '/kaggle/input/classroom-student-behaviors/Behaviors_Features/Writting/ID3/Write16_id3_Act1_rgb',\n",
        " '/kaggle/input/classroom-student-behaviors/Behaviors_Features/Raising_Hand/ID4/Hand27_id4_Act1_rgb',\n",
        " '/kaggle/input/classroom-student-behaviors/Behaviors_Features/Raising_Hand/ID3/Hand29_id3_Act4_rgb',\n",
        " '/kaggle/input/classroom-student-behaviors/Behaviors_Features/Reading/ID4/Read51_id4_Act2_rgb',\n",
        " '/kaggle/input/classroom-student-behaviors/Behaviors_Features/Writting/ID2/Write21_id2_Act1_rgb',\n",
        " '/kaggle/input/classroom-student-behaviors/Behaviors_Features/Sleeping/ID2/Sleep13_id2_Act5_rgb',\n",
        " '/kaggle/input/classroom-student-behaviors/Behaviors_Features/Writting/ID2/Write34_id2_Act1_rgb',\n",
        " '/kaggle/input/classroom-student-behaviors/Behaviors_Features/Reading/ID3/Read10_id3_Act2_rgb',\n",
        " '/kaggle/input/classroom-student-behaviors/Behaviors_Features/Writting/ID2/Write32_id2_Act2_rgb',\n",
        " '/kaggle/input/classroom-student-behaviors/Behaviors_Features/Raising_Hand/ID2/Hand39_id2_Act3_rgb',\n",
        " '/kaggle/input/classroom-student-behaviors/Behaviors_Features/Writting/ID3/Write26_id3_Act1_rgb',\n",
        " '/kaggle/input/classroom-student-behaviors/Behaviors_Features/Writting/ID2/Write6_id2_Act1_rgb',\n",
        " '/kaggle/input/classroom-student-behaviors/Behaviors_Features/Reading/ID3/Read11_id3_Act3_rgb',\n",
        " '/kaggle/input/classroom-student-behaviors/Behaviors_Features/Sleeping/ID3/Sleep37_id3_Act2_rgb',\n",
        " '/kaggle/input/classroom-student-behaviors/Behaviors_Features/Reading/ID4/Read29_id4_Act9_rgb',\n",
        " '/kaggle/input/classroom-student-behaviors/Behaviors_Features/Sleeping/ID2/Sleep45_id2_Act1_rgb',\n",
        " '/kaggle/input/classroom-student-behaviors/Behaviors_Features/Sleeping/ID4/Sleep6_id4_Act4_rgb',\n",
        " '/kaggle/input/classroom-student-behaviors/Behaviors_Features/Reading/ID4/Read19_id4_Act6_rgb',\n",
        " '/kaggle/input/classroom-student-behaviors/Behaviors_Features/Reading/ID3/Read14_id3_Act1_rgb',\n",
        " '/kaggle/input/classroom-student-behaviors/Behaviors_Features/Raising_Hand/ID1/Hand40_id1_Act2_rgb',\n",
        " '/kaggle/input/classroom-student-behaviors/Behaviors_Features/Reading/ID4/Read50_id4_Act2_rgb',\n",
        " '/kaggle/input/classroom-student-behaviors/Behaviors_Features/Writting/ID4/Write18_id4_Act1_rgb',\n",
        " '/kaggle/input/classroom-student-behaviors/Behaviors_Features/Sleeping/ID4/Sleep35_id4_Act3_rgb',\n",
        " '/kaggle/input/classroom-student-behaviors/Behaviors_Features/Raising_Hand/ID4/Hand29_id4_Act1_rgb',\n",
        " '/kaggle/input/classroom-student-behaviors/Behaviors_Features/Reading/ID4/Read27_id4_Act6_rgb',\n",
        " '/kaggle/input/classroom-student-behaviors/Behaviors_Features/Writting/ID1/Write6_id1_Act1_rgb',\n",
        " '/kaggle/input/classroom-student-behaviors/Behaviors_Features/Writting/ID3/Write35_id3_Act1_rgb',\n",
        " '/kaggle/input/classroom-student-behaviors/Behaviors_Features/Reading/ID3/Read11_id3_Act4_rgb',\n",
        " '/kaggle/input/classroom-student-behaviors/Behaviors_Features/Sleeping/ID2/Sleep30_id2_Act1_rgb',\n",
        " '/kaggle/input/classroom-student-behaviors/Behaviors_Features/Reading/ID3/Read13_id3_Act5_rgb',\n",
        " '/kaggle/input/classroom-student-behaviors/Behaviors_Features/Raising_Hand/ID4/Hand13_id4_Act1_rgb',\n",
        " '/kaggle/input/classroom-student-behaviors/Behaviors_Features/Sleeping/ID1/Sleep33_id1_Act1_rgb',\n",
        " '/kaggle/input/classroom-student-behaviors/Behaviors_Features/Reading/ID3/Read16_id3_Act5_rgb',\n",
        " '/kaggle/input/classroom-student-behaviors/Behaviors_Features/Raising_Hand/ID3/Hand29_id3_Act2_rgb',\n",
        " '/kaggle/input/classroom-student-behaviors/Behaviors_Features/Sleeping/ID4/Sleep9_id4_Act1_rgb',\n",
        " '/kaggle/input/classroom-student-behaviors/Behaviors_Features/Raising_Hand/ID3/Hand11_id3_Act1_rgb',\n",
        " '/kaggle/input/classroom-student-behaviors/Behaviors_Features/Raising_Hand/ID2/Hand23_id2_Act4_rgb',\n",
        " '/kaggle/input/classroom-student-behaviors/Behaviors_Features/Sleeping/ID4/Sleep28_id4_Act3_rgb',\n",
        " '/kaggle/input/classroom-student-behaviors/Behaviors_Features/Reading/ID4/Read43_id4_Act10_rgb',\n",
        " '/kaggle/input/classroom-student-behaviors/Behaviors_Features/Sleeping/ID2/Sleep27_id2_Act1_rgb',\n",
        " '/kaggle/input/classroom-student-behaviors/Behaviors_Features/Reading/ID3/Read12_id3_Act1_rgb',\n",
        " '/kaggle/input/classroom-student-behaviors/Behaviors_Features/Raising_Hand/ID4/Hand24_id4_Act2_rgb',\n",
        " '/kaggle/input/classroom-student-behaviors/Behaviors_Features/Raising_Hand/ID2/Hand22_id2_Act1_rgb',\n",
        " '/kaggle/input/classroom-student-behaviors/Behaviors_Features/Writting/ID2/Write44_id2_Act1_rgb',\n",
        " '/kaggle/input/classroom-student-behaviors/Behaviors_Features/Reading/ID4/Read36_id4_Act10_rgb',\n",
        " '/kaggle/input/classroom-student-behaviors/Behaviors_Features/Reading/ID4/Read40_id4_Act1_rgb',\n",
        " '/kaggle/input/classroom-student-behaviors/Behaviors_Features/Sleeping/ID3/Sleep9_id3_Act1_rgb',\n",
        " '/kaggle/input/classroom-student-behaviors/Behaviors_Features/Sleeping/ID1/Sleep26_id1_Act1_rgb',\n",
        " '/kaggle/input/classroom-student-behaviors/Behaviors_Features/Sleeping/ID4/Sleep14_id4_Act3_rgb',\n",
        " '/kaggle/input/classroom-student-behaviors/Behaviors_Features/Reading/ID3/Read16_id3_Act4_rgb',\n",
        " '/kaggle/input/classroom-student-behaviors/Behaviors_Features/Sleeping/ID3/Sleep23_id3_Act1_rgb',\n",
        " '/kaggle/input/classroom-student-behaviors/Behaviors_Features/Writting/ID3/Write36_id3_Act1_rgb',\n",
        " '/kaggle/input/classroom-student-behaviors/Behaviors_Features/Raising_Hand/ID4/Hand32_id4_Act2_rgb',\n",
        " '/kaggle/input/classroom-student-behaviors/Behaviors_Features/Raising_Hand/ID3/Hand24_id3_Act3_rgb',\n",
        " '/kaggle/input/classroom-student-behaviors/Behaviors_Features/Writting/ID2/Write17_id2_Act1_rgb',\n",
        " '/kaggle/input/classroom-student-behaviors/Behaviors_Features/Raising_Hand/ID4/Hand34_id4_Act2_rgb',\n",
        " '/kaggle/input/classroom-student-behaviors/Behaviors_Features/Raising_Hand/ID4/Hand19_id4_Act1_rgb',\n",
        " '/kaggle/input/classroom-student-behaviors/Behaviors_Features/Writting/ID4/Write24_id4_Act1_rgb',\n",
        " '/kaggle/input/classroom-student-behaviors/Behaviors_Features/Raising_Hand/ID1/Hand8_id1_Act1_rgb',\n",
        " '/kaggle/input/classroom-student-behaviors/Behaviors_Features/Sleeping/ID2/Sleep3_id2_Act1_rgb',\n",
        " '/kaggle/input/classroom-student-behaviors/Behaviors_Features/Sleeping/ID2/Sleep24_id2_Act1_rgb',\n",
        " '/kaggle/input/classroom-student-behaviors/Behaviors_Features/Raising_Hand/ID3/Hand30_id3_Act1_rgb',\n",
        " '/kaggle/input/classroom-student-behaviors/Behaviors_Features/Sleeping/ID1/Sleep41_id1_Act2_rgb',\n",
        " '/kaggle/input/classroom-student-behaviors/Behaviors_Features/Raising_Hand/ID1/Hand26_id1_Act1_rgb',\n",
        " '/kaggle/input/classroom-student-behaviors/Behaviors_Features/Reading/ID3/Read19_id3_Act5_rgb',\n",
        " '/kaggle/input/classroom-student-behaviors/Behaviors_Features/Raising_Hand/ID2/Hand33_id2_Act1_rgb',\n",
        " '/kaggle/input/classroom-student-behaviors/Behaviors_Features/Writting/ID2/Write22_id2_Act1_rgb',\n",
        " '/kaggle/input/classroom-student-behaviors/Behaviors_Features/Sleeping/ID3/Sleep40_id3_Act1_rgb',\n",
        " '/kaggle/input/classroom-student-behaviors/Behaviors_Features/Reading/ID3/Read19_id3_Act4_rgb',\n",
        " '/kaggle/input/classroom-student-behaviors/Behaviors_Features/Writting/ID3/Write26_id3_Act1_rgb',\n",
        " '/kaggle/input/classroom-student-behaviors/Behaviors_Features/Reading/ID3/Read13_id3_Act1_rgb',\n",
        " '/kaggle/input/classroom-student-behaviors/Behaviors_Features/Sleeping/ID4/Sleep9_id4_Act2_rgb',\n",
        " '/kaggle/input/classroom-student-behaviors/Behaviors_Features/Reading/ID4/Read36_id4_Act2_rgb',\n",
        " '/kaggle/input/classroom-student-behaviors/Behaviors_Features/Raising_Hand/ID3/Hand18_id3_Act1_rgb',\n",
        " '/kaggle/input/classroom-student-behaviors/Behaviors_Features/Writting/ID3/Write14_id3_Act1_rgb',\n",
        " '/kaggle/input/classroom-student-behaviors/Behaviors_Features/Sleeping/ID2/Sleep34_id2_Act3_rgb',\n",
        " '/kaggle/input/classroom-student-behaviors/Behaviors_Features/Reading/ID4/Read27_id4_Act3_rgb',\n",
        " '/kaggle/input/classroom-student-behaviors/Behaviors_Features/Reading/ID3/Read15_id3_Act5_rgb',\n",
        " '/kaggle/input/classroom-student-behaviors/Behaviors_Features/Reading/ID3/Read17_id3_Act3_rgb',\n",
        " '/kaggle/input/classroom-student-behaviors/Behaviors_Features/Sleeping/ID1/Sleep35_id1_Act2_rgb',\n",
        " '/kaggle/input/classroom-student-behaviors/Behaviors_Features/Writting/ID4/Write23_id4_Act1_rgb',\n",
        " '/kaggle/input/classroom-student-behaviors/Behaviors_Features/Writting/ID4/Write20_id4_Act1_rgb',\n",
        " '/kaggle/input/classroom-student-behaviors/Behaviors_Features/Reading/ID4/Read58_id4_Act8_rgb',\n",
        " '/kaggle/input/classroom-student-behaviors/Behaviors_Features/Writting/ID4/Write43_id4_Act1_rgb',\n",
        " '/kaggle/input/classroom-student-behaviors/Behaviors_Features/Writting/ID1/Write30_id1_Act1_rgb',\n",
        " '/kaggle/input/classroom-student-behaviors/Behaviors_Features/Writting/ID1/Write27_id1_Act1_rgb',\n",
        " '/kaggle/input/classroom-student-behaviors/Behaviors_Features/Writting/ID4/Write28_id4_Act1_rgb',\n",
        " '/kaggle/input/classroom-student-behaviors/Behaviors_Features/Reading/ID4/Read18_id4_Act6_rgb',\n",
        " '/kaggle/input/classroom-student-behaviors/Behaviors_Features/Reading/ID3/Read17_id3_Act1_rgb',\n",
        " '/kaggle/input/classroom-student-behaviors/Behaviors_Features/Reading/ID3/Read16_id3_Act6_rgb',\n",
        " '/kaggle/input/classroom-student-behaviors/Behaviors_Features/Sleeping/ID4/Sleep34_id4_Act2_rgb',\n",
        " '/kaggle/input/classroom-student-behaviors/Behaviors_Features/Writting/ID2/Write44_id2_Act1_rgb',\n",
        " '/kaggle/input/classroom-student-behaviors/Behaviors_Features/Raising_Hand/ID4/Hand31_id4_Act2_rgb',\n",
        " '/kaggle/input/classroom-student-behaviors/Behaviors_Features/Sleeping/ID3/Sleep14_id3_Act3_rgb',\n",
        " '/kaggle/input/classroom-student-behaviors/Behaviors_Features/Raising_Hand/ID1/Hand1_id1_Act1_rgb',\n",
        " '/kaggle/input/classroom-student-behaviors/Behaviors_Features/Writting/ID3/Write39_id3_Act1_rgb',\n",
        " '/kaggle/input/classroom-student-behaviors/Behaviors_Features/Raising_Hand/ID3/Hand3_id3_Act1_rgb',\n",
        " '/kaggle/input/classroom-student-behaviors/Behaviors_Features/Reading/ID3/Read16_id3_Act3_rgb',\n",
        " '/kaggle/input/classroom-student-behaviors/Behaviors_Features/Raising_Hand/ID2/Hand22_id2_Act2_rgb',\n",
        " '/kaggle/input/classroom-student-behaviors/Behaviors_Features/Writting/ID3/Write41_id3_Act1_rgb',\n",
        " '/kaggle/input/classroom-student-behaviors/Behaviors_Features/Sleeping/ID4/Sleep33_id4_Act1_rgb',\n",
        " '/kaggle/input/classroom-student-behaviors/Behaviors_Features/Writting/ID1/Write7_id1_Act1_rgb',\n",
        " '/kaggle/input/classroom-student-behaviors/Behaviors_Features/Sleeping/ID3/Sleep15_id3_Act3_rgb',\n",
        " '/kaggle/input/classroom-student-behaviors/Behaviors_Features/Raising_Hand/ID4/Hand39_id4_Act4_rgb',\n",
        " '/kaggle/input/classroom-student-behaviors/Behaviors_Features/Sleeping/ID2/Sleep23_id2_Act1_rgb',\n",
        " '/kaggle/input/classroom-student-behaviors/Behaviors_Features/Sleeping/ID2/Sleep28_id2_Act1_rgb',\n",
        " '/kaggle/input/classroom-student-behaviors/Behaviors_Features/Reading/ID4/Read6_id4_Act4_rgb',\n",
        " '/kaggle/input/classroom-student-behaviors/Behaviors_Features/Raising_Hand/ID1/Hand16_id1_Act1_rgb',\n",
        " '/kaggle/input/classroom-student-behaviors/Behaviors_Features/Sleeping/ID1/Sleep42_id1_Act4_rgb',\n",
        " '/kaggle/input/classroom-student-behaviors/Behaviors_Features/Sleeping/ID3/Sleep5_id3_Act2_rgb',\n",
        " '/kaggle/input/classroom-student-behaviors/Behaviors_Features/Reading/ID4/Read2_id4_Act3_rgb',\n",
        " '/kaggle/input/classroom-student-behaviors/Behaviors_Features/Reading/ID3/Read19_id3_Act7_rgb',\n",
        " '/kaggle/input/classroom-student-behaviors/Behaviors_Features/Writting/ID4/Write6_id4_Act2_rgb',\n",
        " '/kaggle/input/classroom-student-behaviors/Behaviors_Features/Writting/ID2/Write3_id2_Act1_rgb',\n",
        " '/kaggle/input/classroom-student-behaviors/Behaviors_Features/Writting/ID4/Write8_id4_Act1_rgb',\n",
        " '/kaggle/input/classroom-student-behaviors/Behaviors_Features/Writting/ID3/Write35_id3_Act1_rgb',\n",
        " '/kaggle/input/classroom-student-behaviors/Behaviors_Features/Reading/ID4/Read54_id4_Act1_rgb',\n",
        " '/kaggle/input/classroom-student-behaviors/Behaviors_Features/Reading/ID3/Read11_id3_Act7_rgb',\n",
        " '/kaggle/input/classroom-student-behaviors/Behaviors_Features/Writting/ID2/Write25_id2_Act1_rgb',\n",
        " '/kaggle/input/classroom-student-behaviors/Behaviors_Features/Writting/ID3/Write3_id3_Act1_rgb',\n",
        " '/kaggle/input/classroom-student-behaviors/Behaviors_Features/Raising_Hand/ID3/Hand27_id3_Act4_rgb',\n",
        " '/kaggle/input/classroom-student-behaviors/Behaviors_Features/Writting/ID2/Write21_id2_Act1_rgb',\n",
        " '/kaggle/input/classroom-student-behaviors/Behaviors_Features/Reading/ID4/Read4_id4_Act6_rgb',\n",
        " '/kaggle/input/classroom-student-behaviors/Behaviors_Features/Raising_Hand/ID2/Hand39_id2_Act1_rgb',\n",
        " '/kaggle/input/classroom-student-behaviors/Behaviors_Features/Sleeping/ID1/Sleep43_id1_Act1_rgb',\n",
        " '/kaggle/input/classroom-student-behaviors/Behaviors_Features/Writting/ID1/Write2_id1_Act1_rgb',\n",
        " '/kaggle/input/classroom-student-behaviors/Behaviors_Features/Reading/ID3/Read17_id3_Act4_rgb',\n",
        " '/kaggle/input/classroom-student-behaviors/Behaviors_Features/Reading/ID4/Read51_id4_Act6_rgb',\n",
        " '/kaggle/input/classroom-student-behaviors/Behaviors_Features/Reading/ID3/Read18_id3_Act6_rgb',\n",
        " '/kaggle/input/classroom-student-behaviors/Behaviors_Features/Sleeping/ID3/Sleep18_id3_Act1_rgb',\n",
        " '/kaggle/input/classroom-student-behaviors/Behaviors_Features/Sleeping/ID4/Sleep41_id4_Act1_rgb',\n",
        " '/kaggle/input/classroom-student-behaviors/Behaviors_Features/Writting/ID2/Write25_id2_Act1_rgb',\n",
        " '/kaggle/input/classroom-student-behaviors/Behaviors_Features/Sleeping/ID2/Sleep1_id2_Act1_rgb',\n",
        " '/kaggle/input/classroom-student-behaviors/Behaviors_Features/Sleeping/ID1/Sleep17_id1_Act3_rgb',\n",
        " '/kaggle/input/classroom-student-behaviors/Behaviors_Features/Raising_Hand/ID4/Hand14_id4_Act1_rgb',\n",
        " '/kaggle/input/classroom-student-behaviors/Behaviors_Features/Raising_Hand/ID4/Hand4_id4_Act4_rgb',\n",
        " '/kaggle/input/classroom-student-behaviors/Behaviors_Features/Sleeping/ID3/Sleep6_id3_Act1_rgb',\n",
        " '/kaggle/input/classroom-student-behaviors/Behaviors_Features/Raising_Hand/ID4/Hand21_id4_Act1_rgb',\n",
        " '/kaggle/input/classroom-student-behaviors/Behaviors_Features/Writting/ID1/Write38_id1_Act1_rgb',\n",
        " '/kaggle/input/classroom-student-behaviors/Behaviors_Features/Sleeping/ID2/Sleep14_id2_Act1_rgb',\n",
        " '/kaggle/input/classroom-student-behaviors/Behaviors_Features/Reading/ID3/Read10_id3_Act6_rgb',\n",
        " '/kaggle/input/classroom-student-behaviors/Behaviors_Features/Writting/ID1/Write12_id1_Act1_rgb',\n",
        " '/kaggle/input/classroom-student-behaviors/Behaviors_Features/Raising_Hand/ID4/Hand35_id4_Act1_rgb',\n",
        " '/kaggle/input/classroom-student-behaviors/Behaviors_Features/Raising_Hand/ID2/Hand5_id2_Act2_rgb',\n",
        " '/kaggle/input/classroom-student-behaviors/Behaviors_Features/Raising_Hand/ID3/Hand6_id3_Act1_rgb',\n",
        " '/kaggle/input/classroom-student-behaviors/Behaviors_Features/Raising_Hand/ID4/Hand37_id4_Act1_rgb',\n",
        " '/kaggle/input/classroom-student-behaviors/Behaviors_Features/Reading/ID4/Read53_id4_Act3_rgb',\n",
        " '/kaggle/input/classroom-student-behaviors/Behaviors_Features/Writting/ID1/Write12_id1_Act1_rgb',\n",
        " '/kaggle/input/classroom-student-behaviors/Behaviors_Features/Raising_Hand/ID4/Hand5_id4_Act1_rgb']\n",
        "train_dataset = ['/kaggle/input/classroom-student-behaviors/Behaviors_Features/Writting/ID1/Write7_id1_Act1_rgb',\n",
        " '/kaggle/input/classroom-student-behaviors/Behaviors_Features/Raising_Hand/ID3/Hand10_id3_Act1_rgb',\n",
        " '/kaggle/input/classroom-student-behaviors/Behaviors_Features/Reading/ID3/Read13_id3_Act9_rgb',\n",
        " '/kaggle/input/classroom-student-behaviors/Behaviors_Features/Raising_Hand/ID3/Hand33_id3_Act2_rgb',\n",
        " '/kaggle/input/classroom-student-behaviors/Behaviors_Features/Raising_Hand/ID1/Hand37_id1_Act1_rgb',\n",
        " '/kaggle/input/classroom-student-behaviors/Behaviors_Features/Raising_Hand/ID4/Hand11_id4_Act2_rgb',\n",
        " '/kaggle/input/classroom-student-behaviors/Behaviors_Features/Writting/ID2/Write14_id2_Act1_rgb',\n",
        " '/kaggle/input/classroom-student-behaviors/Behaviors_Features/Reading/ID3/Read16_id3_Act8_rgb',\n",
        " '/kaggle/input/classroom-student-behaviors/Behaviors_Features/Reading/ID3/Read11_id3_Act6_rgb',\n",
        " '/kaggle/input/classroom-student-behaviors/Behaviors_Features/Raising_Hand/ID4/Hand18_id4_Act1_rgb',\n",
        " '/kaggle/input/classroom-student-behaviors/Behaviors_Features/Writting/ID1/Write7_id1_Act1_rgb',\n",
        " '/kaggle/input/classroom-student-behaviors/Behaviors_Features/Raising_Hand/ID4/Hand39_id4_Act3_rgb',\n",
        " '/kaggle/input/classroom-student-behaviors/Behaviors_Features/Sleeping/ID2/Sleep10_id2_Act1_rgb',\n",
        " '/kaggle/input/classroom-student-behaviors/Behaviors_Features/Sleeping/ID3/Sleep30_id3_Act2_rgb',\n",
        " '/kaggle/input/classroom-student-behaviors/Behaviors_Features/Raising_Hand/ID2/Hand25_id2_Act2_rgb',\n",
        " '/kaggle/input/classroom-student-behaviors/Behaviors_Features/Raising_Hand/ID1/Hand23_id1_Act1_rgb',\n",
        " '/kaggle/input/classroom-student-behaviors/Behaviors_Features/Writting/ID4/Write14_id4_Act1_rgb',\n",
        " '/kaggle/input/classroom-student-behaviors/Behaviors_Features/Raising_Hand/ID4/Hand10_id4_Act1_rgb',\n",
        " '/kaggle/input/classroom-student-behaviors/Behaviors_Features/Sleeping/ID1/Sleep32_id1_Act1_rgb',\n",
        " '/kaggle/input/classroom-student-behaviors/Behaviors_Features/Writting/ID3/Write17_id3_Act1_rgb',\n",
        " '/kaggle/input/classroom-student-behaviors/Behaviors_Features/Raising_Hand/ID2/Hand26_id2_Act3_rgb',\n",
        " '/kaggle/input/classroom-student-behaviors/Behaviors_Features/Sleeping/ID4/Sleep14_id4_Act2_rgb',\n",
        " '/kaggle/input/classroom-student-behaviors/Behaviors_Features/Writting/ID4/Write6_id4_Act2_rgb',\n",
        " '/kaggle/input/classroom-student-behaviors/Behaviors_Features/Raising_Hand/ID4/Hand23_id4_Act3_rgb',\n",
        " '/kaggle/input/classroom-student-behaviors/Behaviors_Features/Sleeping/ID4/Sleep29_id4_Act1_rgb',\n",
        " '/kaggle/input/classroom-student-behaviors/Behaviors_Features/Reading/ID3/Read18_id3_Act7_rgb',\n",
        " '/kaggle/input/classroom-student-behaviors/Behaviors_Features/Raising_Hand/ID2/Hand34_id2_Act1_rgb',\n",
        " '/kaggle/input/classroom-student-behaviors/Behaviors_Features/Reading/ID3/Read10_id3_Act9_rgb',\n",
        " '/kaggle/input/classroom-student-behaviors/Behaviors_Features/Writting/ID3/Write27_id3_Act2_rgb',\n",
        " '/kaggle/input/classroom-student-behaviors/Behaviors_Features/Reading/ID1/Read50_id1_Act7_rgb',\n",
        " '/kaggle/input/classroom-student-behaviors/Behaviors_Features/Sleeping/ID3/Sleep14_id3_Act1_rgb',\n",
        " '/kaggle/input/classroom-student-behaviors/Behaviors_Features/Writting/ID3/Write10_id3_Act1_rgb',\n",
        " '/kaggle/input/classroom-student-behaviors/Behaviors_Features/Reading/ID4/Read32_id4_Act2_rgb',\n",
        " '/kaggle/input/classroom-student-behaviors/Behaviors_Features/Reading/ID4/Read31_id4_Act2_rgb',\n",
        " '/kaggle/input/classroom-student-behaviors/Behaviors_Features/Sleeping/ID2/Sleep46_id2_Act1_rgb',\n",
        " '/kaggle/input/classroom-student-behaviors/Behaviors_Features/Reading/ID3/Read19_id3_Act2_rgb',\n",
        " '/kaggle/input/classroom-student-behaviors/Behaviors_Features/Sleeping/ID3/Sleep15_id3_Act2_rgb',\n",
        " '/kaggle/input/classroom-student-behaviors/Behaviors_Features/Raising_Hand/ID3/Hand24_id3_Act1_rgb',\n",
        " '/kaggle/input/classroom-student-behaviors/Behaviors_Features/Writting/ID3/Write19_id3_Act1_rgb',\n",
        " '/kaggle/input/classroom-student-behaviors/Behaviors_Features/Raising_Hand/ID3/Hand4_id3_Act1_rgb',\n",
        " '/kaggle/input/classroom-student-behaviors/Behaviors_Features/Raising_Hand/ID4/Hand37_id4_Act2_rgb',\n",
        " '/kaggle/input/classroom-student-behaviors/Behaviors_Features/Sleeping/ID4/Sleep25_id4_Act2_rgb',\n",
        " '/kaggle/input/classroom-student-behaviors/Behaviors_Features/Raising_Hand/ID4/Hand22_id4_Act1_rgb',\n",
        " '/kaggle/input/classroom-student-behaviors/Behaviors_Features/Reading/ID4/Read27_id4_Act4_rgb',\n",
        " '/kaggle/input/classroom-student-behaviors/Behaviors_Features/Writting/ID4/Write44_id4_Act1_rgb',\n",
        " '/kaggle/input/classroom-student-behaviors/Behaviors_Features/Writting/ID1/Write12_id1_Act1_rgb',\n",
        " '/kaggle/input/classroom-student-behaviors/Behaviors_Features/Sleeping/ID4/Sleep20_id4_Act1_rgb',\n",
        " '/kaggle/input/classroom-student-behaviors/Behaviors_Features/Reading/ID3/Read17_id3_Act2_rgb',\n",
        " '/kaggle/input/classroom-student-behaviors/Behaviors_Features/Writting/ID1/Write6_id1_Act1_rgb',\n",
        " '/kaggle/input/classroom-student-behaviors/Behaviors_Features/Sleeping/ID4/Sleep25_id4_Act3_rgb',\n",
        " '/kaggle/input/classroom-student-behaviors/Behaviors_Features/Sleeping/ID3/Sleep42_id3_Act3_rgb',\n",
        " '/kaggle/input/classroom-student-behaviors/Behaviors_Features/Reading/ID4/Read55_id4_Act1_rgb',\n",
        " '/kaggle/input/classroom-student-behaviors/Behaviors_Features/Writting/ID1/Write34_id1_Act1_rgb',\n",
        " '/kaggle/input/classroom-student-behaviors/Behaviors_Features/Raising_Hand/ID3/Hand38_id3_Act1_rgb',\n",
        " '/kaggle/input/classroom-student-behaviors/Behaviors_Features/Reading/ID3/Read11_id3_Act8_rgb',\n",
        " '/kaggle/input/classroom-student-behaviors/Behaviors_Features/Sleeping/ID2/Sleep30_id2_Act2_rgb',\n",
        " '/kaggle/input/classroom-student-behaviors/Behaviors_Features/Writting/ID3/Write22_id3_Act1_rgb',\n",
        " '/kaggle/input/classroom-student-behaviors/Behaviors_Features/Sleeping/ID2/Sleep9_id2_Act1_rgb',\n",
        " '/kaggle/input/classroom-student-behaviors/Behaviors_Features/Reading/ID4/Read16_id4_Act6_rgb',\n",
        " '/kaggle/input/classroom-student-behaviors/Behaviors_Features/Reading/ID1/Read40_id1_Act2_rgb',\n",
        " '/kaggle/input/classroom-student-behaviors/Behaviors_Features/Raising_Hand/ID4/Hand21_id4_Act2_rgb',\n",
        " '/kaggle/input/classroom-student-behaviors/Behaviors_Features/Writting/ID1/Write30_id1_Act1_rgb',\n",
        " '/kaggle/input/classroom-student-behaviors/Behaviors_Features/Reading/ID3/Read15_id3_Act9_rgb',\n",
        " '/kaggle/input/classroom-student-behaviors/Behaviors_Features/Sleeping/ID3/Sleep14_id3_Act4_rgb',\n",
        " '/kaggle/input/classroom-student-behaviors/Behaviors_Features/Writting/ID2/Write20_id2_Act1_rgb',\n",
        " '/kaggle/input/classroom-student-behaviors/Behaviors_Features/Reading/ID3/Read19_id3_Act10_rgb',\n",
        " '/kaggle/input/classroom-student-behaviors/Behaviors_Features/Sleeping/ID4/Sleep15_id4_Act3_rgb',\n",
        " '/kaggle/input/classroom-student-behaviors/Behaviors_Features/Writting/ID2/Write40_id2_Act1_rgb',\n",
        " '/kaggle/input/classroom-student-behaviors/Behaviors_Features/Writting/ID3/Write40_id3_Act1_rgb',\n",
        " '/kaggle/input/classroom-student-behaviors/Behaviors_Features/Sleeping/ID4/Sleep5_id4_Act1_rgb',\n",
        " '/kaggle/input/classroom-student-behaviors/Behaviors_Features/Raising_Hand/ID4/Hand25_id4_Act3_rgb',\n",
        " '/kaggle/input/classroom-student-behaviors/Behaviors_Features/Raising_Hand/ID4/Hand40_id4_Act2_rgb',\n",
        " '/kaggle/input/classroom-student-behaviors/Behaviors_Features/Sleeping/ID1/Sleep34_id1_Act1_rgb',\n",
        " '/kaggle/input/classroom-student-behaviors/Behaviors_Features/Raising_Hand/ID1/Hand24_id1_Act1_rgb',\n",
        " '/kaggle/input/classroom-student-behaviors/Behaviors_Features/Writting/ID2/Write12_id2_Act1_rgb',\n",
        " '/kaggle/input/classroom-student-behaviors/Behaviors_Features/Raising_Hand/ID2/Hand23_id2_Act2_rgb',\n",
        " '/kaggle/input/classroom-student-behaviors/Behaviors_Features/Reading/ID3/Read19_id3_Act9_rgb',\n",
        " '/kaggle/input/classroom-student-behaviors/Behaviors_Features/Sleeping/ID4/Sleep35_id4_Act5_rgb',\n",
        " '/kaggle/input/classroom-student-behaviors/Behaviors_Features/Raising_Hand/ID3/Hand37_id3_Act1_rgb',\n",
        " '/kaggle/input/classroom-student-behaviors/Behaviors_Features/Reading/ID4/Read48_id4_Act10_rgb',\n",
        " '/kaggle/input/classroom-student-behaviors/Behaviors_Features/Sleeping/ID1/Sleep28_id1_Act1_rgb',\n",
        " '/kaggle/input/classroom-student-behaviors/Behaviors_Features/Writting/ID4/Write8_id4_Act1_rgb',\n",
        " '/kaggle/input/classroom-student-behaviors/Behaviors_Features/Sleeping/ID1/Sleep45_id1_Act1_rgb',\n",
        " '/kaggle/input/classroom-student-behaviors/Behaviors_Features/Writting/ID3/Write23_id3_Act1_rgb',\n",
        " '/kaggle/input/classroom-student-behaviors/Behaviors_Features/Raising_Hand/ID3/Hand13_id3_Act1_rgb',\n",
        " '/kaggle/input/classroom-student-behaviors/Behaviors_Features/Sleeping/ID2/Sleep25_id2_Act5_rgb',\n",
        " '/kaggle/input/classroom-student-behaviors/Behaviors_Features/Raising_Hand/ID2/Hand40_id2_Act1_rgb',\n",
        " '/kaggle/input/classroom-student-behaviors/Behaviors_Features/Sleeping/ID4/Sleep45_id4_Act1_rgb',\n",
        " '/kaggle/input/classroom-student-behaviors/Behaviors_Features/Sleeping/ID1/Sleep24_id1_Act1_rgb',\n",
        " '/kaggle/input/classroom-student-behaviors/Behaviors_Features/Writting/ID3/Write7_id3_Act1_rgb',\n",
        " '/kaggle/input/classroom-student-behaviors/Behaviors_Features/Raising_Hand/ID2/Hand26_id2_Act1_rgb',\n",
        " '/kaggle/input/classroom-student-behaviors/Behaviors_Features/Writting/ID4/Write9_id4_Act1_rgb',\n",
        " '/kaggle/input/classroom-student-behaviors/Behaviors_Features/Reading/ID4/Read54_id4_Act7_rgb',\n",
        " '/kaggle/input/classroom-student-behaviors/Behaviors_Features/Writting/ID4/Write9_id4_Act1_rgb',\n",
        " '/kaggle/input/classroom-student-behaviors/Behaviors_Features/Reading/ID4/Read7_id4_Act1_rgb',\n",
        " '/kaggle/input/classroom-student-behaviors/Behaviors_Features/Sleeping/ID2/Sleep19_id2_Act1_rgb',\n",
        " '/kaggle/input/classroom-student-behaviors/Behaviors_Features/Reading/ID3/Read16_id3_Act2_rgb',\n",
        " '/kaggle/input/classroom-student-behaviors/Behaviors_Features/Raising_Hand/ID4/Hand7_id4_Act2_rgb',\n",
        " '/kaggle/input/classroom-student-behaviors/Behaviors_Features/Reading/ID4/Read30_id4_Act7_rgb',\n",
        " '/kaggle/input/classroom-student-behaviors/Behaviors_Features/Sleeping/ID3/Sleep25_id3_Act3_rgb',\n",
        " '/kaggle/input/classroom-student-behaviors/Behaviors_Features/Writting/ID4/Write9_id4_Act1_rgb',\n",
        " '/kaggle/input/classroom-student-behaviors/Behaviors_Features/Reading/ID3/Read12_id3_Act10_rgb',\n",
        " '/kaggle/input/classroom-student-behaviors/Behaviors_Features/Raising_Hand/ID2/Hand31_id2_Act1_rgb',\n",
        " '/kaggle/input/classroom-student-behaviors/Behaviors_Features/Raising_Hand/ID4/Hand16_id4_Act1_rgb',\n",
        " '/kaggle/input/classroom-student-behaviors/Behaviors_Features/Reading/ID4/Read20_id4_Act1_rgb',\n",
        " '/kaggle/input/classroom-student-behaviors/Behaviors_Features/Reading/ID3/Read18_id3_Act8_rgb',\n",
        " '/kaggle/input/classroom-student-behaviors/Behaviors_Features/Sleeping/ID1/Sleep1_id1_Act1_rgb',\n",
        " '/kaggle/input/classroom-student-behaviors/Behaviors_Features/Writting/ID1/Write30_id1_Act1_rgb',\n",
        " '/kaggle/input/classroom-student-behaviors/Behaviors_Features/Raising_Hand/ID3/Hand7_id3_Act2_rgb',\n",
        " '/kaggle/input/classroom-student-behaviors/Behaviors_Features/Sleeping/ID1/Sleep10_id1_Act2_rgb',\n",
        " '/kaggle/input/classroom-student-behaviors/Behaviors_Features/Reading/ID4/Read53_id4_Act10_rgb',\n",
        " '/kaggle/input/classroom-student-behaviors/Behaviors_Features/Raising_Hand/ID2/Hand23_id2_Act3_rgb',\n",
        " '/kaggle/input/classroom-student-behaviors/Behaviors_Features/Raising_Hand/ID1/Hand32_id1_Act2_rgb',\n",
        " '/kaggle/input/classroom-student-behaviors/Behaviors_Features/Reading/ID4/Read20_id4_Act8_rgb',\n",
        " '/kaggle/input/classroom-student-behaviors/Behaviors_Features/Raising_Hand/ID3/Hand9_id3_Act1_rgb',\n",
        " '/kaggle/input/classroom-student-behaviors/Behaviors_Features/Reading/ID4/Read5_id4_Act9_rgb',\n",
        " '/kaggle/input/classroom-student-behaviors/Behaviors_Features/Writting/ID4/Write16_id4_Act1_rgb',\n",
        " '/kaggle/input/classroom-student-behaviors/Behaviors_Features/Sleeping/ID1/Sleep19_id1_Act1_rgb',\n",
        " '/kaggle/input/classroom-student-behaviors/Behaviors_Features/Writting/ID3/Write29_id3_Act1_rgb',\n",
        " '/kaggle/input/classroom-student-behaviors/Behaviors_Features/Reading/ID3/Read10_id3_Act7_rgb',\n",
        " '/kaggle/input/classroom-student-behaviors/Behaviors_Features/Sleeping/ID2/Sleep22_id2_Act5_rgb',\n",
        " '/kaggle/input/classroom-student-behaviors/Behaviors_Features/Sleeping/ID2/Sleep6_id2_Act3_rgb',\n",
        " '/kaggle/input/classroom-student-behaviors/Behaviors_Features/Writting/ID2/Write5_id2_Act1_rgb',\n",
        " '/kaggle/input/classroom-student-behaviors/Behaviors_Features/Reading/ID4/Read36_id4_Act8_rgb',\n",
        " '/kaggle/input/classroom-student-behaviors/Behaviors_Features/Raising_Hand/ID4/Hand37_id4_Act3_rgb',\n",
        " '/kaggle/input/classroom-student-behaviors/Behaviors_Features/Reading/ID3/Read13_id3_Act3_rgb',\n",
        " '/kaggle/input/classroom-student-behaviors/Behaviors_Features/Writting/ID4/Write44_id4_Act1_rgb',\n",
        " '/kaggle/input/classroom-student-behaviors/Behaviors_Features/Writting/ID1/Write30_id1_Act1_rgb',\n",
        " '/kaggle/input/classroom-student-behaviors/Behaviors_Features/Raising_Hand/ID4/Hand7_id4_Act1_rgb',\n",
        " '/kaggle/input/classroom-student-behaviors/Behaviors_Features/Raising_Hand/ID2/Hand14_id2_Act1_rgb',\n",
        " '/kaggle/input/classroom-student-behaviors/Behaviors_Features/Sleeping/ID1/Sleep25_id1_Act1_rgb',\n",
        " '/kaggle/input/classroom-student-behaviors/Behaviors_Features/Sleeping/ID1/Sleep34_id1_Act3_rgb',\n",
        " '/kaggle/input/classroom-student-behaviors/Behaviors_Features/Sleeping/ID2/Sleep3_id2_Act3_rgb',\n",
        " '/kaggle/input/classroom-student-behaviors/Behaviors_Features/Reading/ID4/Read26_id4_Act4_rgb',\n",
        " '/kaggle/input/classroom-student-behaviors/Behaviors_Features/Raising_Hand/ID1/Hand21_id1_Act1_rgb',\n",
        " '/kaggle/input/classroom-student-behaviors/Behaviors_Features/Raising_Hand/ID4/Hand25_id4_Act2_rgb',\n",
        " '/kaggle/input/classroom-student-behaviors/Behaviors_Features/Raising_Hand/ID3/Hand2_id3_Act3_rgb',\n",
        " '/kaggle/input/classroom-student-behaviors/Behaviors_Features/Reading/ID4/Read28_id4_Act9_rgb',\n",
        " '/kaggle/input/classroom-student-behaviors/Behaviors_Features/Writting/ID3/Write16_id3_Act1_rgb',\n",
        " '/kaggle/input/classroom-student-behaviors/Behaviors_Features/Writting/ID3/Write29_id3_Act1_rgb',\n",
        " '/kaggle/input/classroom-student-behaviors/Behaviors_Features/Sleeping/ID2/Sleep7_id2_Act1_rgb',\n",
        " '/kaggle/input/classroom-student-behaviors/Behaviors_Features/Raising_Hand/ID1/Hand27_id1_Act1_rgb',\n",
        " '/kaggle/input/classroom-student-behaviors/Behaviors_Features/Raising_Hand/ID3/Hand33_id3_Act1_rgb',\n",
        " '/kaggle/input/classroom-student-behaviors/Behaviors_Features/Writting/ID4/Write6_id4_Act2_rgb',\n",
        " '/kaggle/input/classroom-student-behaviors/Behaviors_Features/Writting/ID1/Write3_id1_Act1_rgb',\n",
        " '/kaggle/input/classroom-student-behaviors/Behaviors_Features/Raising_Hand/ID1/Hand36_id1_Act1_rgb',\n",
        " '/kaggle/input/classroom-student-behaviors/Behaviors_Features/Writting/ID2/Write12_id2_Act1_rgb',\n",
        " '/kaggle/input/classroom-student-behaviors/Behaviors_Features/Sleeping/ID2/Sleep8_id2_Act1_rgb',\n",
        " '/kaggle/input/classroom-student-behaviors/Behaviors_Features/Reading/ID4/Read53_id4_Act5_rgb',\n",
        " '/kaggle/input/classroom-student-behaviors/Behaviors_Features/Raising_Hand/ID2/Hand9_id2_Act1_rgb',\n",
        " '/kaggle/input/classroom-student-behaviors/Behaviors_Features/Reading/ID4/Read29_id4_Act1_rgb',\n",
        " '/kaggle/input/classroom-student-behaviors/Behaviors_Features/Raising_Hand/ID3/Hand1_id3_Act1_rgb',\n",
        " '/kaggle/input/classroom-student-behaviors/Behaviors_Features/Reading/ID4/Read53_id4_Act4_rgb',\n",
        " '/kaggle/input/classroom-student-behaviors/Behaviors_Features/Raising_Hand/ID2/Hand26_id2_Act2_rgb',\n",
        " '/kaggle/input/classroom-student-behaviors/Behaviors_Features/Reading/ID3/Read18_id3_Act5_rgb',\n",
        " '/kaggle/input/classroom-student-behaviors/Behaviors_Features/Reading/ID4/Read52_id4_Act4_rgb',\n",
        " '/kaggle/input/classroom-student-behaviors/Behaviors_Features/Writting/ID4/Write20_id4_Act1_rgb',\n",
        " '/kaggle/input/classroom-student-behaviors/Behaviors_Features/Reading/ID3/Read12_id3_Act5_rgb',\n",
        " '/kaggle/input/classroom-student-behaviors/Behaviors_Features/Writting/ID1/Write30_id1_Act1_rgb',\n",
        " '/kaggle/input/classroom-student-behaviors/Behaviors_Features/Sleeping/ID1/Sleep11_id1_Act1_rgb',\n",
        " '/kaggle/input/classroom-student-behaviors/Behaviors_Features/Reading/ID3/Read16_id3_Act1_rgb',\n",
        " '/kaggle/input/classroom-student-behaviors/Behaviors_Features/Writting/ID2/Write9_id2_Act1_rgb',\n",
        " '/kaggle/input/classroom-student-behaviors/Behaviors_Features/Writting/ID4/Write31_id4_Act1_rgb',\n",
        " '/kaggle/input/classroom-student-behaviors/Behaviors_Features/Raising_Hand/ID3/Hand2_id3_Act1_rgb',\n",
        " '/kaggle/input/classroom-student-behaviors/Behaviors_Features/Sleeping/ID3/Sleep18_id3_Act2_rgb',\n",
        " '/kaggle/input/classroom-student-behaviors/Behaviors_Features/Reading/ID3/Read18_id3_Act3_rgb',\n",
        " '/kaggle/input/classroom-student-behaviors/Behaviors_Features/Sleeping/ID1/Sleep29_id1_Act3_rgb',\n",
        " '/kaggle/input/classroom-student-behaviors/Behaviors_Features/Writting/ID3/Write4_id3_Act1_rgb',\n",
        " '/kaggle/input/classroom-student-behaviors/Behaviors_Features/Reading/ID3/Read14_id3_Act6_rgb',\n",
        " '/kaggle/input/classroom-student-behaviors/Behaviors_Features/Reading/ID3/Read15_id3_Act2_rgb',\n",
        " '/kaggle/input/classroom-student-behaviors/Behaviors_Features/Sleeping/ID1/Sleep42_id1_Act2_rgb',\n",
        " '/kaggle/input/classroom-student-behaviors/Behaviors_Features/Sleeping/ID1/Sleep36_id1_Act2_rgb',\n",
        " '/kaggle/input/classroom-student-behaviors/Behaviors_Features/Writting/ID1/Write29_id1_Act1_rgb',\n",
        " '/kaggle/input/classroom-student-behaviors/Behaviors_Features/Sleeping/ID1/Sleep42_id1_Act1_rgb',\n",
        " '/kaggle/input/classroom-student-behaviors/Behaviors_Features/Raising_Hand/ID4/Hand31_id4_Act1_rgb',\n",
        " '/kaggle/input/classroom-student-behaviors/Behaviors_Features/Sleeping/ID3/Sleep29_id3_Act1_rgb',\n",
        " '/kaggle/input/classroom-student-behaviors/Behaviors_Features/Raising_Hand/ID3/Hand4_id3_Act3_rgb',\n",
        " '/kaggle/input/classroom-student-behaviors/Behaviors_Features/Sleeping/ID3/Sleep5_id3_Act1_rgb',\n",
        " '/kaggle/input/classroom-student-behaviors/Behaviors_Features/Writting/ID4/Write38_id4_Act1_rgb',\n",
        " '/kaggle/input/classroom-student-behaviors/Behaviors_Features/Raising_Hand/ID4/Hand12_id4_Act1_rgb',\n",
        " '/kaggle/input/classroom-student-behaviors/Behaviors_Features/Sleeping/ID2/Sleep31_id2_Act1_rgb',\n",
        " '/kaggle/input/classroom-student-behaviors/Behaviors_Features/Writting/ID2/Write16_id2_Act1_rgb',\n",
        " '/kaggle/input/classroom-student-behaviors/Behaviors_Features/Writting/ID1/Write7_id1_Act1_rgb',\n",
        " '/kaggle/input/classroom-student-behaviors/Behaviors_Features/Writting/ID3/Write41_id3_Act1_rgb',\n",
        " '/kaggle/input/classroom-student-behaviors/Behaviors_Features/Sleeping/ID2/Sleep21_id2_Act3_rgb',\n",
        " '/kaggle/input/classroom-student-behaviors/Behaviors_Features/Writting/ID3/Write38_id3_Act1_rgb',\n",
        " '/kaggle/input/classroom-student-behaviors/Behaviors_Features/Sleeping/ID3/Sleep24_id3_Act1_rgb',\n",
        " '/kaggle/input/classroom-student-behaviors/Behaviors_Features/Writting/ID2/Write32_id2_Act1_rgb',\n",
        " '/kaggle/input/classroom-student-behaviors/Behaviors_Features/Sleeping/ID2/Sleep33_id2_Act1_rgb',\n",
        " '/kaggle/input/classroom-student-behaviors/Behaviors_Features/Raising_Hand/ID2/Hand21_id2_Act1_rgb',\n",
        " '/kaggle/input/classroom-student-behaviors/Behaviors_Features/Raising_Hand/ID4/Hand2_id4_Act3_rgb',\n",
        " '/kaggle/input/classroom-student-behaviors/Behaviors_Features/Reading/ID4/Read42_id4_Act1_rgb',\n",
        " '/kaggle/input/classroom-student-behaviors/Behaviors_Features/Sleeping/ID1/Sleep4_id1_Act1_rgb',\n",
        " '/kaggle/input/classroom-student-behaviors/Behaviors_Features/Sleeping/ID3/Sleep20_id3_Act1_rgb',\n",
        " '/kaggle/input/classroom-student-behaviors/Behaviors_Features/Raising_Hand/ID3/Hand21_id3_Act1_rgb',\n",
        " '/kaggle/input/classroom-student-behaviors/Behaviors_Features/Raising_Hand/ID4/Hand39_id4_Act1_rgb',\n",
        " '/kaggle/input/classroom-student-behaviors/Behaviors_Features/Sleeping/ID2/Sleep2_id2_Act1_rgb',\n",
        " '/kaggle/input/classroom-student-behaviors/Behaviors_Features/Sleeping/ID4/Sleep6_id4_Act1_rgb',\n",
        " '/kaggle/input/classroom-student-behaviors/Behaviors_Features/Reading/ID4/Read43_id4_Act5_rgb',\n",
        " '/kaggle/input/classroom-student-behaviors/Behaviors_Features/Writting/ID1/Write8_id1_Act1_rgb',\n",
        " '/kaggle/input/classroom-student-behaviors/Behaviors_Features/Sleeping/ID1/Sleep13_id1_Act2_rgb',\n",
        " '/kaggle/input/classroom-student-behaviors/Behaviors_Features/Reading/ID1/Read51_id1_Act10_rgb',\n",
        " '/kaggle/input/classroom-student-behaviors/Behaviors_Features/Reading/ID4/Read25_id4_Act5_rgb',\n",
        " '/kaggle/input/classroom-student-behaviors/Behaviors_Features/Writting/ID2/Write15_id2_Act1_rgb',\n",
        " '/kaggle/input/classroom-student-behaviors/Behaviors_Features/Raising_Hand/ID2/Hand23_id2_Act1_rgb',\n",
        " '/kaggle/input/classroom-student-behaviors/Behaviors_Features/Sleeping/ID4/Sleep31_id4_Act2_rgb',\n",
        " '/kaggle/input/classroom-student-behaviors/Behaviors_Features/Sleeping/ID1/Sleep13_id1_Act1_rgb',\n",
        " '/kaggle/input/classroom-student-behaviors/Behaviors_Features/Reading/ID3/Read10_id3_Act1_rgb',\n",
        " '/kaggle/input/classroom-student-behaviors/Behaviors_Features/Writting/ID4/Write31_id4_Act1_rgb',\n",
        " '/kaggle/input/classroom-student-behaviors/Behaviors_Features/Reading/ID1/Read52_id1_Act4_rgb',\n",
        " '/kaggle/input/classroom-student-behaviors/Behaviors_Features/Writting/ID2/Write21_id2_Act1_rgb',\n",
        " '/kaggle/input/classroom-student-behaviors/Behaviors_Features/Reading/ID1/Read7_id1_Act4_rgb',\n",
        " '/kaggle/input/classroom-student-behaviors/Behaviors_Features/Sleeping/ID3/Sleep1_id3_Act1_rgb',\n",
        " '/kaggle/input/classroom-student-behaviors/Behaviors_Features/Sleeping/ID2/Sleep44_id2_Act1_rgb',\n",
        " '/kaggle/input/classroom-student-behaviors/Behaviors_Features/Sleeping/ID3/Sleep33_id3_Act3_rgb',\n",
        " '/kaggle/input/classroom-student-behaviors/Behaviors_Features/Raising_Hand/ID4/Hand26_id4_Act2_rgb',\n",
        " '/kaggle/input/classroom-student-behaviors/Behaviors_Features/Writting/ID1/Write41_id1_Act1_rgb',\n",
        " '/kaggle/input/classroom-student-behaviors/Behaviors_Features/Raising_Hand/ID4/Hand4_id4_Act3_rgb',\n",
        " '/kaggle/input/classroom-student-behaviors/Behaviors_Features/Raising_Hand/ID4/Hand34_id4_Act1_rgb',\n",
        " '/kaggle/input/classroom-student-behaviors/Behaviors_Features/Reading/ID4/Read42_id4_Act3_rgb',\n",
        " '/kaggle/input/classroom-student-behaviors/Behaviors_Features/Sleeping/ID4/Sleep44_id4_Act1_rgb',\n",
        " '/kaggle/input/classroom-student-behaviors/Behaviors_Features/Raising_Hand/ID4/Hand11_id4_Act1_rgb',\n",
        " '/kaggle/input/classroom-student-behaviors/Behaviors_Features/Sleeping/ID2/Sleep13_id2_Act4_rgb',\n",
        " '/kaggle/input/classroom-student-behaviors/Behaviors_Features/Writting/ID2/Write24_id2_Act1_rgb',\n",
        " '/kaggle/input/classroom-student-behaviors/Behaviors_Features/Sleeping/ID1/Sleep16_id1_Act1_rgb',\n",
        " '/kaggle/input/classroom-student-behaviors/Behaviors_Features/Writting/ID1/Write41_id1_Act1_rgb',\n",
        " '/kaggle/input/classroom-student-behaviors/Behaviors_Features/Raising_Hand/ID4/Hand5_id4_Act2_rgb',\n",
        " '/kaggle/input/classroom-student-behaviors/Behaviors_Features/Reading/ID3/Read12_id3_Act3_rgb',\n",
        " '/kaggle/input/classroom-student-behaviors/Behaviors_Features/Reading/ID3/Read17_id3_Act8_rgb',\n",
        " '/kaggle/input/classroom-student-behaviors/Behaviors_Features/Sleeping/ID1/Sleep3_id1_Act1_rgb',\n",
        " '/kaggle/input/classroom-student-behaviors/Behaviors_Features/Reading/ID4/Read19_id4_Act10_rgb',\n",
        " '/kaggle/input/classroom-student-behaviors/Behaviors_Features/Sleeping/ID3/Sleep3_id3_Act2_rgb',\n",
        " '/kaggle/input/classroom-student-behaviors/Behaviors_Features/Sleeping/ID3/Sleep25_id3_Act1_rgb',\n",
        " '/kaggle/input/classroom-student-behaviors/Behaviors_Features/Writting/ID1/Write9_id1_Act1_rgb',\n",
        " '/kaggle/input/classroom-student-behaviors/Behaviors_Features/Writting/ID4/Write24_id4_Act1_rgb',\n",
        " '/kaggle/input/classroom-student-behaviors/Behaviors_Features/Writting/ID2/Write27_id2_Act1_rgb',\n",
        " '/kaggle/input/classroom-student-behaviors/Behaviors_Features/Writting/ID3/Write18_id3_Act1_rgb',\n",
        " '/kaggle/input/classroom-student-behaviors/Behaviors_Features/Raising_Hand/ID4/Hand16_id4_Act2_rgb',\n",
        " '/kaggle/input/classroom-student-behaviors/Behaviors_Features/Sleeping/ID3/Sleep18_id3_Act4_rgb',\n",
        " '/kaggle/input/classroom-student-behaviors/Behaviors_Features/Reading/ID4/Read4_id4_Act9_rgb',\n",
        " '/kaggle/input/classroom-student-behaviors/Behaviors_Features/Sleeping/ID2/Sleep5_id2_Act1_rgb',\n",
        " '/kaggle/input/classroom-student-behaviors/Behaviors_Features/Raising_Hand/ID3/Hand40_id3_Act2_rgb',\n",
        " '/kaggle/input/classroom-student-behaviors/Behaviors_Features/Reading/ID3/Read10_id3_Act3_rgb',\n",
        " '/kaggle/input/classroom-student-behaviors/Behaviors_Features/Raising_Hand/ID4/Hand27_id4_Act3_rgb',\n",
        " '/kaggle/input/classroom-student-behaviors/Behaviors_Features/Writting/ID3/Write42_id3_Act1_rgb',\n",
        " '/kaggle/input/classroom-student-behaviors/Behaviors_Features/Sleeping/ID3/Sleep19_id3_Act1_rgb',\n",
        " '/kaggle/input/classroom-student-behaviors/Behaviors_Features/Sleeping/ID4/Sleep35_id4_Act1_rgb',\n",
        " '/kaggle/input/classroom-student-behaviors/Behaviors_Features/Writting/ID2/Write22_id2_Act1_rgb',\n",
        " '/kaggle/input/classroom-student-behaviors/Behaviors_Features/Writting/ID2/Write3_id2_Act1_rgb',\n",
        " '/kaggle/input/classroom-student-behaviors/Behaviors_Features/Writting/ID1/Write34_id1_Act1_rgb',\n",
        " '/kaggle/input/classroom-student-behaviors/Behaviors_Features/Sleeping/ID3/Sleep33_id3_Act4_rgb',\n",
        " '/kaggle/input/classroom-student-behaviors/Behaviors_Features/Sleeping/ID1/Sleep29_id1_Act4_rgb',\n",
        " '/kaggle/input/classroom-student-behaviors/Behaviors_Features/Writting/ID1/Write38_id1_Act1_rgb',\n",
        " '/kaggle/input/classroom-student-behaviors/Behaviors_Features/Sleeping/ID4/Sleep4_id4_Act1_rgb',\n",
        " '/kaggle/input/classroom-student-behaviors/Behaviors_Features/Sleeping/ID3/Sleep44_id3_Act1_rgb',\n",
        " '/kaggle/input/classroom-student-behaviors/Behaviors_Features/Raising_Hand/ID4/Hand40_id4_Act3_rgb',\n",
        " '/kaggle/input/classroom-student-behaviors/Behaviors_Features/Reading/ID3/Read12_id3_Act4_rgb',\n",
        " '/kaggle/input/classroom-student-behaviors/Behaviors_Features/Writting/ID3/Write2_id3_Act1_rgb',\n",
        " '/kaggle/input/classroom-student-behaviors/Behaviors_Features/Sleeping/ID4/Sleep26_id4_Act1_rgb',\n",
        " '/kaggle/input/classroom-student-behaviors/Behaviors_Features/Writting/ID1/Write8_id1_Act1_rgb',\n",
        " '/kaggle/input/classroom-student-behaviors/Behaviors_Features/Sleeping/ID3/Sleep39_id3_Act2_rgb',\n",
        " '/kaggle/input/classroom-student-behaviors/Behaviors_Features/Sleeping/ID1/Sleep14_id1_Act1_rgb',\n",
        " '/kaggle/input/classroom-student-behaviors/Behaviors_Features/Reading/ID1/Read20_id1_Act9_rgb',\n",
        " '/kaggle/input/classroom-student-behaviors/Behaviors_Features/Writting/ID1/Write6_id1_Act1_rgb',\n",
        " '/kaggle/input/classroom-student-behaviors/Behaviors_Features/Reading/ID4/Read26_id4_Act8_rgb',\n",
        " '/kaggle/input/classroom-student-behaviors/Behaviors_Features/Sleeping/ID1/Sleep21_id1_Act1_rgb',\n",
        " '/kaggle/input/classroom-student-behaviors/Behaviors_Features/Sleeping/ID3/Sleep11_id3_Act1_rgb',\n",
        " '/kaggle/input/classroom-student-behaviors/Behaviors_Features/Reading/ID3/Read14_id3_Act2_rgb',\n",
        " '/kaggle/input/classroom-student-behaviors/Behaviors_Features/Sleeping/ID1/Sleep5_id1_Act1_rgb',\n",
        " '/kaggle/input/classroom-student-behaviors/Behaviors_Features/Raising_Hand/ID4/Hand39_id4_Act2_rgb',\n",
        " '/kaggle/input/classroom-student-behaviors/Behaviors_Features/Reading/ID3/Read13_id3_Act6_rgb',\n",
        " '/kaggle/input/classroom-student-behaviors/Behaviors_Features/Writting/ID1/Write3_id1_Act1_rgb',\n",
        " '/kaggle/input/classroom-student-behaviors/Behaviors_Features/Reading/ID4/Read35_id4_Act2_rgb',\n",
        " '/kaggle/input/classroom-student-behaviors/Behaviors_Features/Reading/ID4/Read58_id4_Act7_rgb',\n",
        " '/kaggle/input/classroom-student-behaviors/Behaviors_Features/Raising_Hand/ID4/Hand13_id4_Act2_rgb',\n",
        " '/kaggle/input/classroom-student-behaviors/Behaviors_Features/Raising_Hand/ID4/Hand23_id4_Act1_rgb',\n",
        " '/kaggle/input/classroom-student-behaviors/Behaviors_Features/Writting/ID1/Write17_id1_Act1_rgb',\n",
        " '/kaggle/input/classroom-student-behaviors/Behaviors_Features/Sleeping/ID3/Sleep34_id3_Act1_rgb',\n",
        " '/kaggle/input/classroom-student-behaviors/Behaviors_Features/Sleeping/ID3/Sleep16_id3_Act1_rgb',\n",
        " '/kaggle/input/classroom-student-behaviors/Behaviors_Features/Reading/ID4/Read39_id4_Act2_rgb',\n",
        " '/kaggle/input/classroom-student-behaviors/Behaviors_Features/Writting/ID3/Write13_id3_Act1_rgb',\n",
        " '/kaggle/input/classroom-student-behaviors/Behaviors_Features/Sleeping/ID4/Sleep7_id4_Act2_rgb',\n",
        " '/kaggle/input/classroom-student-behaviors/Behaviors_Features/Sleeping/ID2/Sleep2_id2_Act2_rgb',\n",
        " '/kaggle/input/classroom-student-behaviors/Behaviors_Features/Raising_Hand/ID4/Hand27_id4_Act4_rgb',\n",
        " '/kaggle/input/classroom-student-behaviors/Behaviors_Features/Writting/ID4/Write21_id4_Act1_rgb',\n",
        " '/kaggle/input/classroom-student-behaviors/Behaviors_Features/Reading/ID4/Read4_id4_Act1_rgb',\n",
        " '/kaggle/input/classroom-student-behaviors/Behaviors_Features/Writting/ID3/Write23_id3_Act1_rgb',\n",
        " '/kaggle/input/classroom-student-behaviors/Behaviors_Features/Raising_Hand/ID2/Hand36_id2_Act2_rgb',\n",
        " '/kaggle/input/classroom-student-behaviors/Behaviors_Features/Raising_Hand/ID4/Hand28_id4_Act1_rgb',\n",
        " '/kaggle/input/classroom-student-behaviors/Behaviors_Features/Writting/ID2/Write40_id2_Act1_rgb',\n",
        " '/kaggle/input/classroom-student-behaviors/Behaviors_Features/Sleeping/ID4/Sleep35_id4_Act4_rgb',\n",
        " '/kaggle/input/classroom-student-behaviors/Behaviors_Features/Raising_Hand/ID4/Hand25_id4_Act1_rgb',\n",
        " '/kaggle/input/classroom-student-behaviors/Behaviors_Features/Writting/ID1/Write16_id1_Act1_rgb',\n",
        " '/kaggle/input/classroom-student-behaviors/Behaviors_Features/Raising_Hand/ID3/Hand29_id3_Act3_rgb',\n",
        " '/kaggle/input/classroom-student-behaviors/Behaviors_Features/Reading/ID3/Read16_id3_Act10_rgb',\n",
        " '/kaggle/input/classroom-student-behaviors/Behaviors_Features/Raising_Hand/ID3/Hand6_id3_Act2_rgb',\n",
        " '/kaggle/input/classroom-student-behaviors/Behaviors_Features/Reading/ID4/Read6_id4_Act6_rgb',\n",
        " '/kaggle/input/classroom-student-behaviors/Behaviors_Features/Raising_Hand/ID4/Hand2_id4_Act2_rgb',\n",
        " '/kaggle/input/classroom-student-behaviors/Behaviors_Features/Reading/ID4/Read23_id4_Act3_rgb',\n",
        " '/kaggle/input/classroom-student-behaviors/Behaviors_Features/Reading/ID3/Read10_id3_Act4_rgb',\n",
        " '/kaggle/input/classroom-student-behaviors/Behaviors_Features/Writting/ID2/Write40_id2_Act1_rgb',\n",
        " '/kaggle/input/classroom-student-behaviors/Behaviors_Features/Reading/ID3/Read19_id3_Act8_rgb',\n",
        " '/kaggle/input/classroom-student-behaviors/Behaviors_Features/Raising_Hand/ID1/Hand33_id1_Act1_rgb',\n",
        " '/kaggle/input/classroom-student-behaviors/Behaviors_Features/Raising_Hand/ID2/Hand2_id2_Act1_rgb',\n",
        " '/kaggle/input/classroom-student-behaviors/Behaviors_Features/Raising_Hand/ID2/Hand22_id2_Act3_rgb',\n",
        " '/kaggle/input/classroom-student-behaviors/Behaviors_Features/Reading/ID3/Read12_id3_Act8_rgb',\n",
        " '/kaggle/input/classroom-student-behaviors/Behaviors_Features/Raising_Hand/ID4/Hand4_id4_Act2_rgb',\n",
        " '/kaggle/input/classroom-student-behaviors/Behaviors_Features/Writting/ID2/Write29_id2_Act1_rgb',\n",
        " '/kaggle/input/classroom-student-behaviors/Behaviors_Features/Sleeping/ID4/Sleep9_id4_Act3_rgb',\n",
        " '/kaggle/input/classroom-student-behaviors/Behaviors_Features/Writting/ID3/Write41_id3_Act1_rgb',\n",
        " '/kaggle/input/classroom-student-behaviors/Behaviors_Features/Reading/ID4/Read54_id4_Act9_rgb',\n",
        " '/kaggle/input/classroom-student-behaviors/Behaviors_Features/Writting/ID3/Write16_id3_Act1_rgb',\n",
        " '/kaggle/input/classroom-student-behaviors/Behaviors_Features/Raising_Hand/ID4/Hand27_id4_Act1_rgb',\n",
        " '/kaggle/input/classroom-student-behaviors/Behaviors_Features/Raising_Hand/ID3/Hand29_id3_Act4_rgb',\n",
        " '/kaggle/input/classroom-student-behaviors/Behaviors_Features/Reading/ID4/Read51_id4_Act2_rgb',\n",
        " '/kaggle/input/classroom-student-behaviors/Behaviors_Features/Writting/ID2/Write21_id2_Act1_rgb',\n",
        " '/kaggle/input/classroom-student-behaviors/Behaviors_Features/Sleeping/ID2/Sleep13_id2_Act5_rgb',\n",
        " '/kaggle/input/classroom-student-behaviors/Behaviors_Features/Writting/ID2/Write34_id2_Act1_rgb',\n",
        " '/kaggle/input/classroom-student-behaviors/Behaviors_Features/Reading/ID3/Read10_id3_Act2_rgb',\n",
        " '/kaggle/input/classroom-student-behaviors/Behaviors_Features/Writting/ID2/Write32_id2_Act2_rgb',\n",
        " '/kaggle/input/classroom-student-behaviors/Behaviors_Features/Raising_Hand/ID2/Hand39_id2_Act3_rgb',\n",
        " '/kaggle/input/classroom-student-behaviors/Behaviors_Features/Writting/ID3/Write26_id3_Act1_rgb',\n",
        " '/kaggle/input/classroom-student-behaviors/Behaviors_Features/Writting/ID2/Write6_id2_Act1_rgb',\n",
        " '/kaggle/input/classroom-student-behaviors/Behaviors_Features/Reading/ID3/Read11_id3_Act3_rgb',\n",
        " '/kaggle/input/classroom-student-behaviors/Behaviors_Features/Sleeping/ID3/Sleep37_id3_Act2_rgb',\n",
        " '/kaggle/input/classroom-student-behaviors/Behaviors_Features/Reading/ID4/Read29_id4_Act9_rgb',\n",
        " '/kaggle/input/classroom-student-behaviors/Behaviors_Features/Sleeping/ID2/Sleep45_id2_Act1_rgb',\n",
        " '/kaggle/input/classroom-student-behaviors/Behaviors_Features/Sleeping/ID4/Sleep6_id4_Act4_rgb',\n",
        " '/kaggle/input/classroom-student-behaviors/Behaviors_Features/Reading/ID4/Read19_id4_Act6_rgb',\n",
        " '/kaggle/input/classroom-student-behaviors/Behaviors_Features/Reading/ID3/Read14_id3_Act1_rgb',\n",
        " '/kaggle/input/classroom-student-behaviors/Behaviors_Features/Raising_Hand/ID1/Hand40_id1_Act2_rgb',\n",
        " '/kaggle/input/classroom-student-behaviors/Behaviors_Features/Reading/ID4/Read50_id4_Act2_rgb',\n",
        " '/kaggle/input/classroom-student-behaviors/Behaviors_Features/Writting/ID4/Write18_id4_Act1_rgb',\n",
        " '/kaggle/input/classroom-student-behaviors/Behaviors_Features/Sleeping/ID4/Sleep35_id4_Act3_rgb',\n",
        " '/kaggle/input/classroom-student-behaviors/Behaviors_Features/Raising_Hand/ID4/Hand29_id4_Act1_rgb',\n",
        " '/kaggle/input/classroom-student-behaviors/Behaviors_Features/Reading/ID4/Read27_id4_Act6_rgb',\n",
        " '/kaggle/input/classroom-student-behaviors/Behaviors_Features/Writting/ID1/Write6_id1_Act1_rgb',\n",
        " '/kaggle/input/classroom-student-behaviors/Behaviors_Features/Writting/ID3/Write35_id3_Act1_rgb',\n",
        " '/kaggle/input/classroom-student-behaviors/Behaviors_Features/Reading/ID3/Read11_id3_Act4_rgb',\n",
        " '/kaggle/input/classroom-student-behaviors/Behaviors_Features/Sleeping/ID2/Sleep30_id2_Act1_rgb',\n",
        " '/kaggle/input/classroom-student-behaviors/Behaviors_Features/Reading/ID3/Read13_id3_Act5_rgb',\n",
        " '/kaggle/input/classroom-student-behaviors/Behaviors_Features/Raising_Hand/ID4/Hand13_id4_Act1_rgb',\n",
        " '/kaggle/input/classroom-student-behaviors/Behaviors_Features/Sleeping/ID1/Sleep33_id1_Act1_rgb',\n",
        " '/kaggle/input/classroom-student-behaviors/Behaviors_Features/Reading/ID3/Read16_id3_Act5_rgb',\n",
        " '/kaggle/input/classroom-student-behaviors/Behaviors_Features/Raising_Hand/ID3/Hand29_id3_Act2_rgb',\n",
        " '/kaggle/input/classroom-student-behaviors/Behaviors_Features/Sleeping/ID4/Sleep9_id4_Act1_rgb',\n",
        " '/kaggle/input/classroom-student-behaviors/Behaviors_Features/Raising_Hand/ID3/Hand11_id3_Act1_rgb',\n",
        " '/kaggle/input/classroom-student-behaviors/Behaviors_Features/Raising_Hand/ID2/Hand23_id2_Act4_rgb',\n",
        " '/kaggle/input/classroom-student-behaviors/Behaviors_Features/Sleeping/ID4/Sleep28_id4_Act3_rgb',\n",
        " '/kaggle/input/classroom-student-behaviors/Behaviors_Features/Reading/ID4/Read43_id4_Act10_rgb',\n",
        " '/kaggle/input/classroom-student-behaviors/Behaviors_Features/Sleeping/ID2/Sleep27_id2_Act1_rgb',\n",
        " '/kaggle/input/classroom-student-behaviors/Behaviors_Features/Reading/ID3/Read12_id3_Act1_rgb',\n",
        " '/kaggle/input/classroom-student-behaviors/Behaviors_Features/Raising_Hand/ID4/Hand24_id4_Act2_rgb',\n",
        " '/kaggle/input/classroom-student-behaviors/Behaviors_Features/Raising_Hand/ID2/Hand22_id2_Act1_rgb',\n",
        " '/kaggle/input/classroom-student-behaviors/Behaviors_Features/Writting/ID2/Write44_id2_Act1_rgb',\n",
        " '/kaggle/input/classroom-student-behaviors/Behaviors_Features/Reading/ID4/Read36_id4_Act10_rgb',\n",
        " '/kaggle/input/classroom-student-behaviors/Behaviors_Features/Reading/ID4/Read40_id4_Act1_rgb',\n",
        " '/kaggle/input/classroom-student-behaviors/Behaviors_Features/Sleeping/ID3/Sleep9_id3_Act1_rgb',\n",
        " '/kaggle/input/classroom-student-behaviors/Behaviors_Features/Sleeping/ID1/Sleep26_id1_Act1_rgb',\n",
        " '/kaggle/input/classroom-student-behaviors/Behaviors_Features/Sleeping/ID4/Sleep14_id4_Act3_rgb',\n",
        " '/kaggle/input/classroom-student-behaviors/Behaviors_Features/Reading/ID3/Read16_id3_Act4_rgb',\n",
        " '/kaggle/input/classroom-student-behaviors/Behaviors_Features/Sleeping/ID3/Sleep23_id3_Act1_rgb',\n",
        " '/kaggle/input/classroom-student-behaviors/Behaviors_Features/Writting/ID3/Write36_id3_Act1_rgb',\n",
        " '/kaggle/input/classroom-student-behaviors/Behaviors_Features/Raising_Hand/ID4/Hand32_id4_Act2_rgb',\n",
        " '/kaggle/input/classroom-student-behaviors/Behaviors_Features/Raising_Hand/ID3/Hand24_id3_Act3_rgb',\n",
        " '/kaggle/input/classroom-student-behaviors/Behaviors_Features/Writting/ID2/Write17_id2_Act1_rgb',\n",
        " '/kaggle/input/classroom-student-behaviors/Behaviors_Features/Raising_Hand/ID4/Hand34_id4_Act2_rgb',\n",
        " '/kaggle/input/classroom-student-behaviors/Behaviors_Features/Raising_Hand/ID4/Hand19_id4_Act1_rgb',\n",
        " '/kaggle/input/classroom-student-behaviors/Behaviors_Features/Writting/ID4/Write24_id4_Act1_rgb',\n",
        " '/kaggle/input/classroom-student-behaviors/Behaviors_Features/Raising_Hand/ID1/Hand8_id1_Act1_rgb',\n",
        " '/kaggle/input/classroom-student-behaviors/Behaviors_Features/Sleeping/ID2/Sleep3_id2_Act1_rgb',\n",
        " '/kaggle/input/classroom-student-behaviors/Behaviors_Features/Sleeping/ID2/Sleep24_id2_Act1_rgb',\n",
        " '/kaggle/input/classroom-student-behaviors/Behaviors_Features/Raising_Hand/ID3/Hand30_id3_Act1_rgb',\n",
        " '/kaggle/input/classroom-student-behaviors/Behaviors_Features/Sleeping/ID1/Sleep41_id1_Act2_rgb',\n",
        " '/kaggle/input/classroom-student-behaviors/Behaviors_Features/Raising_Hand/ID1/Hand26_id1_Act1_rgb',\n",
        " '/kaggle/input/classroom-student-behaviors/Behaviors_Features/Reading/ID3/Read19_id3_Act5_rgb',\n",
        " '/kaggle/input/classroom-student-behaviors/Behaviors_Features/Raising_Hand/ID2/Hand33_id2_Act1_rgb',\n",
        " '/kaggle/input/classroom-student-behaviors/Behaviors_Features/Writting/ID2/Write22_id2_Act1_rgb',\n",
        " '/kaggle/input/classroom-student-behaviors/Behaviors_Features/Sleeping/ID3/Sleep40_id3_Act1_rgb',\n",
        " '/kaggle/input/classroom-student-behaviors/Behaviors_Features/Reading/ID3/Read19_id3_Act4_rgb',\n",
        " '/kaggle/input/classroom-student-behaviors/Behaviors_Features/Writting/ID3/Write26_id3_Act1_rgb',\n",
        " '/kaggle/input/classroom-student-behaviors/Behaviors_Features/Reading/ID3/Read13_id3_Act1_rgb',\n",
        " '/kaggle/input/classroom-student-behaviors/Behaviors_Features/Sleeping/ID4/Sleep9_id4_Act2_rgb',\n",
        " '/kaggle/input/classroom-student-behaviors/Behaviors_Features/Reading/ID4/Read36_id4_Act2_rgb',\n",
        " '/kaggle/input/classroom-student-behaviors/Behaviors_Features/Raising_Hand/ID3/Hand18_id3_Act1_rgb',\n",
        " '/kaggle/input/classroom-student-behaviors/Behaviors_Features/Writting/ID3/Write14_id3_Act1_rgb',\n",
        " '/kaggle/input/classroom-student-behaviors/Behaviors_Features/Sleeping/ID2/Sleep34_id2_Act3_rgb',\n",
        " '/kaggle/input/classroom-student-behaviors/Behaviors_Features/Reading/ID4/Read27_id4_Act3_rgb',\n",
        " '/kaggle/input/classroom-student-behaviors/Behaviors_Features/Reading/ID3/Read15_id3_Act5_rgb',\n",
        " '/kaggle/input/classroom-student-behaviors/Behaviors_Features/Reading/ID3/Read17_id3_Act3_rgb',\n",
        " '/kaggle/input/classroom-student-behaviors/Behaviors_Features/Sleeping/ID1/Sleep35_id1_Act2_rgb',\n",
        " '/kaggle/input/classroom-student-behaviors/Behaviors_Features/Writting/ID4/Write23_id4_Act1_rgb',\n",
        " '/kaggle/input/classroom-student-behaviors/Behaviors_Features/Writting/ID4/Write20_id4_Act1_rgb',\n",
        " '/kaggle/input/classroom-student-behaviors/Behaviors_Features/Reading/ID4/Read58_id4_Act8_rgb',\n",
        " '/kaggle/input/classroom-student-behaviors/Behaviors_Features/Writting/ID4/Write43_id4_Act1_rgb',\n",
        " '/kaggle/input/classroom-student-behaviors/Behaviors_Features/Writting/ID1/Write30_id1_Act1_rgb',\n",
        " '/kaggle/input/classroom-student-behaviors/Behaviors_Features/Writting/ID1/Write27_id1_Act1_rgb',\n",
        " '/kaggle/input/classroom-student-behaviors/Behaviors_Features/Writting/ID4/Write28_id4_Act1_rgb',\n",
        " '/kaggle/input/classroom-student-behaviors/Behaviors_Features/Reading/ID4/Read18_id4_Act6_rgb',\n",
        " '/kaggle/input/classroom-student-behaviors/Behaviors_Features/Reading/ID3/Read17_id3_Act1_rgb',\n",
        " '/kaggle/input/classroom-student-behaviors/Behaviors_Features/Reading/ID3/Read16_id3_Act6_rgb',\n",
        " '/kaggle/input/classroom-student-behaviors/Behaviors_Features/Sleeping/ID4/Sleep34_id4_Act2_rgb',\n",
        " '/kaggle/input/classroom-student-behaviors/Behaviors_Features/Writting/ID2/Write44_id2_Act1_rgb',\n",
        " '/kaggle/input/classroom-student-behaviors/Behaviors_Features/Raising_Hand/ID4/Hand31_id4_Act2_rgb',\n",
        " '/kaggle/input/classroom-student-behaviors/Behaviors_Features/Sleeping/ID3/Sleep14_id3_Act3_rgb',\n",
        " '/kaggle/input/classroom-student-behaviors/Behaviors_Features/Raising_Hand/ID1/Hand1_id1_Act1_rgb',\n",
        " '/kaggle/input/classroom-student-behaviors/Behaviors_Features/Writting/ID3/Write39_id3_Act1_rgb',\n",
        " '/kaggle/input/classroom-student-behaviors/Behaviors_Features/Raising_Hand/ID3/Hand3_id3_Act1_rgb',\n",
        " '/kaggle/input/classroom-student-behaviors/Behaviors_Features/Reading/ID3/Read16_id3_Act3_rgb',\n",
        " '/kaggle/input/classroom-student-behaviors/Behaviors_Features/Raising_Hand/ID2/Hand22_id2_Act2_rgb',\n",
        " '/kaggle/input/classroom-student-behaviors/Behaviors_Features/Writting/ID3/Write41_id3_Act1_rgb',\n",
        " '/kaggle/input/classroom-student-behaviors/Behaviors_Features/Sleeping/ID4/Sleep33_id4_Act1_rgb',\n",
        " '/kaggle/input/classroom-student-behaviors/Behaviors_Features/Writting/ID1/Write7_id1_Act1_rgb',\n",
        " '/kaggle/input/classroom-student-behaviors/Behaviors_Features/Sleeping/ID3/Sleep15_id3_Act3_rgb',\n",
        " '/kaggle/input/classroom-student-behaviors/Behaviors_Features/Raising_Hand/ID4/Hand39_id4_Act4_rgb',\n",
        " '/kaggle/input/classroom-student-behaviors/Behaviors_Features/Sleeping/ID2/Sleep23_id2_Act1_rgb',\n",
        " '/kaggle/input/classroom-student-behaviors/Behaviors_Features/Sleeping/ID2/Sleep28_id2_Act1_rgb',\n",
        " '/kaggle/input/classroom-student-behaviors/Behaviors_Features/Reading/ID4/Read6_id4_Act4_rgb',\n",
        " '/kaggle/input/classroom-student-behaviors/Behaviors_Features/Raising_Hand/ID1/Hand16_id1_Act1_rgb',\n",
        " '/kaggle/input/classroom-student-behaviors/Behaviors_Features/Sleeping/ID1/Sleep42_id1_Act4_rgb',\n",
        " '/kaggle/input/classroom-student-behaviors/Behaviors_Features/Sleeping/ID3/Sleep5_id3_Act2_rgb',\n",
        " '/kaggle/input/classroom-student-behaviors/Behaviors_Features/Reading/ID4/Read2_id4_Act3_rgb',\n",
        " '/kaggle/input/classroom-student-behaviors/Behaviors_Features/Reading/ID3/Read19_id3_Act7_rgb',\n",
        " '/kaggle/input/classroom-student-behaviors/Behaviors_Features/Writting/ID4/Write6_id4_Act2_rgb',\n",
        " '/kaggle/input/classroom-student-behaviors/Behaviors_Features/Writting/ID2/Write3_id2_Act1_rgb',\n",
        " '/kaggle/input/classroom-student-behaviors/Behaviors_Features/Writting/ID4/Write8_id4_Act1_rgb',\n",
        " '/kaggle/input/classroom-student-behaviors/Behaviors_Features/Writting/ID3/Write35_id3_Act1_rgb',\n",
        " '/kaggle/input/classroom-student-behaviors/Behaviors_Features/Reading/ID4/Read54_id4_Act1_rgb',\n",
        " '/kaggle/input/classroom-student-behaviors/Behaviors_Features/Reading/ID3/Read11_id3_Act7_rgb',\n",
        " '/kaggle/input/classroom-student-behaviors/Behaviors_Features/Writting/ID2/Write25_id2_Act1_rgb',\n",
        " '/kaggle/input/classroom-student-behaviors/Behaviors_Features/Writting/ID3/Write3_id3_Act1_rgb',\n",
        " '/kaggle/input/classroom-student-behaviors/Behaviors_Features/Raising_Hand/ID3/Hand27_id3_Act4_rgb',\n",
        " '/kaggle/input/classroom-student-behaviors/Behaviors_Features/Writting/ID2/Write21_id2_Act1_rgb',\n",
        " '/kaggle/input/classroom-student-behaviors/Behaviors_Features/Reading/ID4/Read4_id4_Act6_rgb',\n",
        " '/kaggle/input/classroom-student-behaviors/Behaviors_Features/Raising_Hand/ID2/Hand39_id2_Act1_rgb',\n",
        " '/kaggle/input/classroom-student-behaviors/Behaviors_Features/Sleeping/ID1/Sleep43_id1_Act1_rgb',\n",
        " '/kaggle/input/classroom-student-behaviors/Behaviors_Features/Writting/ID1/Write2_id1_Act1_rgb',\n",
        " '/kaggle/input/classroom-student-behaviors/Behaviors_Features/Reading/ID3/Read17_id3_Act4_rgb',\n",
        " '/kaggle/input/classroom-student-behaviors/Behaviors_Features/Reading/ID4/Read51_id4_Act6_rgb',\n",
        " '/kaggle/input/classroom-student-behaviors/Behaviors_Features/Reading/ID3/Read18_id3_Act6_rgb',\n",
        " '/kaggle/input/classroom-student-behaviors/Behaviors_Features/Sleeping/ID3/Sleep18_id3_Act1_rgb',\n",
        " '/kaggle/input/classroom-student-behaviors/Behaviors_Features/Sleeping/ID4/Sleep41_id4_Act1_rgb',\n",
        " '/kaggle/input/classroom-student-behaviors/Behaviors_Features/Writting/ID2/Write25_id2_Act1_rgb',\n",
        " '/kaggle/input/classroom-student-behaviors/Behaviors_Features/Sleeping/ID2/Sleep1_id2_Act1_rgb',\n",
        " '/kaggle/input/classroom-student-behaviors/Behaviors_Features/Sleeping/ID1/Sleep17_id1_Act3_rgb',\n",
        " '/kaggle/input/classroom-student-behaviors/Behaviors_Features/Raising_Hand/ID4/Hand14_id4_Act1_rgb',\n",
        " '/kaggle/input/classroom-student-behaviors/Behaviors_Features/Raising_Hand/ID4/Hand4_id4_Act4_rgb',\n",
        " '/kaggle/input/classroom-student-behaviors/Behaviors_Features/Sleeping/ID3/Sleep6_id3_Act1_rgb',\n",
        " '/kaggle/input/classroom-student-behaviors/Behaviors_Features/Raising_Hand/ID4/Hand21_id4_Act1_rgb',\n",
        " '/kaggle/input/classroom-student-behaviors/Behaviors_Features/Writting/ID1/Write38_id1_Act1_rgb',\n",
        " '/kaggle/input/classroom-student-behaviors/Behaviors_Features/Sleeping/ID2/Sleep14_id2_Act1_rgb',\n",
        " '/kaggle/input/classroom-student-behaviors/Behaviors_Features/Reading/ID3/Read10_id3_Act6_rgb',\n",
        " '/kaggle/input/classroom-student-behaviors/Behaviors_Features/Writting/ID1/Write12_id1_Act1_rgb',\n",
        " '/kaggle/input/classroom-student-behaviors/Behaviors_Features/Raising_Hand/ID4/Hand35_id4_Act1_rgb',\n",
        " '/kaggle/input/classroom-student-behaviors/Behaviors_Features/Raising_Hand/ID2/Hand5_id2_Act2_rgb',\n",
        " '/kaggle/input/classroom-student-behaviors/Behaviors_Features/Raising_Hand/ID3/Hand6_id3_Act1_rgb',\n",
        " '/kaggle/input/classroom-student-behaviors/Behaviors_Features/Raising_Hand/ID4/Hand37_id4_Act1_rgb',\n",
        " '/kaggle/input/classroom-student-behaviors/Behaviors_Features/Reading/ID4/Read53_id4_Act3_rgb',\n",
        " '/kaggle/input/classroom-student-behaviors/Behaviors_Features/Writting/ID1/Write12_id1_Act1_rgb',\n",
        " '/kaggle/input/classroom-student-behaviors/Behaviors_Features/Raising_Hand/ID4/Hand5_id4_Act1_rgb']\n"
      ]
    },
    {
      "cell_type": "code",
      "execution_count": null,
      "metadata": {
        "execution": {
          "iopub.execute_input": "2024-02-01T17:22:08.322955Z",
          "iopub.status.busy": "2024-02-01T17:22:08.322601Z",
          "iopub.status.idle": "2024-02-01T17:22:08.329034Z",
          "shell.execute_reply": "2024-02-01T17:22:08.327945Z",
          "shell.execute_reply.started": "2024-02-01T17:22:08.322926Z"
        },
        "id": "YsP5NLmTbn2a",
        "trusted": true
      },
      "outputs": [],
      "source": [
        "def create_y(dataset):\n",
        "    y = []\n",
        "    for data_path in dataset:\n",
        "        label = data_path.split('/')[-3]\n",
        "        if label == 'Raising_Hand':\n",
        "            y.append(0)\n",
        "        elif label == 'Sleeping':\n",
        "            y.append(2)\n",
        "        elif label == 'Reading':\n",
        "            y.append(1)\n",
        "        else:\n",
        "            y.append(3)\n",
        "    return np.array(y)"
      ]
    },
    {
      "cell_type": "code",
      "execution_count": null,
      "metadata": {
        "execution": {
          "iopub.execute_input": "2024-02-01T17:22:10.962591Z",
          "iopub.status.busy": "2024-02-01T17:22:10.961737Z",
          "iopub.status.idle": "2024-02-01T17:22:10.966656Z",
          "shell.execute_reply": "2024-02-01T17:22:10.96568Z",
          "shell.execute_reply.started": "2024-02-01T17:22:10.962559Z"
        },
        "id": "WMw7mrh-bn2a",
        "trusted": true
      },
      "outputs": [],
      "source": [
        "yte = create_y(test_dataset)"
      ]
    },
    {
      "cell_type": "code",
      "execution_count": null,
      "metadata": {
        "execution": {
          "iopub.execute_input": "2024-02-01T17:22:14.054852Z",
          "iopub.status.busy": "2024-02-01T17:22:14.054244Z",
          "iopub.status.idle": "2024-02-01T17:22:14.06055Z",
          "shell.execute_reply": "2024-02-01T17:22:14.059206Z",
          "shell.execute_reply.started": "2024-02-01T17:22:14.054802Z"
        },
        "id": "0eGVH7Oubn2a",
        "trusted": true
      },
      "outputs": [],
      "source": [
        "ytr = create_y(train_dataset)"
      ]
    },
    {
      "cell_type": "code",
      "execution_count": null,
      "metadata": {
        "execution": {
          "iopub.execute_input": "2024-02-01T17:22:15.826658Z",
          "iopub.status.busy": "2024-02-01T17:22:15.825841Z",
          "iopub.status.idle": "2024-02-01T17:22:15.830757Z",
          "shell.execute_reply": "2024-02-01T17:22:15.82976Z",
          "shell.execute_reply.started": "2024-02-01T17:22:15.826627Z"
        },
        "id": "Adx9qJtfbn2a",
        "trusted": true
      },
      "outputs": [],
      "source": [
        "yval = create_y(validation_dataset)"
      ]
    },
    {
      "cell_type": "code",
      "execution_count": null,
      "metadata": {
        "id": "sRhCe0bPbn2b",
        "trusted": true
      },
      "outputs": [],
      "source": [
        "yte"
      ]
    },
    {
      "cell_type": "code",
      "execution_count": null,
      "metadata": {
        "execution": {
          "iopub.execute_input": "2024-02-01T17:22:18.26717Z",
          "iopub.status.busy": "2024-02-01T17:22:18.266317Z",
          "iopub.status.idle": "2024-02-01T17:22:18.272631Z",
          "shell.execute_reply": "2024-02-01T17:22:18.271439Z",
          "shell.execute_reply.started": "2024-02-01T17:22:18.267122Z"
        },
        "id": "qFvDiMk9bn2b",
        "trusted": true
      },
      "outputs": [],
      "source": [
        "test_dataset = np.array(test_dataset)\n",
        "validation_dataset = np.array(validation_dataset)\n",
        "train_dataset = np.array(train_dataset)"
      ]
    },
    {
      "cell_type": "code",
      "execution_count": null,
      "metadata": {
        "id": "42GXfhvFbn2b",
        "trusted": true
      },
      "outputs": [],
      "source": [
        "yte"
      ]
    },
    {
      "cell_type": "code",
      "execution_count": null,
      "metadata": {
        "id": "OdTCFZ0-bn2b",
        "trusted": true
      },
      "outputs": [],
      "source": [
        "ytr"
      ]
    },
    {
      "cell_type": "code",
      "execution_count": null,
      "metadata": {
        "execution": {
          "iopub.execute_input": "2024-02-01T13:57:46.345436Z",
          "iopub.status.busy": "2024-02-01T13:57:46.345064Z",
          "iopub.status.idle": "2024-02-01T13:57:46.3514Z",
          "shell.execute_reply": "2024-02-01T13:57:46.350478Z",
          "shell.execute_reply.started": "2024-02-01T13:57:46.345405Z"
        },
        "id": "x0_8n0MNbn2e",
        "trusted": true
      },
      "outputs": [],
      "source": [
        "ytr.shape"
      ]
    },
    {
      "cell_type": "code",
      "execution_count": null,
      "metadata": {
        "execution": {
          "iopub.execute_input": "2024-02-01T13:57:52.127612Z",
          "iopub.status.busy": "2024-02-01T13:57:52.126436Z",
          "iopub.status.idle": "2024-02-01T13:57:52.133547Z",
          "shell.execute_reply": "2024-02-01T13:57:52.132649Z",
          "shell.execute_reply.started": "2024-02-01T13:57:52.127569Z"
        },
        "id": "3r6R-Ogsbn2f",
        "trusted": true
      },
      "outputs": [],
      "source": [
        "xte.shape"
      ]
    },
    {
      "cell_type": "code",
      "execution_count": null,
      "metadata": {
        "execution": {
          "iopub.execute_input": "2024-02-01T17:22:21.7317Z",
          "iopub.status.busy": "2024-02-01T17:22:21.731056Z",
          "iopub.status.idle": "2024-02-01T17:22:21.7376Z",
          "shell.execute_reply": "2024-02-01T17:22:21.736623Z",
          "shell.execute_reply.started": "2024-02-01T17:22:21.731662Z"
        },
        "id": "X3ByJO3Zbn2f",
        "trusted": true
      },
      "outputs": [],
      "source": [
        "def convert_rgb_to_skeleton(dataset):\n",
        "    ske_dataset = []\n",
        "    for rgb in dataset:\n",
        "        rgb_array = rgb.split('/')\n",
        "        rgb_name = rgb_array[-1][:-3]\n",
        "        common_path = '/'.join(rgb_array[:-1])\n",
        "        for data in os.listdir(common_path):\n",
        "            if os.path.isfile(common_path + '/' + data) and data.find(rgb_name) != -1:\n",
        "                ske_dataset.append(common_path + '/' + data)\n",
        "    return ske_dataset"
      ]
    },
    {
      "cell_type": "code",
      "execution_count": null,
      "metadata": {
        "execution": {
          "iopub.execute_input": "2024-02-01T17:22:23.974683Z",
          "iopub.status.busy": "2024-02-01T17:22:23.973847Z",
          "iopub.status.idle": "2024-02-01T17:22:28.931625Z",
          "shell.execute_reply": "2024-02-01T17:22:28.930835Z",
          "shell.execute_reply.started": "2024-02-01T17:22:23.974648Z"
        },
        "id": "E7uVKfahbn2f",
        "trusted": true
      },
      "outputs": [],
      "source": [
        "test_ske_dataset = convert_rgb_to_skeleton(test_dataset)\n",
        "train_ske_dataset = convert_rgb_to_skeleton(train_dataset)\n",
        "valid_ske_dataset = convert_rgb_to_skeleton(validation_dataset)"
      ]
    },
    {
      "cell_type": "code",
      "execution_count": null,
      "metadata": {
        "id": "oB4FFJHZbn2f",
        "trusted": true
      },
      "outputs": [],
      "source": [
        "validation_dataset"
      ]
    },
    {
      "cell_type": "code",
      "execution_count": null,
      "metadata": {
        "id": "hfWasRP2bn2f",
        "trusted": true
      },
      "outputs": [],
      "source": [
        "train_ske_dataset"
      ]
    },
    {
      "cell_type": "code",
      "execution_count": null,
      "metadata": {
        "id": "pcH7VDPQbn2f",
        "trusted": true
      },
      "outputs": [],
      "source": [
        "valid_ske_dataset"
      ]
    },
    {
      "cell_type": "code",
      "execution_count": null,
      "metadata": {
        "execution": {
          "iopub.execute_input": "2024-01-21T16:54:30.662809Z",
          "iopub.status.busy": "2024-01-21T16:54:30.662169Z",
          "iopub.status.idle": "2024-01-21T16:54:30.668915Z",
          "shell.execute_reply": "2024-01-21T16:54:30.66797Z",
          "shell.execute_reply.started": "2024-01-21T16:54:30.662773Z"
        },
        "id": "aDlpZOlgbn2f",
        "trusted": true
      },
      "outputs": [],
      "source": [
        "# xtr_ske, xte_ske, ytr_ske , yte_ske = train_test_split(skeletons , y , shuffle=False,test_size = 0.2,random_state = 42)\n",
        "# xtr_ske, xval_ske, ytr_ske, yval_ske = train_test_split(xtr_ske, ytr_ske, shuffle=False, test_size=0.2, random_state=42)"
      ]
    },
    {
      "cell_type": "code",
      "execution_count": null,
      "metadata": {
        "id": "O6mRsY4Bbn2f",
        "trusted": true
      },
      "outputs": [],
      "source": [
        "# xtr"
      ]
    },
    {
      "cell_type": "code",
      "execution_count": null,
      "metadata": {
        "execution": {
          "iopub.execute_input": "2024-01-26T14:10:12.96417Z",
          "iopub.status.busy": "2024-01-26T14:10:12.962868Z",
          "iopub.status.idle": "2024-01-26T14:10:12.968883Z",
          "shell.execute_reply": "2024-01-26T14:10:12.967875Z",
          "shell.execute_reply.started": "2024-01-26T14:10:12.964132Z"
        },
        "id": "roaRQneIbn2f",
        "trusted": true
      },
      "outputs": [],
      "source": [
        "# y = np.array([i//180 for i in range(0,720)])"
      ]
    },
    {
      "cell_type": "code",
      "execution_count": null,
      "metadata": {
        "id": "Fbg372OFbn2g",
        "trusted": true
      },
      "outputs": [],
      "source": [
        "# y"
      ]
    },
    {
      "cell_type": "code",
      "execution_count": null,
      "metadata": {
        "execution": {
          "iopub.execute_input": "2024-02-01T17:22:37.123148Z",
          "iopub.status.busy": "2024-02-01T17:22:37.122458Z",
          "iopub.status.idle": "2024-02-01T17:22:37.130182Z",
          "shell.execute_reply": "2024-02-01T17:22:37.12918Z",
          "shell.execute_reply.started": "2024-02-01T17:22:37.123115Z"
        },
        "id": "k_ISzkSZbn2g",
        "trusted": true
      },
      "outputs": [],
      "source": [
        "def read_frames(array_videos, each_nth=15):\n",
        "    videos=[]\n",
        "    n = len(array_videos)\n",
        "    for i in range(n):\n",
        "        clear_output()\n",
        "        print(np.round(100*i/n, 3))\n",
        "        frames = []\n",
        "        cnt = 0\n",
        "        num_imgs = len(os.listdir(array_videos[i]))\n",
        "#         print(num_imgs)\n",
        "        for image in os.listdir(array_videos[i]):\n",
        "#             print(cnt)\n",
        "            if cnt == (num_imgs // 2):\n",
        "#                 print('append')\n",
        "                image = image.decode('utf-8')\n",
        "                img = cv2.imread(os.path.join(array_videos[i], image))\n",
        "# #             img = cv2.cvtColor(img, cv2.COLOR_BGR2GRAY)\n",
        "                img = resize(img, (128, 128))\n",
        "#             frames.append(img)\n",
        "                videos.append(img)\n",
        "            cnt += 1\n",
        "    return np.array(videos)"
      ]
    },
    {
      "cell_type": "code",
      "execution_count": null,
      "metadata": {
        "execution": {
          "iopub.execute_input": "2024-02-01T17:22:39.78236Z",
          "iopub.status.busy": "2024-02-01T17:22:39.78172Z",
          "iopub.status.idle": "2024-02-01T17:22:39.790386Z",
          "shell.execute_reply": "2024-02-01T17:22:39.789448Z",
          "shell.execute_reply.started": "2024-02-01T17:22:39.782329Z"
        },
        "id": "lv-nWvpnbn2g",
        "trusted": true
      },
      "outputs": [],
      "source": [
        "x_columns = [f'PointX_{i}' for i in range(1, 14)]\n",
        "y_columns = [f'PointY_{i}' for i in range(1, 14)]\n",
        "def read_csv_data(array_csv, each_nth=15):\n",
        "    skeletons_videos = []\n",
        "    n = len(array_csv)\n",
        "    for i in range(n):\n",
        "        clear_output()\n",
        "        print(np.round(100*i/n, 3))\n",
        "        frames = []\n",
        "        cnt = 0\n",
        "        csv_reader = pd.read_csv(array_csv[i])\n",
        "        print(array_csv[i], csv_reader.shape[0])\n",
        "        for j in range(0, csv_reader.shape[0], 1):\n",
        "#             if cnt % each_nth == 0:\n",
        "                sequence = []\n",
        "                for z in range(13):\n",
        "                    point_x = csv_reader[x_columns[z]][j]\n",
        "                    point_y = csv_reader[y_columns[z]][j]\n",
        "                    sequence.extend([point_x, point_y])\n",
        "                frames.append(sequence)\n",
        "        skeletons_videos.append(frames)\n",
        "    return skeletons_videos"
      ]
    },
    {
      "cell_type": "code",
      "execution_count": null,
      "metadata": {
        "execution": {
          "iopub.execute_input": "2024-02-01T17:22:43.018677Z",
          "iopub.status.busy": "2024-02-01T17:22:43.017715Z",
          "iopub.status.idle": "2024-02-01T17:22:52.86828Z",
          "shell.execute_reply": "2024-02-01T17:22:52.867282Z",
          "shell.execute_reply.started": "2024-02-01T17:22:43.01863Z"
        },
        "id": "BqffDFuTbn2g",
        "trusted": true
      },
      "outputs": [],
      "source": [
        "X_frames_test = read_frames(test_dataset)"
      ]
    },
    {
      "cell_type": "code",
      "execution_count": null,
      "metadata": {
        "execution": {
          "iopub.execute_input": "2024-02-01T17:23:01.158351Z",
          "iopub.status.busy": "2024-02-01T17:23:01.15745Z",
          "iopub.status.idle": "2024-02-01T17:23:29.763951Z",
          "shell.execute_reply": "2024-02-01T17:23:29.7629Z",
          "shell.execute_reply.started": "2024-02-01T17:23:01.158317Z"
        },
        "id": "Qlae_8Rdbn2g",
        "trusted": true
      },
      "outputs": [],
      "source": [
        "X_frames_train = read_frames(train_dataset)"
      ]
    },
    {
      "cell_type": "code",
      "execution_count": null,
      "metadata": {
        "execution": {
          "iopub.execute_input": "2024-02-01T17:23:29.765932Z",
          "iopub.status.busy": "2024-02-01T17:23:29.765619Z",
          "iopub.status.idle": "2024-02-01T17:23:35.944572Z",
          "shell.execute_reply": "2024-02-01T17:23:35.943827Z",
          "shell.execute_reply.started": "2024-02-01T17:23:29.765906Z"
        },
        "id": "YRqjbm6Jbn2g",
        "trusted": true
      },
      "outputs": [],
      "source": [
        "X_frames_val = read_frames(validation_dataset)"
      ]
    },
    {
      "cell_type": "code",
      "execution_count": null,
      "metadata": {
        "execution": {
          "iopub.execute_input": "2024-02-01T15:30:08.478211Z",
          "iopub.status.busy": "2024-02-01T15:30:08.477453Z",
          "iopub.status.idle": "2024-02-01T15:30:08.48424Z",
          "shell.execute_reply": "2024-02-01T15:30:08.483222Z",
          "shell.execute_reply.started": "2024-02-01T15:30:08.478175Z"
        },
        "id": "coU-Er1cbn2g",
        "trusted": true
      },
      "outputs": [],
      "source": [
        "X_frames_test.shape"
      ]
    },
    {
      "cell_type": "code",
      "execution_count": null,
      "metadata": {
        "execution": {
          "iopub.execute_input": "2024-02-01T15:30:10.931472Z",
          "iopub.status.busy": "2024-02-01T15:30:10.931132Z",
          "iopub.status.idle": "2024-02-01T15:30:10.937391Z",
          "shell.execute_reply": "2024-02-01T15:30:10.936551Z",
          "shell.execute_reply.started": "2024-02-01T15:30:10.931446Z"
        },
        "id": "K26hvNJAbn2g",
        "trusted": true
      },
      "outputs": [],
      "source": [
        "X_frames_train.shape"
      ]
    },
    {
      "cell_type": "code",
      "execution_count": null,
      "metadata": {
        "execution": {
          "iopub.execute_input": "2024-02-01T15:30:13.551611Z",
          "iopub.status.busy": "2024-02-01T15:30:13.551272Z",
          "iopub.status.idle": "2024-02-01T15:30:13.557666Z",
          "shell.execute_reply": "2024-02-01T15:30:13.556729Z",
          "shell.execute_reply.started": "2024-02-01T15:30:13.551584Z"
        },
        "id": "5u4_vmHJbn2g",
        "trusted": true
      },
      "outputs": [],
      "source": [
        "X_frames_val.shape"
      ]
    },
    {
      "cell_type": "code",
      "execution_count": null,
      "metadata": {
        "id": "Ax6B9yE0bn2h",
        "trusted": true
      },
      "outputs": [],
      "source": [
        "# Xske_frames = read_csv_data(skeletons)"
      ]
    },
    {
      "cell_type": "code",
      "execution_count": null,
      "metadata": {
        "execution": {
          "iopub.execute_input": "2024-01-20T06:07:33.344314Z",
          "iopub.status.busy": "2024-01-20T06:07:33.343482Z",
          "iopub.status.idle": "2024-01-20T06:07:33.351388Z",
          "shell.execute_reply": "2024-01-20T06:07:33.350283Z",
          "shell.execute_reply.started": "2024-01-20T06:07:33.344262Z"
        },
        "id": "zq_I-iNdbn2h",
        "trusted": true
      },
      "outputs": [],
      "source": [
        "# def select_frames(frames_arr, n=15):\n",
        "#     videos=[]\n",
        "#     for i in range(len(frames_arr)):\n",
        "#         frames=[]\n",
        "#         video_size = len(frames_arr[i])\n",
        "#         for t in np.linspace(0, video_size-1, num=n):\n",
        "#             frames.append(frames_arr[i][int(t)])\n",
        "#         videos.append(frames[len(frames) // 2])\n",
        "#     videos = np.array(videos)\n",
        "#     print(videos.shape)\n",
        "#     return videos"
      ]
    },
    {
      "cell_type": "code",
      "execution_count": null,
      "metadata": {
        "id": "3A0NTU2Sbn2h",
        "trusted": true
      },
      "outputs": [],
      "source": [
        "# for t in np.linspace(1, 31, 15):\n",
        "#     print(int(t))"
      ]
    },
    {
      "cell_type": "code",
      "execution_count": null,
      "metadata": {
        "execution": {
          "iopub.execute_input": "2024-02-01T17:23:50.471132Z",
          "iopub.status.busy": "2024-02-01T17:23:50.470424Z",
          "iopub.status.idle": "2024-02-01T17:23:50.476938Z",
          "shell.execute_reply": "2024-02-01T17:23:50.476077Z",
          "shell.execute_reply.started": "2024-02-01T17:23:50.4711Z"
        },
        "id": "wdIRIZZjbn2h",
        "trusted": true
      },
      "outputs": [],
      "source": [
        "def select_rows(videos_skeletons, n=15):\n",
        "    videos = []\n",
        "    for i in range(len(videos_skeletons)):\n",
        "        frames = []\n",
        "        video_size = len(videos_skeletons[i])\n",
        "        for t in np.linspace(0, video_size-1, num=n):\n",
        "            frames.append(videos_skeletons[i][int(t)])\n",
        "        videos.append(frames)\n",
        "\n",
        "    videos = np.array(videos)\n",
        "    print(videos.shape)\n",
        "    return videos"
      ]
    },
    {
      "cell_type": "code",
      "execution_count": null,
      "metadata": {
        "id": "pJ33ELKkbn2h",
        "trusted": true
      },
      "outputs": [],
      "source": [
        "# X_frames_s = select_frames(X_frames)"
      ]
    },
    {
      "cell_type": "code",
      "execution_count": null,
      "metadata": {
        "execution": {
          "iopub.execute_input": "2024-02-01T17:23:53.722424Z",
          "iopub.status.busy": "2024-02-01T17:23:53.722097Z",
          "iopub.status.idle": "2024-02-01T17:23:59.676006Z",
          "shell.execute_reply": "2024-02-01T17:23:59.675283Z",
          "shell.execute_reply.started": "2024-02-01T17:23:53.722398Z"
        },
        "id": "Yt8Xy4qSbn2h",
        "trusted": true
      },
      "outputs": [],
      "source": [
        "X_skeleton_test = read_csv_data(test_ske_dataset)"
      ]
    },
    {
      "cell_type": "code",
      "execution_count": null,
      "metadata": {
        "execution": {
          "iopub.execute_input": "2024-02-01T17:24:10.662506Z",
          "iopub.status.busy": "2024-02-01T17:24:10.661644Z",
          "iopub.status.idle": "2024-02-01T17:24:30.907094Z",
          "shell.execute_reply": "2024-02-01T17:24:30.906194Z",
          "shell.execute_reply.started": "2024-02-01T17:24:10.66247Z"
        },
        "id": "rbVBV3Qnbn2h",
        "trusted": true
      },
      "outputs": [],
      "source": [
        "X_skeleton_train = read_csv_data(train_ske_dataset)"
      ]
    },
    {
      "cell_type": "code",
      "execution_count": null,
      "metadata": {
        "execution": {
          "iopub.execute_input": "2024-02-01T17:24:48.244605Z",
          "iopub.status.busy": "2024-02-01T17:24:48.243618Z",
          "iopub.status.idle": "2024-02-01T17:24:53.479213Z",
          "shell.execute_reply": "2024-02-01T17:24:53.478301Z",
          "shell.execute_reply.started": "2024-02-01T17:24:48.24457Z"
        },
        "id": "267s2vq6bn2h",
        "trusted": true
      },
      "outputs": [],
      "source": [
        "X_skeleton_valid = read_csv_data(valid_ske_dataset)"
      ]
    },
    {
      "cell_type": "code",
      "execution_count": null,
      "metadata": {
        "execution": {
          "iopub.execute_input": "2024-02-01T17:25:01.508062Z",
          "iopub.status.busy": "2024-02-01T17:25:01.507686Z",
          "iopub.status.idle": "2024-02-01T17:25:01.526075Z",
          "shell.execute_reply": "2024-02-01T17:25:01.525127Z",
          "shell.execute_reply.started": "2024-02-01T17:25:01.508033Z"
        },
        "id": "NjqvkT5_bn2i",
        "trusted": true
      },
      "outputs": [],
      "source": [
        "X_skeleton_test_s = select_rows(X_skeleton_test)"
      ]
    },
    {
      "cell_type": "code",
      "execution_count": null,
      "metadata": {
        "execution": {
          "iopub.execute_input": "2024-02-01T17:25:03.968239Z",
          "iopub.status.busy": "2024-02-01T17:25:03.967517Z",
          "iopub.status.idle": "2024-02-01T17:25:04.01603Z",
          "shell.execute_reply": "2024-02-01T17:25:04.01499Z",
          "shell.execute_reply.started": "2024-02-01T17:25:03.968203Z"
        },
        "id": "C-kuV9H7bn2i",
        "trusted": true
      },
      "outputs": [],
      "source": [
        "X_skeleton_train_s = select_rows(X_skeleton_train)"
      ]
    },
    {
      "cell_type": "code",
      "execution_count": null,
      "metadata": {
        "execution": {
          "iopub.execute_input": "2024-02-01T17:25:06.002002Z",
          "iopub.status.busy": "2024-02-01T17:25:06.001145Z",
          "iopub.status.idle": "2024-02-01T17:25:06.015823Z",
          "shell.execute_reply": "2024-02-01T17:25:06.01477Z",
          "shell.execute_reply.started": "2024-02-01T17:25:06.001967Z"
        },
        "id": "SfB1OOtubn2i",
        "trusted": true
      },
      "outputs": [],
      "source": [
        "X_skeleton_valid_s = select_rows(X_skeleton_valid)"
      ]
    },
    {
      "cell_type": "code",
      "execution_count": null,
      "metadata": {
        "execution": {
          "iopub.execute_input": "2024-02-01T14:04:57.891925Z",
          "iopub.status.busy": "2024-02-01T14:04:57.891313Z",
          "iopub.status.idle": "2024-02-01T14:04:59.145484Z",
          "shell.execute_reply": "2024-02-01T14:04:59.144492Z",
          "shell.execute_reply.started": "2024-02-01T14:04:57.891891Z"
        },
        "id": "kui4hvGfbn2i",
        "trusted": true
      },
      "outputs": [],
      "source": [
        "plt.figure(figsize=(10, 10))\n",
        "for i in range(25):\n",
        "    plt.subplot(5, 5, i + 1)\n",
        "    plt.xticks([])\n",
        "    plt.yticks([])\n",
        "    plt.grid(False)\n",
        "    plt.imshow(X_frames_train[i])\n",
        "plt.show()"
      ]
    },
    {
      "cell_type": "code",
      "execution_count": null,
      "metadata": {
        "id": "mDfh-JoNbn2i",
        "trusted": true
      },
      "outputs": [],
      "source": [
        "# X_skeleton_s = select_rows(Xske_frames)"
      ]
    },
    {
      "cell_type": "code",
      "execution_count": null,
      "metadata": {
        "execution": {
          "iopub.execute_input": "2024-01-20T03:46:10.716903Z",
          "iopub.status.busy": "2024-01-20T03:46:10.716484Z",
          "iopub.status.idle": "2024-01-20T03:46:11.178172Z",
          "shell.execute_reply": "2024-01-20T03:46:11.177109Z",
          "shell.execute_reply.started": "2024-01-20T03:46:10.716871Z"
        },
        "id": "91qXB8B1bn2i",
        "trusted": true
      },
      "outputs": [],
      "source": [
        "X_frames_s = np.load('/kaggle/input/fix-data/rgb_images_data.npy')"
      ]
    },
    {
      "cell_type": "code",
      "execution_count": null,
      "metadata": {
        "execution": {
          "iopub.execute_input": "2024-01-20T03:46:39.570943Z",
          "iopub.status.busy": "2024-01-20T03:46:39.569931Z",
          "iopub.status.idle": "2024-01-20T03:46:39.602121Z",
          "shell.execute_reply": "2024-01-20T03:46:39.601095Z",
          "shell.execute_reply.started": "2024-01-20T03:46:39.5709Z"
        },
        "id": "qaBI6SDTbn2i",
        "trusted": true
      },
      "outputs": [],
      "source": [
        "X_skeleton_s = np.load('/kaggle/input/fix-data/skeletons_data.npy')"
      ]
    },
    {
      "cell_type": "code",
      "execution_count": null,
      "metadata": {
        "execution": {
          "iopub.execute_input": "2024-01-20T03:46:50.392808Z",
          "iopub.status.busy": "2024-01-20T03:46:50.392364Z",
          "iopub.status.idle": "2024-01-20T03:46:50.401422Z",
          "shell.execute_reply": "2024-01-20T03:46:50.400166Z",
          "shell.execute_reply.started": "2024-01-20T03:46:50.392741Z"
        },
        "id": "SxPC8bSCbn2i",
        "trusted": true
      },
      "outputs": [],
      "source": [
        "X_frames_s.shape"
      ]
    },
    {
      "cell_type": "code",
      "execution_count": null,
      "metadata": {
        "execution": {
          "iopub.execute_input": "2024-01-20T03:47:02.545681Z",
          "iopub.status.busy": "2024-01-20T03:47:02.545296Z",
          "iopub.status.idle": "2024-01-20T03:47:02.552281Z",
          "shell.execute_reply": "2024-01-20T03:47:02.551222Z",
          "shell.execute_reply.started": "2024-01-20T03:47:02.545651Z"
        },
        "id": "F9zXoZVYbn2i",
        "trusted": true
      },
      "outputs": [],
      "source": [
        "X_skeleton_s.shape"
      ]
    },
    {
      "cell_type": "code",
      "execution_count": null,
      "metadata": {
        "execution": {
          "iopub.execute_input": "2024-01-20T06:08:56.640495Z",
          "iopub.status.busy": "2024-01-20T06:08:56.639546Z",
          "iopub.status.idle": "2024-01-20T06:08:56.710246Z",
          "shell.execute_reply": "2024-01-20T06:08:56.709312Z",
          "shell.execute_reply.started": "2024-01-20T06:08:56.640461Z"
        },
        "id": "TulOXRxVbn2i",
        "trusted": true
      },
      "outputs": [],
      "source": [
        "np.save('/kaggle/working/rgb_images_128x128.npy', X_frames_s)"
      ]
    },
    {
      "cell_type": "code",
      "execution_count": null,
      "metadata": {
        "execution": {
          "iopub.execute_input": "2024-01-20T06:09:01.36041Z",
          "iopub.status.busy": "2024-01-20T06:09:01.360037Z",
          "iopub.status.idle": "2024-01-20T06:09:01.367735Z",
          "shell.execute_reply": "2024-01-20T06:09:01.36678Z",
          "shell.execute_reply.started": "2024-01-20T06:09:01.360382Z"
        },
        "id": "VkNfuuUgbn2j",
        "trusted": true
      },
      "outputs": [],
      "source": [
        "np.save('/kaggle/working/skeletons_128x128.npy', X_skeleton_s)"
      ]
    },
    {
      "cell_type": "code",
      "execution_count": null,
      "metadata": {
        "execution": {
          "iopub.execute_input": "2024-01-20T03:36:44.492374Z",
          "iopub.status.busy": "2024-01-20T03:36:44.491995Z",
          "iopub.status.idle": "2024-01-20T03:36:44.51623Z",
          "shell.execute_reply": "2024-01-20T03:36:44.515302Z",
          "shell.execute_reply.started": "2024-01-20T03:36:44.492344Z"
        },
        "id": "Ryk7NwjHbn2j",
        "trusted": true
      },
      "outputs": [],
      "source": [
        "load_rgb = np.load('/kaggle/working/rgb_images_data.npy')"
      ]
    },
    {
      "cell_type": "code",
      "execution_count": null,
      "metadata": {
        "execution": {
          "iopub.execute_input": "2024-01-20T03:38:19.70197Z",
          "iopub.status.busy": "2024-01-20T03:38:19.701018Z",
          "iopub.status.idle": "2024-01-20T03:38:19.707032Z",
          "shell.execute_reply": "2024-01-20T03:38:19.706093Z",
          "shell.execute_reply.started": "2024-01-20T03:38:19.701936Z"
        },
        "id": "5r-nP4BFbn2j",
        "trusted": true
      },
      "outputs": [],
      "source": [
        "load_ske = np.load('/kaggle/working/skeletons_data.npy')"
      ]
    },
    {
      "cell_type": "code",
      "execution_count": null,
      "metadata": {
        "execution": {
          "iopub.execute_input": "2024-01-20T03:36:55.45377Z",
          "iopub.status.busy": "2024-01-20T03:36:55.452701Z",
          "iopub.status.idle": "2024-01-20T03:36:55.459724Z",
          "shell.execute_reply": "2024-01-20T03:36:55.458773Z",
          "shell.execute_reply.started": "2024-01-20T03:36:55.453735Z"
        },
        "id": "XgYlNklfbn2j",
        "trusted": true
      },
      "outputs": [],
      "source": [
        "load_rgb.shape"
      ]
    },
    {
      "cell_type": "code",
      "execution_count": null,
      "metadata": {
        "execution": {
          "iopub.execute_input": "2024-01-20T03:38:27.417069Z",
          "iopub.status.busy": "2024-01-20T03:38:27.416689Z",
          "iopub.status.idle": "2024-01-20T03:38:27.423541Z",
          "shell.execute_reply": "2024-01-20T03:38:27.422477Z",
          "shell.execute_reply.started": "2024-01-20T03:38:27.417038Z"
        },
        "id": "k725FWOEbn2j",
        "trusted": true
      },
      "outputs": [],
      "source": [
        "load_ske.shape"
      ]
    },
    {
      "cell_type": "markdown",
      "metadata": {
        "id": "nEWqydKObn2j"
      },
      "source": [
        "**RGB Data Split**"
      ]
    },
    {
      "cell_type": "code",
      "execution_count": null,
      "metadata": {
        "execution": {
          "iopub.execute_input": "2024-02-01T17:25:12.861034Z",
          "iopub.status.busy": "2024-02-01T17:25:12.860565Z",
          "iopub.status.idle": "2024-02-01T17:25:12.865802Z",
          "shell.execute_reply": "2024-02-01T17:25:12.864756Z",
          "shell.execute_reply.started": "2024-02-01T17:25:12.860997Z"
        },
        "id": "DTJaaw44bn2j",
        "trusted": true
      },
      "outputs": [],
      "source": [
        "xte = X_frames_test\n",
        "xtr = X_frames_train\n",
        "xval = X_frames_val"
      ]
    },
    {
      "cell_type": "code",
      "execution_count": null,
      "metadata": {
        "execution": {
          "iopub.execute_input": "2024-02-01T17:27:13.374309Z",
          "iopub.status.busy": "2024-02-01T17:27:13.373588Z",
          "iopub.status.idle": "2024-02-01T17:27:13.378181Z",
          "shell.execute_reply": "2024-02-01T17:27:13.377257Z",
          "shell.execute_reply.started": "2024-02-01T17:27:13.374277Z"
        },
        "id": "InVVMlfmbn2j",
        "trusted": true
      },
      "outputs": [],
      "source": [
        "xte_ske = X_skeleton_test_s\n",
        "xtr_ske = X_skeleton_train_s\n",
        "xval_ske = X_skeleton_valid_s"
      ]
    },
    {
      "cell_type": "code",
      "execution_count": null,
      "metadata": {
        "execution": {
          "iopub.execute_input": "2024-01-21T07:17:01.94977Z",
          "iopub.status.busy": "2024-01-21T07:17:01.948951Z",
          "iopub.status.idle": "2024-01-21T07:17:02.034898Z",
          "shell.execute_reply": "2024-01-21T07:17:02.034044Z",
          "shell.execute_reply.started": "2024-01-21T07:17:01.949738Z"
        },
        "id": "57-RHUBYbn2j",
        "trusted": true
      },
      "outputs": [],
      "source": [
        "# xtr, xte, ytr , yte = train_test_split(X_frames , y , shuffle=False,test_size = 0.2,random_state = 42)"
      ]
    },
    {
      "cell_type": "code",
      "execution_count": null,
      "metadata": {
        "id": "tKABYmsnbn2k",
        "trusted": true
      },
      "outputs": [],
      "source": [
        "# xtr, xval, ytr, yval = train_test_split(X_frames_tr_val, ytr, shuffle=True, test_size=0.2, random_state=42)"
      ]
    },
    {
      "cell_type": "markdown",
      "metadata": {
        "id": "wCYLz56obn2k"
      },
      "source": [
        "**Skeleton Data Split**"
      ]
    },
    {
      "cell_type": "code",
      "execution_count": null,
      "metadata": {
        "execution": {
          "iopub.execute_input": "2024-01-21T07:17:11.537382Z",
          "iopub.status.busy": "2024-01-21T07:17:11.537053Z",
          "iopub.status.idle": "2024-01-21T07:17:11.543449Z",
          "shell.execute_reply": "2024-01-21T07:17:11.542527Z",
          "shell.execute_reply.started": "2024-01-21T07:17:11.537358Z"
        },
        "id": "OCfwWBxQbn2k",
        "trusted": true
      },
      "outputs": [],
      "source": [
        "# xtr_ske, xte_ske, ytr_ske , yte_ske = train_test_split(X_skeleton_s , y , shuffle=False,test_size = 0.2,random_state = 42)"
      ]
    },
    {
      "cell_type": "code",
      "execution_count": null,
      "metadata": {
        "execution": {
          "iopub.execute_input": "2024-01-21T07:17:13.342337Z",
          "iopub.status.busy": "2024-01-21T07:17:13.341956Z",
          "iopub.status.idle": "2024-01-21T07:17:13.348162Z",
          "shell.execute_reply": "2024-01-21T07:17:13.347172Z",
          "shell.execute_reply.started": "2024-01-21T07:17:13.342307Z"
        },
        "id": "jPcudCLPbn2k",
        "trusted": true
      },
      "outputs": [],
      "source": [
        "# 2.07\n",
        "# xtr_ske, xval_ske, ytr_ske, yval_ske = train_test_split(xtr_ske, ytr_ske, shuffle=False, test_size=0.2, random_state=42)"
      ]
    },
    {
      "cell_type": "code",
      "execution_count": null,
      "metadata": {
        "execution": {
          "iopub.execute_input": "2024-01-21T07:17:15.655871Z",
          "iopub.status.busy": "2024-01-21T07:17:15.655043Z",
          "iopub.status.idle": "2024-01-21T07:17:15.660286Z",
          "shell.execute_reply": "2024-01-21T07:17:15.65937Z",
          "shell.execute_reply.started": "2024-01-21T07:17:15.655838Z"
        },
        "id": "5_oObXCfbn2k",
        "trusted": true
      },
      "outputs": [],
      "source": [
        "print(xtr_ske.shape)"
      ]
    },
    {
      "cell_type": "code",
      "execution_count": null,
      "metadata": {
        "execution": {
          "iopub.execute_input": "2024-02-01T17:25:20.96917Z",
          "iopub.status.busy": "2024-02-01T17:25:20.968817Z",
          "iopub.status.idle": "2024-02-01T17:25:20.974496Z",
          "shell.execute_reply": "2024-02-01T17:25:20.973504Z",
          "shell.execute_reply.started": "2024-02-01T17:25:20.969142Z"
        },
        "id": "OQpDLnBEbn2k",
        "trusted": true
      },
      "outputs": [],
      "source": [
        "ytr = to_categorical(ytr, 4)\n",
        "yte = to_categorical(yte, 4)\n",
        "yval = to_categorical(yval, 4)"
      ]
    },
    {
      "cell_type": "code",
      "execution_count": null,
      "metadata": {
        "execution": {
          "iopub.execute_input": "2024-01-31T11:12:21.75989Z",
          "iopub.status.busy": "2024-01-31T11:12:21.75951Z",
          "iopub.status.idle": "2024-01-31T11:12:21.765092Z",
          "shell.execute_reply": "2024-01-31T11:12:21.764169Z",
          "shell.execute_reply.started": "2024-01-31T11:12:21.759859Z"
        },
        "id": "Mv7GdxEBbn2k",
        "trusted": true
      },
      "outputs": [],
      "source": [
        "print(ytr.shape, yte.shape, yval.shape)"
      ]
    },
    {
      "cell_type": "code",
      "execution_count": null,
      "metadata": {
        "execution": {
          "iopub.execute_input": "2024-01-21T07:17:34.324044Z",
          "iopub.status.busy": "2024-01-21T07:17:34.322982Z",
          "iopub.status.idle": "2024-01-21T07:17:34.329593Z",
          "shell.execute_reply": "2024-01-21T07:17:34.328668Z",
          "shell.execute_reply.started": "2024-01-21T07:17:34.323996Z"
        },
        "id": "FIOMqpulbn2k",
        "trusted": true
      },
      "outputs": [],
      "source": [
        "print(ytr_ske.shape)"
      ]
    },
    {
      "cell_type": "code",
      "execution_count": null,
      "metadata": {
        "execution": {
          "iopub.execute_input": "2024-01-10T09:14:46.622987Z",
          "iopub.status.busy": "2024-01-10T09:14:46.622712Z",
          "iopub.status.idle": "2024-01-10T09:14:46.630536Z",
          "shell.execute_reply": "2024-01-10T09:14:46.629673Z",
          "shell.execute_reply.started": "2024-01-10T09:14:46.622964Z"
        },
        "id": "7Efxvde5bn2k",
        "trusted": true
      },
      "outputs": [],
      "source": [
        "# def list_to_stack(xs):\n",
        "#   xs=tf.stack(xs, axis=1)\n",
        "#   s = tf.shape(xs)\n",
        "\n",
        "#   return xs"
      ]
    },
    {
      "cell_type": "code",
      "execution_count": null,
      "metadata": {
        "execution": {
          "iopub.execute_input": "2024-02-01T17:25:23.445412Z",
          "iopub.status.busy": "2024-02-01T17:25:23.444507Z",
          "iopub.status.idle": "2024-02-01T17:25:23.451419Z",
          "shell.execute_reply": "2024-02-01T17:25:23.450478Z",
          "shell.execute_reply.started": "2024-02-01T17:25:23.445374Z"
        },
        "id": "w9JC6YWgbn2k",
        "trusted": true
      },
      "outputs": [],
      "source": [
        "num_classes = 4\n",
        "input_shape = (128, 128, 3)\n",
        "patch_size = (2, 2)\n",
        "dropout_rate = 0.03\n",
        "num_heads = 8\n",
        "embed_dim = 64\n",
        "num_mlp = 256\n",
        "qkv_bias = True\n",
        "window_size = 2\n",
        "shift_size = 1\n",
        "image_dimension = 128\n",
        "\n",
        "num_patch_x = input_shape[0] // patch_size[0]\n",
        "num_patch_y = input_shape[1] // patch_size[1]\n",
        "\n",
        "learning_rate = 1e-3\n",
        "batch_size = 32\n",
        "num_epochs = 100\n",
        "validation_split = 0.1\n",
        "weight_decay = 0.0001\n",
        "label_smoothing = 0.1"
      ]
    },
    {
      "cell_type": "markdown",
      "metadata": {
        "id": "M-to4IEUbn2l"
      },
      "source": [
        "<h1 style=\"text-align: center\">SWIN TRANSFORMER</h1>"
      ]
    },
    {
      "cell_type": "code",
      "execution_count": null,
      "metadata": {
        "execution": {
          "iopub.execute_input": "2024-02-01T17:27:44.989396Z",
          "iopub.status.busy": "2024-02-01T17:27:44.989036Z",
          "iopub.status.idle": "2024-02-01T17:27:45.001262Z",
          "shell.execute_reply": "2024-02-01T17:27:45.000336Z",
          "shell.execute_reply.started": "2024-02-01T17:27:44.989366Z"
        },
        "id": "onUzkMu8bn2l",
        "trusted": true
      },
      "outputs": [],
      "source": [
        "def window_partition(x, window_size):\n",
        "    _, height, width, channels = x.shape\n",
        "    patch_num_y = height // window_size\n",
        "    patch_num_x = width // window_size\n",
        "    x = tf.reshape(\n",
        "        x, shape=(-1, patch_num_y, window_size, patch_num_x, window_size, channels)\n",
        "    )\n",
        "    x = tf.transpose(x, (0, 1, 3, 2, 4, 5))\n",
        "    windows = tf.reshape(x, shape=(-1, window_size, window_size, channels))\n",
        "    return windows\n",
        "\n",
        "\n",
        "def window_reverse(windows, window_size, height, width, channels):\n",
        "    patch_num_y = height // window_size\n",
        "    patch_num_x = width // window_size\n",
        "    x = tf.reshape(\n",
        "        windows,\n",
        "        shape=(-1, patch_num_y, patch_num_x, window_size, window_size, channels),\n",
        "    )\n",
        "    x = tf.transpose(x, perm=(0, 1, 3, 2, 4, 5))\n",
        "    x = tf.reshape(x, shape=(-1, height, width, channels))\n",
        "    return x\n",
        "\n",
        "\n",
        "class DropPath(layers.Layer):\n",
        "    def __init__(self, drop_prob=None, **kwargs):\n",
        "        super(DropPath, self).__init__(**kwargs)\n",
        "        self.drop_prob = drop_prob\n",
        "\n",
        "    def call(self, x):\n",
        "        input_shape = tf.shape(x)\n",
        "        batch_size = input_shape[0]\n",
        "        rank = x.shape.rank\n",
        "        shape = (batch_size,) + (1,) * (rank - 1)\n",
        "        random_tensor = (1 - self.drop_prob) + tf.random.uniform(shape, dtype=x.dtype)\n",
        "        path_mask = tf.floor(random_tensor)\n",
        "        output = tf.math.divide(x, 1 - self.drop_prob) * path_mask\n",
        "        return output\n",
        "    def get_config(self):\n",
        "        config = super().get_config()\n",
        "        config.update(\n",
        "            {\n",
        "                \"drop_prob\": self.drop_prob,\n",
        "            }\n",
        "        )\n",
        "        return config"
      ]
    },
    {
      "cell_type": "code",
      "execution_count": null,
      "metadata": {
        "execution": {
          "iopub.execute_input": "2024-02-01T17:27:47.370375Z",
          "iopub.status.busy": "2024-02-01T17:27:47.369934Z",
          "iopub.status.idle": "2024-02-01T17:27:47.398351Z",
          "shell.execute_reply": "2024-02-01T17:27:47.397335Z",
          "shell.execute_reply.started": "2024-02-01T17:27:47.370335Z"
        },
        "id": "0ue5MHBjbn2l",
        "trusted": true
      },
      "outputs": [],
      "source": [
        "class WindowAttention(layers.Layer):\n",
        "    def __init__(\n",
        "        self,\n",
        "        dim,\n",
        "        window_size,\n",
        "        num_heads,\n",
        "        qkv_bias=True,\n",
        "        dropout_rate=0.0,\n",
        "        return_attention_scores=False,\n",
        "        **kwargs\n",
        "    ):\n",
        "        super().__init__(**kwargs)\n",
        "        self.dim = dim\n",
        "        self.window_size = window_size\n",
        "        self.num_heads = num_heads\n",
        "        self.scale = (dim // num_heads) ** -0.5\n",
        "        self.return_attention_scores = return_attention_scores\n",
        "        self.qkv = layers.Dense(dim * 3, use_bias=qkv_bias)\n",
        "        self.dropout = layers.Dropout(dropout_rate)\n",
        "        self.proj = layers.Dense(dim)\n",
        "\n",
        "    def build(self, input_shape):\n",
        "        self.relative_position_bias_table = self.add_weight(\n",
        "            shape=(\n",
        "                (2 * self.window_size[0] - 1) * (2 * self.window_size[1] - 1),\n",
        "                self.num_heads,\n",
        "            ),\n",
        "            initializer=\"zeros\",\n",
        "            trainable=True,\n",
        "            name=\"relative_position_bias_table\",\n",
        "        )\n",
        "\n",
        "        self.relative_position_index = self.get_relative_position_index(\n",
        "            self.window_size[0], self.window_size[1]\n",
        "        )\n",
        "        super().build(input_shape)\n",
        "\n",
        "    def get_relative_position_index(self, window_height, window_width):\n",
        "        x_x, y_y = tf.meshgrid(range(window_height), range(window_width))\n",
        "        coords = tf.stack([y_y, x_x], axis=0)\n",
        "        coords_flatten = tf.reshape(coords, [2, -1])\n",
        "\n",
        "        relative_coords = coords_flatten[:, :, None] - coords_flatten[:, None, :]\n",
        "        relative_coords = tf.transpose(relative_coords, perm=[1, 2, 0])\n",
        "\n",
        "        x_x = (relative_coords[:, :, 0] + window_height - 1) * (2 * window_width - 1)\n",
        "        y_y = relative_coords[:, :, 1] + window_width - 1\n",
        "        relative_coords = tf.stack([x_x, y_y], axis=-1)\n",
        "\n",
        "        return tf.reduce_sum(relative_coords, axis=-1)\n",
        "\n",
        "    def call(self, x, mask=None):\n",
        "        _, size, channels = x.shape\n",
        "        head_dim = channels // self.num_heads\n",
        "        x_qkv = self.qkv(x)\n",
        "        x_qkv = tf.reshape(x_qkv, shape=(-1, size, 3, self.num_heads, head_dim))\n",
        "        x_qkv = tf.transpose(x_qkv, perm=(2, 0, 3, 1, 4))\n",
        "        q, k, v = x_qkv[0], x_qkv[1], x_qkv[2]\n",
        "        q = q * self.scale\n",
        "        k = tf.transpose(k, perm=(0, 1, 3, 2))\n",
        "        attn = q @ k\n",
        "\n",
        "        relative_position_bias = tf.gather(\n",
        "            self.relative_position_bias_table,\n",
        "            self.relative_position_index,\n",
        "            axis=0,\n",
        "        )\n",
        "        relative_position_bias = tf.transpose(relative_position_bias, [2, 0, 1])\n",
        "        attn = attn + tf.expand_dims(relative_position_bias, axis=0)\n",
        "\n",
        "        if mask is not None:\n",
        "            nW = mask.get_shape()[0]\n",
        "            mask_float = tf.cast(\n",
        "                tf.expand_dims(tf.expand_dims(mask, axis=1), axis=0), tf.float32\n",
        "            )\n",
        "            attn = (\n",
        "                tf.reshape(attn, shape=(-1, nW, self.num_heads, size, size))\n",
        "                + mask_float\n",
        "            )\n",
        "            attn = tf.reshape(attn, shape=(-1, self.num_heads, size, size))\n",
        "            attn = tf.nn.softmax(attn, axis=-1)\n",
        "        else:\n",
        "            attn = tf.nn.softmax(attn, axis=-1)\n",
        "        attn = self.dropout(attn)\n",
        "\n",
        "        x_qkv = attn @ v\n",
        "        x_qkv = tf.transpose(x_qkv, perm=(0, 2, 1, 3))\n",
        "        x_qkv = tf.reshape(x_qkv, shape=(-1, size, channels))\n",
        "        x_qkv = self.proj(x_qkv)\n",
        "        x_qkv = self.dropout(x_qkv)\n",
        "\n",
        "        if self.return_attention_scores:\n",
        "            return x_qkv, attn\n",
        "        else:\n",
        "            return x_qkv\n",
        "\n",
        "    def get_config(self):\n",
        "        config = super().get_config()\n",
        "        config.update(\n",
        "            {\n",
        "                \"dim\": self.dim,\n",
        "                \"window_size\": self.window_size,\n",
        "                \"num_heads\": self.num_heads,\n",
        "                \"scale\": self.scale,\n",
        "            }\n",
        "        )\n",
        "        return config"
      ]
    },
    {
      "cell_type": "code",
      "execution_count": null,
      "metadata": {
        "execution": {
          "iopub.execute_input": "2024-02-01T17:27:50.986613Z",
          "iopub.status.busy": "2024-02-01T17:27:50.985776Z",
          "iopub.status.idle": "2024-02-01T17:27:51.008225Z",
          "shell.execute_reply": "2024-02-01T17:27:51.007206Z",
          "shell.execute_reply.started": "2024-02-01T17:27:50.986582Z"
        },
        "id": "CF-IdPARbn2l",
        "trusted": true
      },
      "outputs": [],
      "source": [
        "class SwinTransformer(layers.Layer):\n",
        "    def __init__(\n",
        "        self,\n",
        "        dim,\n",
        "        num_patch,\n",
        "        num_heads,\n",
        "        window_size=7,\n",
        "        shift_size=0,\n",
        "        num_mlp=1024,\n",
        "        qkv_bias=True,\n",
        "        dropout_rate=0.0,\n",
        "        **kwargs,\n",
        "    ):\n",
        "        super(SwinTransformer, self).__init__(**kwargs)\n",
        "\n",
        "        self.dim = dim  # number of input dimensions\n",
        "        self.num_patch = num_patch  # number of embedded patches\n",
        "        self.num_heads = num_heads  # number of attention heads\n",
        "        self.window_size = window_size  # size of window\n",
        "        self.shift_size = shift_size  # size of window shift\n",
        "        self.num_mlp = num_mlp  # number of MLP nodes\n",
        "        print(\"Value of dim:\", self.dim)\n",
        "\n",
        "        #Norm Layers\n",
        "        self.norm1 = layers.LayerNormalization(epsilon=1e-5)\n",
        "        self.attn = WindowAttention(\n",
        "            dim,\n",
        "            window_size=(self.window_size, self.window_size),\n",
        "            num_heads=num_heads,\n",
        "            qkv_bias=qkv_bias,\n",
        "            dropout_rate=dropout_rate,\n",
        "        )\n",
        "        self.drop_path = DropPath(dropout_rate)\n",
        "        self.norm2 = layers.LayerNormalization(epsilon=1e-5)\n",
        "\n",
        "        #MLP Layers\n",
        "        self.mlp = keras.Sequential(\n",
        "            [\n",
        "                layers.Dense(num_mlp),\n",
        "                layers.Activation(keras.activations.gelu),\n",
        "                layers.Dropout(dropout_rate),\n",
        "                layers.Dense(dim),\n",
        "                layers.Dropout(dropout_rate),\n",
        "            ]\n",
        "        )\n",
        "\n",
        "        if min(self.num_patch) < self.window_size:\n",
        "            self.shift_size = 0\n",
        "            self.window_size = min(self.num_patch)\n",
        "\n",
        "    def build(self, input_shape):\n",
        "        if self.shift_size == 0:\n",
        "            self.attn_mask = None\n",
        "        else:\n",
        "            height, width = self.num_patch\n",
        "            h_slices = (\n",
        "                slice(0, -self.window_size),\n",
        "                slice(-self.window_size, -self.shift_size),\n",
        "                slice(-self.shift_size, None),\n",
        "            )\n",
        "            w_slices = (\n",
        "                slice(0, -self.window_size),\n",
        "                slice(-self.window_size, -self.shift_size),\n",
        "                slice(-self.shift_size, None),\n",
        "            )\n",
        "            mask_array = np.zeros((1, height, width, 1))\n",
        "            count = 0\n",
        "            for h in h_slices:\n",
        "                for w in w_slices:\n",
        "                    mask_array[:, h, w, :] = count\n",
        "                    count += 1\n",
        "            mask_array = tf.convert_to_tensor(mask_array)\n",
        "\n",
        "            # mask array to windows\n",
        "            mask_windows = window_partition(mask_array, self.window_size)\n",
        "            mask_windows = tf.reshape(\n",
        "                mask_windows, shape=[-1, self.window_size * self.window_size]\n",
        "            )\n",
        "            attn_mask = tf.expand_dims(mask_windows, axis=1) - tf.expand_dims(\n",
        "                mask_windows, axis=2\n",
        "            )\n",
        "            attn_mask = tf.where(attn_mask != 0, -100.0, attn_mask)\n",
        "            attn_mask = tf.where(attn_mask == 0, 0.0, attn_mask)\n",
        "            self.attn_mask = tf.Variable(initial_value=attn_mask, trainable=False)\n",
        "\n",
        "    def call(self, x):\n",
        "        height, width = self.num_patch\n",
        "        _, num_patches_before, channels = x.shape\n",
        "        x_skip = x\n",
        "        x = self.norm1(x)\n",
        "        x = tf.reshape(x, shape=(-1, height, width, channels))\n",
        "        if self.shift_size > 0:\n",
        "            shifted_x = tf.roll(\n",
        "                x, shift=[-self.shift_size, -self.shift_size], axis=[1, 2]\n",
        "            )\n",
        "        else:\n",
        "            shifted_x = x\n",
        "\n",
        "        x_windows = window_partition(shifted_x, self.window_size)\n",
        "        x_windows = tf.reshape(\n",
        "            x_windows, shape=(-1, self.window_size * self.window_size, channels)\n",
        "        )\n",
        "        attn_windows = self.attn(x_windows, mask=self.attn_mask)\n",
        "\n",
        "        attn_windows = tf.reshape(\n",
        "            attn_windows, shape=(-1, self.window_size, self.window_size, channels)\n",
        "        )\n",
        "        shifted_x = window_reverse(\n",
        "            attn_windows, self.window_size, height, width, channels\n",
        "        )\n",
        "        if self.shift_size > 0:\n",
        "            x = tf.roll(\n",
        "                shifted_x, shift=[self.shift_size, self.shift_size], axis=[1, 2]\n",
        "            )\n",
        "        else:\n",
        "            x = shifted_x\n",
        "\n",
        "        x = tf.reshape(x, shape=(-1, height * width, channels))\n",
        "        x = self.drop_path(x)\n",
        "        x = x_skip + x\n",
        "        x_skip = x\n",
        "        x = self.norm2(x)\n",
        "        x = self.mlp(x)\n",
        "        x = self.drop_path(x)\n",
        "        x = x_skip + x\n",
        "        return x\n",
        "    def get_config(self):\n",
        "        base_config = super().get_config()\n",
        "        config = {\n",
        "            \"dim\": self.dim,\n",
        "            \"num_patch\": self.num_patch,\n",
        "            \"num_heads\": self.num_heads,\n",
        "            \"window_size\": self.window_size,\n",
        "            \"shift_size\": self.shift_size,\n",
        "            \"num_mlp\": self.num_mlp\n",
        "        }\n",
        "        return {**base_config, **config}"
      ]
    },
    {
      "cell_type": "code",
      "execution_count": null,
      "metadata": {
        "execution": {
          "iopub.execute_input": "2024-02-01T17:27:55.173309Z",
          "iopub.status.busy": "2024-02-01T17:27:55.172955Z",
          "iopub.status.idle": "2024-02-01T17:27:55.190747Z",
          "shell.execute_reply": "2024-02-01T17:27:55.189846Z",
          "shell.execute_reply.started": "2024-02-01T17:27:55.173279Z"
        },
        "id": "ETKRdG08bn2l",
        "trusted": true
      },
      "outputs": [],
      "source": [
        "#@keras.saving.register_keras_serializable(package=\"PatchExtract\")\n",
        "class PatchExtract(layers.Layer):\n",
        "    def __init__(self, patch_size, **kwargs):\n",
        "        super(PatchExtract, self).__init__(**kwargs)\n",
        "        self.patch_size_x = patch_size[0]\n",
        "        self.patch_size_y = patch_size[0]\n",
        "\n",
        "    def call(self, images):\n",
        "        batch_size = tf.shape(images)[0]\n",
        "        patches = tf.image.extract_patches(\n",
        "            images=images,\n",
        "            sizes=(1, self.patch_size_x, self.patch_size_y, 1),\n",
        "            strides=(1, self.patch_size_x, self.patch_size_y, 1),\n",
        "            rates=(1, 1, 1, 1),\n",
        "            padding=\"VALID\",\n",
        "        )\n",
        "        patch_dim = patches.shape[-1]\n",
        "        patch_num = patches.shape[1]\n",
        "        return tf.reshape(patches, (batch_size, patch_num * patch_num, patch_dim))\n",
        "\n",
        "\n",
        "    def get_config(self):\n",
        "        config = super().get_config()\n",
        "        config.update(\n",
        "            {\n",
        "                \"patch_size_y\": self.patch_size_y,\n",
        "                \"patch_size_x\": self.patch_size_x,\n",
        "            }\n",
        "        )\n",
        "        return config\n",
        "\n",
        "#@keras.saving.register_keras_serializable(package=\"MyLayers\")\n",
        "class PatchEmbedding(layers.Layer):\n",
        "    def __init__(self, num_patch, embed_dim, **kwargs):\n",
        "        super(PatchEmbedding, self).__init__(**kwargs)\n",
        "        self.num_patch = num_patch\n",
        "        self.proj = layers.Dense(embed_dim)\n",
        "        self.pos_embed = layers.Embedding(input_dim=num_patch, output_dim=embed_dim)\n",
        "\n",
        "    def call(self, patch):\n",
        "        pos = tf.range(start=0, limit=self.num_patch, delta=1)\n",
        "        print(self.proj(patch) + self.pos_embed(pos))\n",
        "        return self.proj(patch) + self.pos_embed(pos)\n",
        "\n",
        "    def get_config(self):\n",
        "        config = super().get_config()\n",
        "        config.update(\n",
        "            {\n",
        "                \"num_patch\": self.num_patch,\n",
        "            }\n",
        "        )\n",
        "        return config\n",
        "\n",
        "\n",
        "#@keras.saving.register_keras_serializable(package=\"MyLayers\")\n",
        "class PatchMerging(tf.keras.layers.Layer):\n",
        "    def __init__(self, num_patch, embed_dim):\n",
        "        super(PatchMerging, self).__init__()\n",
        "        self.num_patch = num_patch\n",
        "        self.embed_dim = embed_dim\n",
        "        self.linear_trans = layers.Dense(2 * embed_dim, use_bias=False)\n",
        "\n",
        "    def call(self, x):\n",
        "        height, width = self.num_patch\n",
        "        _, _, C = x.get_shape().as_list()\n",
        "        x = tf.reshape(x, shape=(-1, height, width, C))\n",
        "        x0 = x[:, 0::2, 0::2, :]\n",
        "        x1 = x[:, 1::2, 0::2, :]\n",
        "        x2 = x[:, 0::2, 1::2, :]\n",
        "        x3 = x[:, 1::2, 1::2, :]\n",
        "        x = tf.concat((x0, x1, x2, x3), axis=-1)\n",
        "        x = tf.reshape(x, shape=(-1, (height // 2) * (width // 2), 4 * C))\n",
        "        return self.linear_trans(x)\n",
        "\n",
        "    def get_config(self):\n",
        "        config = super().get_config()\n",
        "        config.update({\"num_patch\": self.num_patch, \"embed_dim\": self.embed_dim})\n",
        "        return config"
      ]
    },
    {
      "cell_type": "code",
      "execution_count": null,
      "metadata": {
        "execution": {
          "iopub.execute_input": "2024-02-01T17:27:58.620553Z",
          "iopub.status.busy": "2024-02-01T17:27:58.619634Z",
          "iopub.status.idle": "2024-02-01T17:27:58.627848Z",
          "shell.execute_reply": "2024-02-01T17:27:58.62695Z",
          "shell.execute_reply.started": "2024-02-01T17:27:58.620515Z"
        },
        "id": "LYpEnh1kbn2l",
        "trusted": true
      },
      "outputs": [],
      "source": [
        "def SwinT_Block(inp):\n",
        "    x = layers.RandomCrop(image_dimension, image_dimension)(inp)\n",
        "    x = layers.RandomFlip(\"horizontal\")(x)\n",
        "    x = PatchExtract(patch_size)(x)\n",
        "    x = PatchEmbedding(num_patch_x * num_patch_y, embed_dim)(x)\n",
        "    x = SwinTransformer(\n",
        "        dim=embed_dim,\n",
        "        num_patch=(num_patch_x, num_patch_y),\n",
        "        num_heads=num_heads,\n",
        "        window_size=window_size,\n",
        "        shift_size=0,\n",
        "        num_mlp=num_mlp,\n",
        "        qkv_bias=qkv_bias,\n",
        "        dropout_rate=dropout_rate,\n",
        "    )(x)\n",
        "    x = SwinTransformer(\n",
        "        dim=embed_dim,\n",
        "        num_patch=(num_patch_x, num_patch_y),\n",
        "        num_heads=num_heads,\n",
        "        window_size=window_size,\n",
        "        shift_size=shift_size,\n",
        "        num_mlp=num_mlp,\n",
        "        qkv_bias=qkv_bias,\n",
        "        dropout_rate=dropout_rate,\n",
        "    )(x)\n",
        "    x = PatchMerging((num_patch_x, num_patch_y), embed_dim=embed_dim)(x)\n",
        "    x = layers.GlobalAveragePooling1D()(x)\n",
        "    x = layers.Dense(1024, activation='relu')(x)\n",
        "\n",
        "    return x"
      ]
    },
    {
      "cell_type": "markdown",
      "metadata": {
        "id": "ExMd8DmHbn2l"
      },
      "source": [
        "<h1 style=\"text-align: center\">D-CNN</h1>"
      ]
    },
    {
      "cell_type": "code",
      "execution_count": null,
      "metadata": {
        "execution": {
          "iopub.execute_input": "2024-02-01T17:25:44.66447Z",
          "iopub.status.busy": "2024-02-01T17:25:44.663473Z",
          "iopub.status.idle": "2024-02-01T17:25:44.6773Z",
          "shell.execute_reply": "2024-02-01T17:25:44.676285Z",
          "shell.execute_reply.started": "2024-02-01T17:25:44.664423Z"
        },
        "id": "DRzXkJCkbn2l",
        "trusted": true
      },
      "outputs": [],
      "source": [
        "def CNN_Layer(input_shape):\n",
        "\n",
        "    model = tf.keras.Sequential()\n",
        "\n",
        "    model.add(Conv2D(32, kernel_size=(3,3), activation='relu', input_shape=input_shape))\n",
        "    model.add(Conv2D(32,kernel_size=(3,3),activation='relu',padding='same'))\n",
        "    model.add(BatchNormalization())\n",
        "    model.add(MaxPooling2D(pool_size=(2, 2), strides=(2, 2),padding='same'))\n",
        "    model.add(Dropout(0.4))\n",
        "\n",
        "    model.add(Conv2D(64, kernel_size=(3, 3), activation='relu', padding='same'))\n",
        "    model.add(Conv2D(64, kernel_size=(3, 3), activation='relu', padding='same'))\n",
        "    model.add(BatchNormalization())\n",
        "    model.add(MaxPooling2D(pool_size=(2, 2), strides=(2, 2),padding='same'))\n",
        "    model.add(Dropout(0.1))\n",
        "\n",
        "    model.add(Conv2D(128, kernel_size=(3, 3), activation='relu', padding='same'))\n",
        "    model.add(Conv2D(128, kernel_size=(3, 3), activation='relu', padding='same'))\n",
        "    model.add(BatchNormalization())\n",
        "    model.add(MaxPooling2D(pool_size=(2, 2), strides=(2, 2),padding='same'))\n",
        "    model.add(Dropout(0.4))\n",
        "    model.add(tf.keras.layers.Flatten())\n",
        "    model.add(tf.keras.layers.Dense(1024, activation='relu'))\n",
        "\n",
        "    return model"
      ]
    },
    {
      "cell_type": "markdown",
      "metadata": {
        "id": "WW_npGf-bn2m"
      },
      "source": [
        "<h1 style=\"text-align:center;\">LSTM</h1>"
      ]
    },
    {
      "cell_type": "code",
      "execution_count": null,
      "metadata": {
        "execution": {
          "iopub.execute_input": "2024-02-01T17:25:53.891548Z",
          "iopub.status.busy": "2024-02-01T17:25:53.890687Z",
          "iopub.status.idle": "2024-02-01T17:25:53.897735Z",
          "shell.execute_reply": "2024-02-01T17:25:53.896865Z",
          "shell.execute_reply.started": "2024-02-01T17:25:53.891512Z"
        },
        "id": "fwazIaSHbn2m",
        "trusted": true
      },
      "outputs": [],
      "source": [
        "def model_LSTM(inp):\n",
        "#     x = Lambda(lambda x: x[:, slice_indx])(inp)\n",
        "    x = layers.LSTM(units = 50, return_sequences = True)(inp)\n",
        "    x = layers.Dropout(0.2)(x)\n",
        "    x = layers.LSTM(units = 50, return_sequences = True)(x)\n",
        "    x = layers.Dropout(0.2)(x)\n",
        "    x = layers.LSTM(units = 50, return_sequences = True)(x)\n",
        "    x = layers.Dropout(0.2)(x)\n",
        "    x = layers.LSTM(units = 1024)(x)\n",
        "    x = layers.Dropout(0.2)(x)\n",
        "    x = Dense(1024, activation='relu')(x)\n",
        "    return x"
      ]
    },
    {
      "cell_type": "code",
      "execution_count": null,
      "metadata": {
        "execution": {
          "iopub.execute_input": "2024-02-01T17:27:23.79514Z",
          "iopub.status.busy": "2024-02-01T17:27:23.794759Z",
          "iopub.status.idle": "2024-02-01T17:27:23.823846Z",
          "shell.execute_reply": "2024-02-01T17:27:23.823093Z",
          "shell.execute_reply.started": "2024-02-01T17:27:23.795109Z"
        },
        "id": "oFsTH6_xbn2m",
        "trusted": true
      },
      "outputs": [],
      "source": [
        "ish = (128, 128, 3)\n",
        "input_LSTM = layers.Input(shape=(xtr_ske.shape[1], xtr_ske.shape[2]))\n",
        "inp_cnn = Input(ish)\n",
        "inp_st = Input(ish)"
      ]
    },
    {
      "cell_type": "code",
      "execution_count": null,
      "metadata": {
        "execution": {
          "iopub.execute_input": "2024-02-01T17:27:27.667814Z",
          "iopub.status.busy": "2024-02-01T17:27:27.667212Z",
          "iopub.status.idle": "2024-02-01T17:27:27.674813Z",
          "shell.execute_reply": "2024-02-01T17:27:27.67383Z",
          "shell.execute_reply.started": "2024-02-01T17:27:27.667751Z"
        },
        "id": "NyCqzQX6bn2m",
        "trusted": true
      },
      "outputs": [],
      "source": [
        "input_LSTM"
      ]
    },
    {
      "cell_type": "code",
      "execution_count": null,
      "metadata": {
        "execution": {
          "iopub.execute_input": "2024-02-01T15:32:20.974309Z",
          "iopub.status.busy": "2024-02-01T15:32:20.973755Z",
          "iopub.status.idle": "2024-02-01T15:32:20.98065Z",
          "shell.execute_reply": "2024-02-01T15:32:20.979799Z",
          "shell.execute_reply.started": "2024-02-01T15:32:20.974271Z"
        },
        "id": "k6V31blbbn2m",
        "trusted": true
      },
      "outputs": [],
      "source": [
        "inp_st"
      ]
    },
    {
      "cell_type": "code",
      "execution_count": null,
      "metadata": {
        "execution": {
          "iopub.execute_input": "2024-02-01T15:32:22.130041Z",
          "iopub.status.busy": "2024-02-01T15:32:22.129653Z",
          "iopub.status.idle": "2024-02-01T15:32:22.135844Z",
          "shell.execute_reply": "2024-02-01T15:32:22.135006Z",
          "shell.execute_reply.started": "2024-02-01T15:32:22.130009Z"
        },
        "id": "37IYn8eZbn2m",
        "trusted": true
      },
      "outputs": [],
      "source": [
        "inp_cnn"
      ]
    },
    {
      "cell_type": "code",
      "execution_count": null,
      "metadata": {
        "execution": {
          "iopub.execute_input": "2024-02-01T17:28:03.688806Z",
          "iopub.status.busy": "2024-02-01T17:28:03.688104Z",
          "iopub.status.idle": "2024-02-01T17:28:05.397236Z",
          "shell.execute_reply": "2024-02-01T17:28:05.396472Z",
          "shell.execute_reply.started": "2024-02-01T17:28:03.688766Z"
        },
        "id": "QdsbLp8Abn2m",
        "trusted": true
      },
      "outputs": [],
      "source": [
        "from keras.layers import RepeatVector, Reshape, Flatten\n",
        "\n",
        "ST_out = SwinT_Block(inp_st)\n",
        "CNN_out = CNN_Layer(ish)\n",
        "# ResNet_out = build_resnet18(ish)\n",
        "\n",
        "# for slice_indx in range(0, 15, 1):\n",
        "\n",
        "# output_LSTM = model_LSTM(input_LSTM)\n",
        "#     xs_lstm.append(output_LSTM)\n",
        "\n",
        "# t1 = Lambda(list_to_stack)(xs_lstm)\n",
        "# t1 = output_LSTM\n",
        "# t1 = Dense(1024, activation='relu')(t1)"
      ]
    },
    {
      "cell_type": "code",
      "execution_count": null,
      "metadata": {
        "execution": {
          "iopub.execute_input": "2024-02-01T17:28:14.538452Z",
          "iopub.status.busy": "2024-02-01T17:28:14.537778Z",
          "iopub.status.idle": "2024-02-01T17:28:16.404006Z",
          "shell.execute_reply": "2024-02-01T17:28:16.403027Z",
          "shell.execute_reply.started": "2024-02-01T17:28:14.538419Z"
        },
        "id": "7bVJegv-bn2m",
        "trusted": true
      },
      "outputs": [],
      "source": [
        "output_LSTM = model_LSTM(input_LSTM)\n",
        "t1 = output_LSTM\n",
        "t1 = Dense(1024, activation='relu')(t1)"
      ]
    },
    {
      "cell_type": "code",
      "execution_count": null,
      "metadata": {
        "execution": {
          "iopub.execute_input": "2024-02-01T17:28:17.285213Z",
          "iopub.status.busy": "2024-02-01T17:28:17.284599Z",
          "iopub.status.idle": "2024-02-01T17:28:17.424119Z",
          "shell.execute_reply": "2024-02-01T17:28:17.423064Z",
          "shell.execute_reply.started": "2024-02-01T17:28:17.28518Z"
        },
        "id": "4zWtPPymbn2n",
        "trusted": true
      },
      "outputs": [],
      "source": [
        "CNN_out = CNN_Layer(ish)"
      ]
    },
    {
      "cell_type": "code",
      "execution_count": null,
      "metadata": {
        "execution": {
          "iopub.execute_input": "2024-02-01T17:28:19.844827Z",
          "iopub.status.busy": "2024-02-01T17:28:19.844456Z",
          "iopub.status.idle": "2024-02-01T17:28:19.848861Z",
          "shell.execute_reply": "2024-02-01T17:28:19.847951Z",
          "shell.execute_reply.started": "2024-02-01T17:28:19.844778Z"
        },
        "id": "ZOYRjD6xbn2n",
        "trusted": true
      },
      "outputs": [],
      "source": [
        "cnn_pre_out = CNN_out.output"
      ]
    },
    {
      "cell_type": "code",
      "execution_count": null,
      "metadata": {
        "execution": {
          "iopub.execute_input": "2024-02-01T17:28:22.049625Z",
          "iopub.status.busy": "2024-02-01T17:28:22.04867Z",
          "iopub.status.idle": "2024-02-01T17:28:22.071136Z",
          "shell.execute_reply": "2024-02-01T17:28:22.070229Z",
          "shell.execute_reply.started": "2024-02-01T17:28:22.049578Z"
        },
        "id": "4Ataf_iRbn2n",
        "trusted": true
      },
      "outputs": [],
      "source": [
        "CNN_out.add(tf.keras.layers.Dense(4, activation='softmax'))"
      ]
    },
    {
      "cell_type": "code",
      "execution_count": null,
      "metadata": {
        "execution": {
          "iopub.execute_input": "2024-02-01T17:28:26.461123Z",
          "iopub.status.busy": "2024-02-01T17:28:26.460414Z",
          "iopub.status.idle": "2024-02-01T17:28:26.466376Z",
          "shell.execute_reply": "2024-02-01T17:28:26.465426Z",
          "shell.execute_reply.started": "2024-02-01T17:28:26.461087Z"
        },
        "id": "nENFs8V6bn2n",
        "trusted": true
      },
      "outputs": [],
      "source": [
        "from tensorflow.keras.applications import (\n",
        "        vgg19,\n",
        "        resnet50,\n",
        "        densenet,\n",
        "        mobilenet_v2,\n",
        "        inception_v3,\n",
        "        efficientnet\n",
        ")"
      ]
    },
    {
      "cell_type": "code",
      "execution_count": null,
      "metadata": {
        "execution": {
          "iopub.execute_input": "2024-02-01T17:28:28.133531Z",
          "iopub.status.busy": "2024-02-01T17:28:28.13268Z",
          "iopub.status.idle": "2024-02-01T17:28:30.689452Z",
          "shell.execute_reply": "2024-02-01T17:28:30.688429Z",
          "shell.execute_reply.started": "2024-02-01T17:28:28.133498Z"
        },
        "id": "Ypyb3Eekbn2n",
        "trusted": true
      },
      "outputs": [],
      "source": [
        "image_size = 128\n",
        "# base_model_VGG = vgg16.VGG16(weights='imagenet', include_top=False, input_shape=(image_size, image_size, 3))\n",
        "# base_model_MobileNet = mobilenet_v2.MobileNetV2(weights='imagenet', include_top=False, input_shape=(image_size, image_size, 3))\n",
        "# base_model_DenseNet = densenet.DenseNet201(weights='imagenet', include_top=False, input_shape=(image_size, image_size, 3))\n",
        "base_model_ResNet = resnet50.ResNet50(weights='imagenet', include_top=False, input_shape=(image_size, image_size, 3))\n",
        "# base_model_Inception = inception_v3.InceptionV3(weights='imagenet', include_top=False, input_shape=(image_size, image_size, 3))\n",
        "# base_model_Efficient = efficientnet.EfficientNetB0(weights='imagenet', include_top=False, input_shape=(image_size, image_size, 3))"
      ]
    },
    {
      "cell_type": "code",
      "execution_count": null,
      "metadata": {
        "execution": {
          "iopub.execute_input": "2024-02-01T17:28:31.96136Z",
          "iopub.status.busy": "2024-02-01T17:28:31.960625Z",
          "iopub.status.idle": "2024-02-01T17:28:45.299066Z",
          "shell.execute_reply": "2024-02-01T17:28:45.298237Z",
          "shell.execute_reply.started": "2024-02-01T17:28:31.961327Z"
        },
        "id": "327HFb7ybn2n",
        "trusted": true
      },
      "outputs": [],
      "source": [
        "base_model_VGG = vgg19.VGG19(weights='imagenet', include_top=False, input_shape=(image_size, image_size, 3))\n",
        "base_model_MobileNet = mobilenet_v2.MobileNetV2(weights='imagenet', include_top=False, input_shape=(image_size, image_size, 3))\n",
        "base_model_DenseNet = densenet.DenseNet201(weights='imagenet', include_top=False, input_shape=(image_size, image_size, 3))\n",
        "base_model_Inception = inception_v3.InceptionV3(weights='imagenet', include_top=False, input_shape=(image_size, image_size, 3))\n",
        "base_model_Efficient = efficientnet.EfficientNetB0(weights='imagenet', include_top=False, input_shape=(image_size, image_size, 3))"
      ]
    },
    {
      "cell_type": "code",
      "execution_count": null,
      "metadata": {
        "execution": {
          "iopub.execute_input": "2024-02-01T17:28:52.9033Z",
          "iopub.status.busy": "2024-02-01T17:28:52.902403Z",
          "iopub.status.idle": "2024-02-01T17:28:52.97067Z",
          "shell.execute_reply": "2024-02-01T17:28:52.969851Z",
          "shell.execute_reply.started": "2024-02-01T17:28:52.903263Z"
        },
        "id": "mWJGr2EYbn2n",
        "trusted": true
      },
      "outputs": [],
      "source": [
        "for layer in base_model_VGG.layers:\n",
        "    layer.trainable = False\n",
        "for layer in base_model_MobileNet.layers:\n",
        "    layer.trainable = False\n",
        "for layer in base_model_DenseNet.layers:\n",
        "    layer.trainable = False\n",
        "for layer in base_model_ResNet.layers:\n",
        "    layer.trainable = False\n",
        "for layer in base_model_Inception.layers:\n",
        "    layer.trainable = False\n",
        "for layer in base_model_Efficient.layers:\n",
        "    layer.trainable = False\n",
        "\n",
        "def singlePretrain(model):\n",
        "    Model = Sequential()\n",
        "    Model.add(model)\n",
        "    Model.add(Flatten())\n",
        "    Model.add(Dense(1024, activation='relu'))\n",
        "#     Model.add(Dense(1024, activation='relu'))\n",
        "    x = Model.output\n",
        "    Model.add(Dense(4, activation='softmax'))\n",
        "\n",
        "    return Model, x"
      ]
    },
    {
      "cell_type": "code",
      "execution_count": null,
      "metadata": {
        "execution": {
          "iopub.execute_input": "2024-02-01T17:28:56.485983Z",
          "iopub.status.busy": "2024-02-01T17:28:56.485267Z",
          "iopub.status.idle": "2024-02-01T17:28:57.015754Z",
          "shell.execute_reply": "2024-02-01T17:28:57.014763Z",
          "shell.execute_reply.started": "2024-02-01T17:28:56.485951Z"
        },
        "id": "bM0N8moqbn2n",
        "trusted": true
      },
      "outputs": [],
      "source": [
        "resnet50, resnet50_out = singlePretrain(base_model_ResNet)"
      ]
    },
    {
      "cell_type": "code",
      "execution_count": null,
      "metadata": {
        "execution": {
          "iopub.execute_input": "2024-02-01T17:28:58.774509Z",
          "iopub.status.busy": "2024-02-01T17:28:58.773629Z",
          "iopub.status.idle": "2024-02-01T17:28:58.880636Z",
          "shell.execute_reply": "2024-02-01T17:28:58.879694Z",
          "shell.execute_reply.started": "2024-02-01T17:28:58.774472Z"
        },
        "id": "UEVE4dOebn2n",
        "trusted": true
      },
      "outputs": [],
      "source": [
        "vgg19, vgg19_out = singlePretrain(base_model_VGG)"
      ]
    },
    {
      "cell_type": "code",
      "execution_count": null,
      "metadata": {
        "execution": {
          "iopub.execute_input": "2024-02-01T15:33:01.234314Z",
          "iopub.status.busy": "2024-02-01T15:33:01.23391Z",
          "iopub.status.idle": "2024-02-01T15:33:02.063926Z",
          "shell.execute_reply": "2024-02-01T15:33:02.062989Z",
          "shell.execute_reply.started": "2024-02-01T15:33:01.234283Z"
        },
        "id": "y4c-HtsBbn2n",
        "trusted": true
      },
      "outputs": [],
      "source": [
        "efficient, eff_out = singlePretrain(base_model_Efficient)"
      ]
    },
    {
      "cell_type": "code",
      "execution_count": null,
      "metadata": {
        "execution": {
          "iopub.execute_input": "2024-02-01T17:29:01.48612Z",
          "iopub.status.busy": "2024-02-01T17:29:01.485341Z",
          "iopub.status.idle": "2024-02-01T17:29:03.476752Z",
          "shell.execute_reply": "2024-02-01T17:29:03.475995Z",
          "shell.execute_reply.started": "2024-02-01T17:29:01.486081Z"
        },
        "id": "5cZdzer-bn2o",
        "trusted": true
      },
      "outputs": [],
      "source": [
        "denseNet, denseNet_out = singlePretrain(base_model_DenseNet)"
      ]
    },
    {
      "cell_type": "code",
      "execution_count": null,
      "metadata": {
        "execution": {
          "iopub.execute_input": "2024-02-01T17:29:04.837958Z",
          "iopub.status.busy": "2024-02-01T17:29:04.837125Z",
          "iopub.status.idle": "2024-02-01T17:29:04.853937Z",
          "shell.execute_reply": "2024-02-01T17:29:04.853149Z",
          "shell.execute_reply.started": "2024-02-01T17:29:04.837925Z"
        },
        "id": "g9exNbm0bn2o",
        "trusted": true
      },
      "outputs": [],
      "source": [
        "t1_sm = layers.Dense(4, activation='softmax')(t1)"
      ]
    },
    {
      "cell_type": "code",
      "execution_count": null,
      "metadata": {
        "execution": {
          "iopub.execute_input": "2024-02-01T17:29:06.837588Z",
          "iopub.status.busy": "2024-02-01T17:29:06.837239Z",
          "iopub.status.idle": "2024-02-01T17:29:06.853722Z",
          "shell.execute_reply": "2024-02-01T17:29:06.852971Z",
          "shell.execute_reply.started": "2024-02-01T17:29:06.837554Z"
        },
        "id": "amRXXP30bn2o",
        "trusted": true
      },
      "outputs": [],
      "source": [
        "t2_sm = layers.Dense(4, activation='softmax')(ST_out)"
      ]
    },
    {
      "cell_type": "code",
      "execution_count": null,
      "metadata": {
        "execution": {
          "iopub.execute_input": "2024-02-01T17:29:09.113769Z",
          "iopub.status.busy": "2024-02-01T17:29:09.113039Z",
          "iopub.status.idle": "2024-02-01T17:29:09.123217Z",
          "shell.execute_reply": "2024-02-01T17:29:09.122261Z",
          "shell.execute_reply.started": "2024-02-01T17:29:09.113735Z"
        },
        "id": "dwoPpgsAbn2o",
        "trusted": true
      },
      "outputs": [],
      "source": [
        "st_cnn = concatenate([ST_out, cnn_pre_out])"
      ]
    },
    {
      "cell_type": "code",
      "execution_count": null,
      "metadata": {
        "execution": {
          "iopub.execute_input": "2024-02-01T17:29:10.781956Z",
          "iopub.status.busy": "2024-02-01T17:29:10.781238Z",
          "iopub.status.idle": "2024-02-01T17:29:10.791062Z",
          "shell.execute_reply": "2024-02-01T17:29:10.790002Z",
          "shell.execute_reply.started": "2024-02-01T17:29:10.781923Z"
        },
        "id": "wV9t4i3Ibn2o",
        "trusted": true
      },
      "outputs": [],
      "source": [
        "st_resnet50 = concatenate([ST_out, resnet50_out])"
      ]
    },
    {
      "cell_type": "code",
      "execution_count": null,
      "metadata": {
        "execution": {
          "iopub.execute_input": "2024-02-01T17:29:13.709486Z",
          "iopub.status.busy": "2024-02-01T17:29:13.709089Z",
          "iopub.status.idle": "2024-02-01T17:29:13.718957Z",
          "shell.execute_reply": "2024-02-01T17:29:13.717998Z",
          "shell.execute_reply.started": "2024-02-01T17:29:13.709453Z"
        },
        "id": "SJMHsNYabn2o",
        "trusted": true
      },
      "outputs": [],
      "source": [
        "dcnn_lstm = concatenate([cnn_pre_out, t1])"
      ]
    },
    {
      "cell_type": "code",
      "execution_count": null,
      "metadata": {
        "execution": {
          "iopub.execute_input": "2024-02-01T17:29:17.168231Z",
          "iopub.status.busy": "2024-02-01T17:29:17.167586Z",
          "iopub.status.idle": "2024-02-01T17:29:17.177856Z",
          "shell.execute_reply": "2024-02-01T17:29:17.177049Z",
          "shell.execute_reply.started": "2024-02-01T17:29:17.168198Z"
        },
        "id": "y32opvJ1bn2o",
        "trusted": true
      },
      "outputs": [],
      "source": [
        "resnet_lstm = concatenate([resnet50_out, t1])"
      ]
    },
    {
      "cell_type": "code",
      "execution_count": null,
      "metadata": {
        "execution": {
          "iopub.execute_input": "2024-02-01T17:29:19.512468Z",
          "iopub.status.busy": "2024-02-01T17:29:19.511591Z",
          "iopub.status.idle": "2024-02-01T17:29:19.521974Z",
          "shell.execute_reply": "2024-02-01T17:29:19.520931Z",
          "shell.execute_reply.started": "2024-02-01T17:29:19.512431Z"
        },
        "id": "7rWZwuBDbn2o",
        "trusted": true
      },
      "outputs": [],
      "source": [
        "st_lstm = concatenate([ST_out, t1])"
      ]
    },
    {
      "cell_type": "markdown",
      "metadata": {
        "id": "mi0srZHmbn2p"
      },
      "source": [
        "**MERGE TYPES**"
      ]
    },
    {
      "cell_type": "code",
      "execution_count": null,
      "metadata": {
        "execution": {
          "iopub.execute_input": "2024-02-01T17:30:25.966597Z",
          "iopub.status.busy": "2024-02-01T17:30:25.965933Z",
          "iopub.status.idle": "2024-02-01T17:30:25.992595Z",
          "shell.execute_reply": "2024-02-01T17:30:25.991855Z",
          "shell.execute_reply.started": "2024-02-01T17:30:25.966561Z"
        },
        "id": "2mTc6tgRbn2p",
        "trusted": true
      },
      "outputs": [],
      "source": [
        "st_cnn_dense = Dense(1024, activation='relu')(st_cnn)\n",
        "st_cnn_tsm = layers.Dense(4, activation='softmax')(st_cnn_dense)"
      ]
    },
    {
      "cell_type": "code",
      "execution_count": null,
      "metadata": {
        "execution": {
          "iopub.execute_input": "2024-02-01T17:30:28.026685Z",
          "iopub.status.busy": "2024-02-01T17:30:28.02596Z",
          "iopub.status.idle": "2024-02-01T17:30:28.052715Z",
          "shell.execute_reply": "2024-02-01T17:30:28.05199Z",
          "shell.execute_reply.started": "2024-02-01T17:30:28.026653Z"
        },
        "id": "9RG_-jl6bn2p",
        "trusted": true
      },
      "outputs": [],
      "source": [
        "st_resnet50_dense = Dense(1024, activation='relu')(st_resnet50)\n",
        "st_resnet50_tsm = layers.Dense(4, activation='softmax')(st_resnet50_dense)"
      ]
    },
    {
      "cell_type": "code",
      "execution_count": null,
      "metadata": {
        "execution": {
          "iopub.execute_input": "2024-02-01T17:30:30.781992Z",
          "iopub.status.busy": "2024-02-01T17:30:30.781652Z",
          "iopub.status.idle": "2024-02-01T17:30:30.807057Z",
          "shell.execute_reply": "2024-02-01T17:30:30.806136Z",
          "shell.execute_reply.started": "2024-02-01T17:30:30.781965Z"
        },
        "id": "-JLyKqJobn2p",
        "trusted": true
      },
      "outputs": [],
      "source": [
        "dcnn_lstm_dense = Dense(1024, activation='relu')(dcnn_lstm)\n",
        "dcnn_lstm_tsm = layers.Dense(4, activation='softmax')(dcnn_lstm_dense)"
      ]
    },
    {
      "cell_type": "code",
      "execution_count": null,
      "metadata": {
        "execution": {
          "iopub.execute_input": "2024-02-01T17:30:32.730866Z",
          "iopub.status.busy": "2024-02-01T17:30:32.730092Z",
          "iopub.status.idle": "2024-02-01T17:30:32.755245Z",
          "shell.execute_reply": "2024-02-01T17:30:32.754524Z",
          "shell.execute_reply.started": "2024-02-01T17:30:32.730832Z"
        },
        "id": "izIUck71bn2p",
        "trusted": true
      },
      "outputs": [],
      "source": [
        "resnet_lstm_dense = Dense(1024, activation='relu')(resnet_lstm)\n",
        "resnet_lstm_tsm = layers.Dense(4, activation='softmax')(resnet_lstm_dense)"
      ]
    },
    {
      "cell_type": "code",
      "execution_count": null,
      "metadata": {
        "execution": {
          "iopub.execute_input": "2024-02-01T17:30:35.054274Z",
          "iopub.status.busy": "2024-02-01T17:30:35.053941Z",
          "iopub.status.idle": "2024-02-01T17:30:35.079213Z",
          "shell.execute_reply": "2024-02-01T17:30:35.078487Z",
          "shell.execute_reply.started": "2024-02-01T17:30:35.054247Z"
        },
        "id": "_0m2FkTnbn2p",
        "trusted": true
      },
      "outputs": [],
      "source": [
        "st_lstm_dense = Dense(1024, activation='relu')(st_lstm)\n",
        "st_lstm_tsm = layers.Dense(4, activation='softmax')(st_lstm_dense)"
      ]
    },
    {
      "cell_type": "code",
      "execution_count": null,
      "metadata": {
        "execution": {
          "iopub.execute_input": "2024-02-01T17:30:38.238387Z",
          "iopub.status.busy": "2024-02-01T17:30:38.237693Z",
          "iopub.status.idle": "2024-02-01T17:30:38.267167Z",
          "shell.execute_reply": "2024-02-01T17:30:38.266471Z",
          "shell.execute_reply.started": "2024-02-01T17:30:38.238351Z"
        },
        "id": "h0bDMyvrbn2p",
        "trusted": true
      },
      "outputs": [],
      "source": [
        "m1 = concatenate([st_cnn_dense, t1])\n",
        "m1 = Dense(1024, activation='relu')(m1)\n",
        "m1 = Dense(4, activation='softmax')(m1)"
      ]
    },
    {
      "cell_type": "code",
      "execution_count": null,
      "metadata": {
        "execution": {
          "iopub.execute_input": "2024-02-01T17:30:40.870225Z",
          "iopub.status.busy": "2024-02-01T17:30:40.869884Z",
          "iopub.status.idle": "2024-02-01T17:30:40.898089Z",
          "shell.execute_reply": "2024-02-01T17:30:40.897363Z",
          "shell.execute_reply.started": "2024-02-01T17:30:40.870198Z"
        },
        "id": "bUSMomrDbn2q",
        "trusted": true
      },
      "outputs": [],
      "source": [
        "m2 = tf.keras.layers.Add()([st_resnet50_dense, t1])\n",
        "m2 = Dense(1024, activation='relu')(m2)\n",
        "m2 = Dense(4, activation='softmax')(m2)"
      ]
    },
    {
      "cell_type": "code",
      "execution_count": null,
      "metadata": {
        "execution": {
          "iopub.execute_input": "2024-02-01T17:31:22.889959Z",
          "iopub.status.busy": "2024-02-01T17:31:22.889243Z",
          "iopub.status.idle": "2024-02-01T17:31:22.898638Z",
          "shell.execute_reply": "2024-02-01T17:31:22.897735Z",
          "shell.execute_reply.started": "2024-02-01T17:31:22.889925Z"
        },
        "id": "90KZIozRbn2q",
        "trusted": true
      },
      "outputs": [],
      "source": [
        "st_cnn_lstm = tf.keras.layers.Multiply()([st_cnn_dense, t1])"
      ]
    },
    {
      "cell_type": "code",
      "execution_count": null,
      "metadata": {
        "execution": {
          "iopub.execute_input": "2024-02-01T17:31:24.669231Z",
          "iopub.status.busy": "2024-02-01T17:31:24.668448Z",
          "iopub.status.idle": "2024-02-01T17:31:24.678701Z",
          "shell.execute_reply": "2024-02-01T17:31:24.677925Z",
          "shell.execute_reply.started": "2024-02-01T17:31:24.669195Z"
        },
        "id": "WDevX-7dbn2q",
        "trusted": true
      },
      "outputs": [],
      "source": [
        "st_cnn_lstm = tf.keras.layers.Average()([st_cnn_dense, t1])"
      ]
    },
    {
      "cell_type": "markdown",
      "metadata": {
        "id": "eO5ftVFbbn2q"
      },
      "source": [
        "**GENERAL Training Function**"
      ]
    },
    {
      "cell_type": "code",
      "execution_count": null,
      "metadata": {
        "execution": {
          "iopub.execute_input": "2024-02-01T15:33:47.314273Z",
          "iopub.status.busy": "2024-02-01T15:33:47.31336Z",
          "iopub.status.idle": "2024-02-01T15:33:47.318891Z",
          "shell.execute_reply": "2024-02-01T15:33:47.317959Z",
          "shell.execute_reply.started": "2024-02-01T15:33:47.314238Z"
        },
        "id": "0_q0Z7xKbn2q",
        "trusted": true
      },
      "outputs": [],
      "source": [
        "from tensorflow.keras.utils import plot_model\n",
        "def modelVisualize(model):\n",
        "    plot_model(model, to_file='model.png', show_shapes=True, show_layer_names=True)"
      ]
    },
    {
      "cell_type": "code",
      "execution_count": null,
      "metadata": {
        "execution": {
          "iopub.execute_input": "2024-02-01T17:31:33.392185Z",
          "iopub.status.busy": "2024-02-01T17:31:33.391822Z",
          "iopub.status.idle": "2024-02-01T17:31:33.399066Z",
          "shell.execute_reply": "2024-02-01T17:31:33.398121Z",
          "shell.execute_reply.started": "2024-02-01T17:31:33.392155Z"
        },
        "id": "kqdVe4lRbn2r",
        "trusted": true
      },
      "outputs": [],
      "source": [
        "def modelDefine(inputs=None, outputs=None, pretrain=False, model=None):\n",
        "    Model = None\n",
        "    if pretrain == False:\n",
        "        Model = keras.Model(inputs=inputs, outputs=outputs)\n",
        "    else:\n",
        "        Model = model\n",
        "    Model.compile(\n",
        "        loss=keras.losses.CategoricalCrossentropy(label_smoothing=label_smoothing),\n",
        "        optimizer=tfa.optimizers.AdamW(learning_rate=learning_rate, weight_decay=weight_decay),\n",
        "        metrics=[\n",
        "            keras.metrics.CategoricalAccuracy(name=\"accuracy\"),\n",
        "            keras.metrics.TopKCategoricalAccuracy(5, name=\"top-5-accuracy\"),\n",
        "        ],\n",
        "    )\n",
        "    return Model"
      ]
    },
    {
      "cell_type": "code",
      "execution_count": null,
      "metadata": {
        "execution": {
          "iopub.execute_input": "2024-02-01T17:31:36.044267Z",
          "iopub.status.busy": "2024-02-01T17:31:36.043627Z",
          "iopub.status.idle": "2024-02-01T17:31:36.04953Z",
          "shell.execute_reply": "2024-02-01T17:31:36.048487Z",
          "shell.execute_reply.started": "2024-02-01T17:31:36.044229Z"
        },
        "id": "WfApcge9bn2r",
        "trusted": true
      },
      "outputs": [],
      "source": [
        "def modelTrain(model, inputs_tr, inputs_val):\n",
        "    early_stopping = EarlyStopping(monitor='val_loss', patience=10)\n",
        "    history = model.fit(\n",
        "        inputs_tr,\n",
        "        ytr,\n",
        "        batch_size=32,\n",
        "        epochs=50,\n",
        "        verbose=1,\n",
        "        validation_data=(inputs_val, yval),\n",
        "#         callbacks = [early_stopping]\n",
        "    )\n",
        "    return history"
      ]
    },
    {
      "cell_type": "code",
      "execution_count": null,
      "metadata": {
        "execution": {
          "iopub.execute_input": "2024-02-01T17:31:45.212518Z",
          "iopub.status.busy": "2024-02-01T17:31:45.211651Z",
          "iopub.status.idle": "2024-02-01T17:31:45.218912Z",
          "shell.execute_reply": "2024-02-01T17:31:45.217951Z",
          "shell.execute_reply.started": "2024-02-01T17:31:45.21248Z"
        },
        "id": "zVqmcdy9bn2r",
        "trusted": true
      },
      "outputs": [],
      "source": [
        "def modelLoss(history):\n",
        "    fig = plt.figure(figsize=(14,6))\n",
        "    ax = plt.subplot(1,2,1)\n",
        "    plt.plot(history.history['loss'], label='Training loss')\n",
        "    ax.legend(loc=\"upper left\")\n",
        "    plt.ylabel('Loss')\n",
        "    plt.xlabel('No. epoch')\n",
        "    ax = plt.subplot(1,2,2)\n",
        "    plt.plot(history.history['val_loss'], label='Vallidation loss')\n",
        "    ax.legend(loc=\"upper left\")\n",
        "    fig.suptitle('Model loss')\n",
        "    plt.ylabel('Loss')\n",
        "    plt.xlabel('No. epoch')\n",
        "    plt.show()"
      ]
    },
    {
      "cell_type": "code",
      "execution_count": null,
      "metadata": {
        "execution": {
          "iopub.execute_input": "2024-02-01T17:31:46.844134Z",
          "iopub.status.busy": "2024-02-01T17:31:46.843432Z",
          "iopub.status.idle": "2024-02-01T17:31:46.850165Z",
          "shell.execute_reply": "2024-02-01T17:31:46.849217Z",
          "shell.execute_reply.started": "2024-02-01T17:31:46.8441Z"
        },
        "id": "LdNbyJ5zbn2r",
        "trusted": true
      },
      "outputs": [],
      "source": [
        "def modelAccuracy(history):\n",
        "    ax = plt.subplot(1,2,1)\n",
        "    plt.plot(history.history['accuracy'], label='Training accuracy')\n",
        "    ax.legend(loc=\"upper left\")\n",
        "    plt.ylabel('Accuracy')\n",
        "    plt.xlabel('No. epoch')\n",
        "    ax = plt.subplot(1,2,2)\n",
        "    plt.plot(history.history['val_accuracy'], label='Vallidation accuracy')\n",
        "    ax.legend(loc=\"upper left\")\n",
        "    fig.suptitle('Model Accuracy')\n",
        "    plt.ylabel('Accuracy')\n",
        "    plt.xlabel('No. epoch')\n",
        "    plt.show()"
      ]
    },
    {
      "cell_type": "code",
      "execution_count": null,
      "metadata": {
        "execution": {
          "iopub.execute_input": "2024-02-01T17:31:49.287804Z",
          "iopub.status.busy": "2024-02-01T17:31:49.287425Z",
          "iopub.status.idle": "2024-02-01T17:31:49.296468Z",
          "shell.execute_reply": "2024-02-01T17:31:49.295463Z",
          "shell.execute_reply.started": "2024-02-01T17:31:49.287754Z"
        },
        "id": "DyPGspAvbn2r",
        "trusted": true
      },
      "outputs": [],
      "source": [
        "def Evaluation(model, xte, yte):\n",
        "    test_scores = model.evaluate(xte, yte, verbose=0)\n",
        "    print(f'Test loss: {test_scores[0]}')\n",
        "    print(f'Test accuracy: {test_scores[1]}')\n",
        "\n",
        "    from sklearn.metrics import f1_score, recall_score, precision_score, confusion_matrix, ConfusionMatrixDisplay\n",
        "    y_pred = model.predict(xte, batch_size=16)\n",
        "    y_pred_classes = np.argmax(y_pred, axis=1)\n",
        "\n",
        "    y_test = np.argmax(yte, axis=1)\n",
        "\n",
        "    f1 = f1_score(y_test, y_pred_classes,  average='macro')\n",
        "    recall = recall_score(y_test, y_pred_classes,  average='macro')\n",
        "    precision = precision_score(y_test, y_pred_classes, average='macro')\n",
        "\n",
        "    # In kết quả\n",
        "    print(\"F1-score:\", f1)\n",
        "    print(\"Recall:\", recall)\n",
        "    print(\"Precision:\", precision)\n",
        "\n",
        "    cm = confusion_matrix(y_test, y_pred_classes, normalize='true')\n",
        "    print(y_pred_classes)\n",
        "    disp = ConfusionMatrixDisplay(confusion_matrix=cm, display_labels=labels)\n",
        "\n",
        "    # Set the number of ticks for both axes\n",
        "    n_classes = len(labels)\n",
        "    disp.plot()\n",
        "\n",
        "    plt.show()\n"
      ]
    },
    {
      "cell_type": "code",
      "execution_count": null,
      "metadata": {
        "execution": {
          "iopub.execute_input": "2024-02-01T17:31:57.820128Z",
          "iopub.status.busy": "2024-02-01T17:31:57.819706Z",
          "iopub.status.idle": "2024-02-01T17:31:57.82474Z",
          "shell.execute_reply": "2024-02-01T17:31:57.823845Z",
          "shell.execute_reply.started": "2024-02-01T17:31:57.820099Z"
        },
        "id": "1jcY_G4xbn2s",
        "trusted": true
      },
      "outputs": [],
      "source": [
        "def model_save(model, save_name):\n",
        "    model.save(save_name)"
      ]
    },
    {
      "cell_type": "code",
      "execution_count": null,
      "metadata": {
        "execution": {
          "iopub.execute_input": "2024-02-01T17:34:46.078393Z",
          "iopub.status.busy": "2024-02-01T17:34:46.07771Z",
          "iopub.status.idle": "2024-02-01T17:34:46.084162Z",
          "shell.execute_reply": "2024-02-01T17:34:46.083157Z",
          "shell.execute_reply.started": "2024-02-01T17:34:46.078357Z"
        },
        "id": "hR4s0_d5bn2t",
        "trusted": true
      },
      "outputs": [],
      "source": [
        "def result_to_csv(history, name):\n",
        "    accuracy = history.history['accuracy']\n",
        "    val_accuracy = history.history['val_accuracy']\n",
        "    loss = history.history['loss']\n",
        "    val_loss = history.history['val_loss']\n",
        "    df = pd.DataFrame({'accuracy': accuracy,\n",
        "                        'val_accuracy': val_accuracy,\n",
        "                        'loss': loss,\n",
        "                        'val_loss': val_loss})\n",
        "    df.to_csv(f'/kaggle/working/{name}.csv')"
      ]
    },
    {
      "cell_type": "code",
      "execution_count": null,
      "metadata": {
        "execution": {
          "iopub.execute_input": "2024-02-01T17:32:26.184841Z",
          "iopub.status.busy": "2024-02-01T17:32:26.184447Z",
          "iopub.status.idle": "2024-02-01T17:32:26.442144Z",
          "shell.execute_reply": "2024-02-01T17:32:26.441223Z",
          "shell.execute_reply.started": "2024-02-01T17:32:26.184781Z"
        },
        "id": "4u8ie4Icbn2t",
        "trusted": true
      },
      "outputs": [],
      "source": [
        "fig, ax = plt.subplots(figsize=(10, 8))"
      ]
    },
    {
      "cell_type": "markdown",
      "metadata": {
        "id": "vL2SzBYvbn2t"
      },
      "source": [
        "**LSTM Training**"
      ]
    },
    {
      "cell_type": "code",
      "execution_count": null,
      "metadata": {
        "execution": {
          "iopub.execute_input": "2024-02-01T17:32:29.247772Z",
          "iopub.status.busy": "2024-02-01T17:32:29.247412Z",
          "iopub.status.idle": "2024-02-01T17:32:29.306318Z",
          "shell.execute_reply": "2024-02-01T17:32:29.305411Z",
          "shell.execute_reply.started": "2024-02-01T17:32:29.247741Z"
        },
        "id": "w9SX7FFrbn2t",
        "trusted": true
      },
      "outputs": [],
      "source": [
        "lstm_model = modelDefine(inputs=input_LSTM, outputs=t1_sm)\n",
        "lstm_model.summary()"
      ]
    },
    {
      "cell_type": "code",
      "execution_count": null,
      "metadata": {
        "execution": {
          "iopub.execute_input": "2024-02-01T17:32:32.55576Z",
          "iopub.status.busy": "2024-02-01T17:32:32.555404Z",
          "iopub.status.idle": "2024-02-01T17:32:51.195862Z",
          "shell.execute_reply": "2024-02-01T17:32:51.195013Z",
          "shell.execute_reply.started": "2024-02-01T17:32:32.55573Z"
        },
        "id": "OG_gKM9ebn2t",
        "trusted": true
      },
      "outputs": [],
      "source": [
        "lstm_train = modelTrain(lstm_model, xtr_ske, xval_ske)"
      ]
    },
    {
      "cell_type": "markdown",
      "metadata": {
        "id": "aackuli8bn2t"
      },
      "source": [
        "**LSTM Results**"
      ]
    },
    {
      "cell_type": "code",
      "execution_count": null,
      "metadata": {
        "execution": {
          "iopub.execute_input": "2024-02-01T17:34:54.310573Z",
          "iopub.status.busy": "2024-02-01T17:34:54.310217Z",
          "iopub.status.idle": "2024-02-01T17:35:07.701832Z",
          "shell.execute_reply": "2024-02-01T17:35:07.700837Z",
          "shell.execute_reply.started": "2024-02-01T17:34:54.310543Z"
        },
        "id": "6QaXjQLPbn2t",
        "trusted": true
      },
      "outputs": [],
      "source": [
        "modelLoss(lstm_train)\n",
        "modelAccuracy(lstm_train)\n",
        "Evaluation(lstm_model, xte_ske, yte)\n",
        "model_save(lstm_model, 'LSTM')\n",
        "result_to_csv(lstm_train, 'LSTM')"
      ]
    },
    {
      "cell_type": "markdown",
      "metadata": {
        "id": "8kb3xJkibn2t"
      },
      "source": [
        "**Swin Transformer Training**"
      ]
    },
    {
      "cell_type": "code",
      "execution_count": null,
      "metadata": {
        "execution": {
          "iopub.execute_input": "2024-02-01T17:35:12.765413Z",
          "iopub.status.busy": "2024-02-01T17:35:12.765043Z",
          "iopub.status.idle": "2024-02-01T17:35:12.821304Z",
          "shell.execute_reply": "2024-02-01T17:35:12.820386Z",
          "shell.execute_reply.started": "2024-02-01T17:35:12.765381Z"
        },
        "id": "zhUndh2Ybn2t",
        "trusted": true
      },
      "outputs": [],
      "source": [
        "st_model = modelDefine(inputs=inp_st, outputs=t2_sm)\n",
        "st_model.summary()"
      ]
    },
    {
      "cell_type": "code",
      "execution_count": null,
      "metadata": {
        "execution": {
          "iopub.execute_input": "2024-02-01T17:35:16.901405Z",
          "iopub.status.busy": "2024-02-01T17:35:16.901028Z",
          "iopub.status.idle": "2024-02-01T17:37:15.46848Z",
          "shell.execute_reply": "2024-02-01T17:37:15.467527Z",
          "shell.execute_reply.started": "2024-02-01T17:35:16.90137Z"
        },
        "id": "xG0KzkeHbn2u",
        "trusted": true
      },
      "outputs": [],
      "source": [
        "st_train = modelTrain(st_model, xtr, xval)"
      ]
    },
    {
      "cell_type": "markdown",
      "metadata": {
        "id": "4QEqZEq_bn2u"
      },
      "source": [
        "**Swin Transformer Results**"
      ]
    },
    {
      "cell_type": "code",
      "execution_count": null,
      "metadata": {
        "execution": {
          "iopub.execute_input": "2024-02-01T17:37:15.472947Z",
          "iopub.status.busy": "2024-02-01T17:37:15.472639Z",
          "iopub.status.idle": "2024-02-01T17:37:24.288377Z",
          "shell.execute_reply": "2024-02-01T17:37:24.287581Z",
          "shell.execute_reply.started": "2024-02-01T17:37:15.47292Z"
        },
        "id": "KSBK7IRKbn2u",
        "trusted": true
      },
      "outputs": [],
      "source": [
        "modelLoss(st_train)\n",
        "modelAccuracy(st_train)\n",
        "Evaluation(st_model, xte, yte)\n",
        "model_save(st_model, 'ST')\n",
        "result_to_csv(st_train, 'ST')"
      ]
    },
    {
      "cell_type": "markdown",
      "metadata": {
        "id": "EygUGED4bn2u"
      },
      "source": [
        "**CNN Training**"
      ]
    },
    {
      "cell_type": "code",
      "execution_count": null,
      "metadata": {
        "execution": {
          "iopub.execute_input": "2024-02-01T17:37:30.854396Z",
          "iopub.status.busy": "2024-02-01T17:37:30.853633Z",
          "iopub.status.idle": "2024-02-01T17:37:30.923637Z",
          "shell.execute_reply": "2024-02-01T17:37:30.922826Z",
          "shell.execute_reply.started": "2024-02-01T17:37:30.854361Z"
        },
        "id": "er52HE-Gbn2u",
        "trusted": true
      },
      "outputs": [],
      "source": [
        "cnn_model = modelDefine(inputs=CNN_out.input, outputs=CNN_out.output)\n",
        "cnn_model.summary()"
      ]
    },
    {
      "cell_type": "code",
      "execution_count": null,
      "metadata": {
        "execution": {
          "iopub.execute_input": "2024-02-01T17:37:34.830315Z",
          "iopub.status.busy": "2024-02-01T17:37:34.829418Z",
          "iopub.status.idle": "2024-02-01T17:38:11.316731Z",
          "shell.execute_reply": "2024-02-01T17:38:11.315966Z",
          "shell.execute_reply.started": "2024-02-01T17:37:34.83027Z"
        },
        "id": "DSooJhaBbn2u",
        "trusted": true
      },
      "outputs": [],
      "source": [
        "cnn_train = modelTrain(cnn_model, xtr, xval)"
      ]
    },
    {
      "cell_type": "markdown",
      "metadata": {
        "id": "Grp-ZL4Lbn2u"
      },
      "source": [
        "**CNN Result**"
      ]
    },
    {
      "cell_type": "code",
      "execution_count": null,
      "metadata": {
        "execution": {
          "iopub.execute_input": "2024-02-01T17:38:14.618702Z",
          "iopub.status.busy": "2024-02-01T17:38:14.617698Z",
          "iopub.status.idle": "2024-02-01T17:38:18.993709Z",
          "shell.execute_reply": "2024-02-01T17:38:18.992842Z",
          "shell.execute_reply.started": "2024-02-01T17:38:14.618662Z"
        },
        "id": "mlhUF-9cbn2u",
        "trusted": true
      },
      "outputs": [],
      "source": [
        "modelLoss(cnn_train)\n",
        "modelAccuracy(cnn_train)\n",
        "Evaluation(cnn_model, xte, yte)\n",
        "model_save(cnn_model, 'D-CNN')\n",
        "result_to_csv(cnn_train, 'D-CNN')"
      ]
    },
    {
      "cell_type": "markdown",
      "metadata": {
        "id": "EBfWuLfIbn2u"
      },
      "source": [
        "**RESNET50**"
      ]
    },
    {
      "cell_type": "code",
      "execution_count": null,
      "metadata": {
        "execution": {
          "iopub.execute_input": "2024-02-01T17:39:52.3031Z",
          "iopub.status.busy": "2024-02-01T17:39:52.302646Z",
          "iopub.status.idle": "2024-02-01T17:39:52.3587Z",
          "shell.execute_reply": "2024-02-01T17:39:52.357858Z",
          "shell.execute_reply.started": "2024-02-01T17:39:52.303063Z"
        },
        "id": "0Kg4EApEbn2u",
        "trusted": true
      },
      "outputs": [],
      "source": [
        "resnet50 = modelDefine(pretrain=True, model=resnet50)\n",
        "resnet50.summary()"
      ]
    },
    {
      "cell_type": "code",
      "execution_count": null,
      "metadata": {
        "execution": {
          "iopub.execute_input": "2024-02-01T17:39:55.866891Z",
          "iopub.status.busy": "2024-02-01T17:39:55.866518Z",
          "iopub.status.idle": "2024-02-01T17:40:29.685148Z",
          "shell.execute_reply": "2024-02-01T17:40:29.684327Z",
          "shell.execute_reply.started": "2024-02-01T17:39:55.866859Z"
        },
        "id": "AQfM_9wpbn2u",
        "trusted": true
      },
      "outputs": [],
      "source": [
        "resnet50_train = modelTrain(resnet50, xtr, xval)"
      ]
    },
    {
      "cell_type": "code",
      "execution_count": null,
      "metadata": {
        "execution": {
          "iopub.execute_input": "2024-02-01T17:40:45.338825Z",
          "iopub.status.busy": "2024-02-01T17:40:45.338081Z",
          "iopub.status.idle": "2024-02-01T17:41:07.109231Z",
          "shell.execute_reply": "2024-02-01T17:41:07.108204Z",
          "shell.execute_reply.started": "2024-02-01T17:40:45.338775Z"
        },
        "id": "HP4soF0ybn2u",
        "trusted": true
      },
      "outputs": [],
      "source": [
        "modelLoss(resnet50_train)\n",
        "modelAccuracy(resnet50_train)\n",
        "Evaluation(resnet50, xte, yte)\n",
        "model_save(resnet50, 'ResNet50')\n",
        "result_to_csv(resnet50_train, 'ResNet50')"
      ]
    },
    {
      "cell_type": "markdown",
      "metadata": {
        "id": "bYys6MrHbn2v"
      },
      "source": [
        "**VGG19**"
      ]
    },
    {
      "cell_type": "code",
      "execution_count": null,
      "metadata": {
        "execution": {
          "iopub.execute_input": "2024-01-31T12:20:51.102395Z",
          "iopub.status.busy": "2024-01-31T12:20:51.10148Z",
          "iopub.status.idle": "2024-01-31T12:20:51.136454Z",
          "shell.execute_reply": "2024-01-31T12:20:51.13556Z",
          "shell.execute_reply.started": "2024-01-31T12:20:51.102362Z"
        },
        "id": "s1ueYGZWbn2v",
        "trusted": true
      },
      "outputs": [],
      "source": [
        "vgg19 = modelDefine(pretrain=True, model=vgg19)\n",
        "vgg19.summary()"
      ]
    },
    {
      "cell_type": "code",
      "execution_count": null,
      "metadata": {
        "execution": {
          "iopub.execute_input": "2024-01-31T12:21:14.765297Z",
          "iopub.status.busy": "2024-01-31T12:21:14.764098Z",
          "iopub.status.idle": "2024-01-31T12:21:46.386569Z",
          "shell.execute_reply": "2024-01-31T12:21:46.385527Z",
          "shell.execute_reply.started": "2024-01-31T12:21:14.765258Z"
        },
        "id": "t9XUuuRjbn2v",
        "trusted": true
      },
      "outputs": [],
      "source": [
        "vgg19_train = modelTrain(vgg19, xtr, xval)"
      ]
    },
    {
      "cell_type": "code",
      "execution_count": null,
      "metadata": {
        "execution": {
          "iopub.execute_input": "2024-01-31T12:22:11.395301Z",
          "iopub.status.busy": "2024-01-31T12:22:11.394527Z",
          "iopub.status.idle": "2024-01-31T12:22:16.275737Z",
          "shell.execute_reply": "2024-01-31T12:22:16.274949Z",
          "shell.execute_reply.started": "2024-01-31T12:22:11.395268Z"
        },
        "id": "Mv1S4Twebn2v",
        "trusted": true
      },
      "outputs": [],
      "source": [
        "modelLoss(vgg19_train)\n",
        "modelAccuracy(vgg19_train)\n",
        "Evaluation(vgg19, xte, yte)\n",
        "model_save(vgg19, 'VGG19')\n",
        "result_to_csv(vgg19_train, 'VGG19')"
      ]
    },
    {
      "cell_type": "code",
      "execution_count": null,
      "metadata": {
        "execution": {
          "iopub.execute_input": "2024-01-31T12:32:56.285681Z",
          "iopub.status.busy": "2024-01-31T12:32:56.285319Z",
          "iopub.status.idle": "2024-01-31T12:32:56.320296Z",
          "shell.execute_reply": "2024-01-31T12:32:56.319419Z",
          "shell.execute_reply.started": "2024-01-31T12:32:56.285654Z"
        },
        "id": "qU7qBIlvbn2v",
        "trusted": true
      },
      "outputs": [],
      "source": [
        "vgg16 = denseNet = modelDefine(pretrain=True, model=vgg16)\n",
        "vgg16.summary()"
      ]
    },
    {
      "cell_type": "code",
      "execution_count": null,
      "metadata": {
        "execution": {
          "iopub.execute_input": "2024-01-31T12:33:21.560988Z",
          "iopub.status.busy": "2024-01-31T12:33:21.560093Z",
          "iopub.status.idle": "2024-01-31T12:34:25.203696Z",
          "shell.execute_reply": "2024-01-31T12:34:25.202691Z",
          "shell.execute_reply.started": "2024-01-31T12:33:21.560956Z"
        },
        "id": "DmnGkE5Lbn2v",
        "trusted": true
      },
      "outputs": [],
      "source": [
        "vgg16_train = modelTrain(vgg16, xtr, xval)"
      ]
    },
    {
      "cell_type": "code",
      "execution_count": null,
      "metadata": {
        "execution": {
          "iopub.execute_input": "2024-01-31T12:28:06.031083Z",
          "iopub.status.busy": "2024-01-31T12:28:06.030329Z",
          "iopub.status.idle": "2024-01-31T12:28:06.142293Z",
          "shell.execute_reply": "2024-01-31T12:28:06.141335Z",
          "shell.execute_reply.started": "2024-01-31T12:28:06.031051Z"
        },
        "id": "3dWfAFuubn2w",
        "trusted": true
      },
      "outputs": [],
      "source": [
        "denseNet = modelDefine(pretrain=True, model=denseNet)\n",
        "denseNet.summary()"
      ]
    },
    {
      "cell_type": "code",
      "execution_count": null,
      "metadata": {
        "execution": {
          "iopub.execute_input": "2024-01-31T12:28:24.942241Z",
          "iopub.status.busy": "2024-01-31T12:28:24.941351Z",
          "iopub.status.idle": "2024-01-31T12:29:29.52429Z",
          "shell.execute_reply": "2024-01-31T12:29:29.52345Z",
          "shell.execute_reply.started": "2024-01-31T12:28:24.942204Z"
        },
        "id": "UROOeQlebn2w",
        "trusted": true
      },
      "outputs": [],
      "source": [
        "denseNet_train = modelTrain(denseNet, xtr, xval)"
      ]
    },
    {
      "cell_type": "code",
      "execution_count": null,
      "metadata": {
        "execution": {
          "iopub.execute_input": "2024-01-31T12:29:35.957858Z",
          "iopub.status.busy": "2024-01-31T12:29:35.95741Z",
          "iopub.status.idle": "2024-01-31T12:30:49.49969Z",
          "shell.execute_reply": "2024-01-31T12:30:49.498634Z",
          "shell.execute_reply.started": "2024-01-31T12:29:35.957807Z"
        },
        "id": "nJ4kWnALbn2w",
        "trusted": true
      },
      "outputs": [],
      "source": [
        "modelLoss(denseNet_train)\n",
        "modelAccuracy(denseNet_train)\n",
        "Evaluation(denseNet, xte, yte)\n",
        "model_save(denseNet, 'denseNet')\n",
        "result_to_csv(denseNet_train, 'denseNet')"
      ]
    },
    {
      "cell_type": "markdown",
      "metadata": {
        "id": "pjd0wpdUbn2w"
      },
      "source": [
        "***ST-DCNN***"
      ]
    },
    {
      "cell_type": "code",
      "execution_count": null,
      "metadata": {
        "execution": {
          "iopub.execute_input": "2024-02-01T17:41:07.112101Z",
          "iopub.status.busy": "2024-02-01T17:41:07.111548Z",
          "iopub.status.idle": "2024-02-01T17:41:07.206476Z",
          "shell.execute_reply": "2024-02-01T17:41:07.20556Z",
          "shell.execute_reply.started": "2024-02-01T17:41:07.112066Z"
        },
        "id": "JiTSKuerbn2w",
        "trusted": true
      },
      "outputs": [],
      "source": [
        "st_cnn_model = modelDefine([inp_st, CNN_out.input], st_cnn_tsm)\n",
        "st_cnn_model.summary()"
      ]
    },
    {
      "cell_type": "code",
      "execution_count": null,
      "metadata": {
        "execution": {
          "iopub.execute_input": "2024-02-01T17:41:07.207908Z",
          "iopub.status.busy": "2024-02-01T17:41:07.207609Z",
          "iopub.status.idle": "2024-02-01T17:43:35.127104Z",
          "shell.execute_reply": "2024-02-01T17:43:35.126269Z",
          "shell.execute_reply.started": "2024-02-01T17:41:07.207883Z"
        },
        "id": "oW3g1Iscbn2w",
        "trusted": true
      },
      "outputs": [],
      "source": [
        "st_cnn_training = modelTrain(st_cnn_model, [xtr, xtr], [xval, xval])"
      ]
    },
    {
      "cell_type": "code",
      "execution_count": null,
      "metadata": {
        "execution": {
          "iopub.execute_input": "2024-02-01T15:54:20.41841Z",
          "iopub.status.busy": "2024-02-01T15:54:20.417957Z",
          "iopub.status.idle": "2024-02-01T15:54:31.726567Z",
          "shell.execute_reply": "2024-02-01T15:54:31.725662Z",
          "shell.execute_reply.started": "2024-02-01T15:54:20.418378Z"
        },
        "id": "NFIAntaebn2w",
        "trusted": true
      },
      "outputs": [],
      "source": [
        "modelLoss(st_cnn_training)\n",
        "modelAccuracy(st_cnn_training)\n",
        "Evaluation(st_cnn_model, [xte, xte], yte)\n",
        "model_save(st_cnn_model, 'ST-DCNN')\n",
        "result_to_csv(st_cnn_training, 'ST-DCNN')"
      ]
    },
    {
      "cell_type": "markdown",
      "metadata": {
        "id": "1qhYHJQCbn2w"
      },
      "source": [
        "***ST-ResNet50***"
      ]
    },
    {
      "cell_type": "code",
      "execution_count": null,
      "metadata": {
        "execution": {
          "iopub.execute_input": "2024-01-29T18:31:06.347787Z",
          "iopub.status.busy": "2024-01-29T18:31:06.346958Z",
          "iopub.status.idle": "2024-01-29T18:31:06.437895Z",
          "shell.execute_reply": "2024-01-29T18:31:06.436994Z",
          "shell.execute_reply.started": "2024-01-29T18:31:06.347753Z"
        },
        "id": "2zYnKaSxbn2w",
        "trusted": true
      },
      "outputs": [],
      "source": [
        "st_resnet_model = modelDefine([inp_st, resnet50.input], st_resnet50_tsm)\n",
        "st_resnet_model.summary()"
      ]
    },
    {
      "cell_type": "code",
      "execution_count": null,
      "metadata": {
        "execution": {
          "iopub.execute_input": "2024-01-29T18:31:10.884363Z",
          "iopub.status.busy": "2024-01-29T18:31:10.88356Z",
          "iopub.status.idle": "2024-01-29T18:33:38.465302Z",
          "shell.execute_reply": "2024-01-29T18:33:38.464302Z",
          "shell.execute_reply.started": "2024-01-29T18:31:10.884327Z"
        },
        "id": "3zcqDgQRbn2x",
        "trusted": true
      },
      "outputs": [],
      "source": [
        "st_resnet_train = modelTrain(st_resnet_model, [xtr, xtr], [xval, xval])"
      ]
    },
    {
      "cell_type": "code",
      "execution_count": null,
      "metadata": {
        "execution": {
          "iopub.execute_input": "2024-01-29T18:33:54.434525Z",
          "iopub.status.busy": "2024-01-29T18:33:54.433485Z",
          "iopub.status.idle": "2024-01-29T18:34:23.223774Z",
          "shell.execute_reply": "2024-01-29T18:34:23.222672Z",
          "shell.execute_reply.started": "2024-01-29T18:33:54.43448Z"
        },
        "id": "YEI2fKJobn2x",
        "trusted": true
      },
      "outputs": [],
      "source": [
        "modelLoss(st_resnet_train)\n",
        "modelAccuracy(st_resnet_train)\n",
        "Evaluation(st_resnet_model, [xte, xte], yte)\n",
        "model_save(st_resnet_model, 'ST-ResNet50')\n",
        "result_to_csv(st_resnet_train, 'ST-ResNet50')"
      ]
    },
    {
      "cell_type": "markdown",
      "metadata": {
        "id": "SXcuznHlbn2x"
      },
      "source": [
        "***D-CNN-LSTM***"
      ]
    },
    {
      "cell_type": "code",
      "execution_count": null,
      "metadata": {
        "execution": {
          "iopub.execute_input": "2024-01-29T18:34:23.226617Z",
          "iopub.status.busy": "2024-01-29T18:34:23.225929Z",
          "iopub.status.idle": "2024-01-29T18:34:23.31589Z",
          "shell.execute_reply": "2024-01-29T18:34:23.315001Z",
          "shell.execute_reply.started": "2024-01-29T18:34:23.226577Z"
        },
        "id": "CyvzEsJHbn2x",
        "trusted": true
      },
      "outputs": [],
      "source": [
        "dcnn_lstm_model = modelDefine([CNN_out.input, input_LSTM], dcnn_lstm_tsm)\n",
        "dcnn_lstm_model.summary()"
      ]
    },
    {
      "cell_type": "code",
      "execution_count": null,
      "metadata": {
        "execution": {
          "iopub.execute_input": "2024-01-29T18:51:31.717498Z",
          "iopub.status.busy": "2024-01-29T18:51:31.717111Z",
          "iopub.status.idle": "2024-01-29T18:52:20.536822Z",
          "shell.execute_reply": "2024-01-29T18:52:20.536049Z",
          "shell.execute_reply.started": "2024-01-29T18:51:31.717471Z"
        },
        "id": "1dSsn0XBbn2x",
        "trusted": true
      },
      "outputs": [],
      "source": [
        "dcnn_lstm_training = modelTrain(dcnn_lstm_model, [xtr, xtr_ske], [xval, xval_ske])"
      ]
    },
    {
      "cell_type": "code",
      "execution_count": null,
      "metadata": {
        "execution": {
          "iopub.execute_input": "2024-01-29T18:52:39.010769Z",
          "iopub.status.busy": "2024-01-29T18:52:39.009918Z",
          "iopub.status.idle": "2024-01-29T18:52:57.259689Z",
          "shell.execute_reply": "2024-01-29T18:52:57.2589Z",
          "shell.execute_reply.started": "2024-01-29T18:52:39.010735Z"
        },
        "id": "SL2Ux-wtbn2x",
        "trusted": true
      },
      "outputs": [],
      "source": [
        "modelLoss(dcnn_lstm_training)\n",
        "modelAccuracy(dcnn_lstm_training)\n",
        "Evaluation(dcnn_lstm_model, [xte, xte_ske], yte)\n",
        "model_save(dcnn_lstm_model, 'DCNN-LSTM')\n",
        "result_to_csv(dcnn_lstm_training, 'DCNN-LSTM')"
      ]
    },
    {
      "cell_type": "markdown",
      "metadata": {
        "id": "rYagAAgpbn2x"
      },
      "source": [
        "***ST-LSTM***"
      ]
    },
    {
      "cell_type": "code",
      "execution_count": null,
      "metadata": {
        "execution": {
          "iopub.execute_input": "2024-01-29T18:52:57.262185Z",
          "iopub.status.busy": "2024-01-29T18:52:57.261563Z",
          "iopub.status.idle": "2024-01-29T18:52:57.343321Z",
          "shell.execute_reply": "2024-01-29T18:52:57.342421Z",
          "shell.execute_reply.started": "2024-01-29T18:52:57.26215Z"
        },
        "id": "3986CFahbn2x",
        "trusted": true
      },
      "outputs": [],
      "source": [
        "st_lstm_model = modelDefine([inp_st, input_LSTM], st_lstm_tsm)\n",
        "st_lstm_model.summary()"
      ]
    },
    {
      "cell_type": "code",
      "execution_count": null,
      "metadata": {
        "execution": {
          "iopub.execute_input": "2024-01-29T18:53:01.325938Z",
          "iopub.status.busy": "2024-01-29T18:53:01.325327Z",
          "iopub.status.idle": "2024-01-29T18:55:12.552918Z",
          "shell.execute_reply": "2024-01-29T18:55:12.552103Z",
          "shell.execute_reply.started": "2024-01-29T18:53:01.325905Z"
        },
        "id": "9Aq-oLP3bn2x",
        "trusted": true
      },
      "outputs": [],
      "source": [
        "st_lstm_training = modelTrain(st_lstm_model, [xtr, xtr_ske], [xval, xval_ske])"
      ]
    },
    {
      "cell_type": "code",
      "execution_count": null,
      "metadata": {
        "execution": {
          "iopub.execute_input": "2024-01-29T18:55:24.010976Z",
          "iopub.status.busy": "2024-01-29T18:55:24.010581Z",
          "iopub.status.idle": "2024-01-29T18:55:46.052954Z",
          "shell.execute_reply": "2024-01-29T18:55:46.052015Z",
          "shell.execute_reply.started": "2024-01-29T18:55:24.010944Z"
        },
        "id": "J7x8m2Dybn2x",
        "trusted": true
      },
      "outputs": [],
      "source": [
        "modelLoss(st_lstm_training)\n",
        "modelAccuracy(st_lstm_training)\n",
        "Evaluation(st_lstm_model, [xte, xte_ske], yte)\n",
        "model_save(st_lstm_model, 'ST-LSTM')\n",
        "result_to_csv(st_lstm_training, 'ST-LSTM')"
      ]
    },
    {
      "cell_type": "code",
      "execution_count": null,
      "metadata": {
        "execution": {
          "iopub.execute_input": "2024-01-29T18:55:46.055603Z",
          "iopub.status.busy": "2024-01-29T18:55:46.05522Z",
          "iopub.status.idle": "2024-01-29T18:55:46.144548Z",
          "shell.execute_reply": "2024-01-29T18:55:46.143661Z",
          "shell.execute_reply.started": "2024-01-29T18:55:46.055568Z"
        },
        "id": "K0-i740nbn2x",
        "trusted": true
      },
      "outputs": [],
      "source": [
        "resnet_lstm_model = modelDefine([resnet50.input, input_LSTM], resnet_lstm_tsm)\n",
        "resnet_lstm_model.summary()"
      ]
    },
    {
      "cell_type": "code",
      "execution_count": null,
      "metadata": {
        "execution": {
          "iopub.execute_input": "2024-01-29T18:55:46.146023Z",
          "iopub.status.busy": "2024-01-29T18:55:46.145732Z",
          "iopub.status.idle": "2024-01-29T18:56:32.368639Z",
          "shell.execute_reply": "2024-01-29T18:56:32.36782Z",
          "shell.execute_reply.started": "2024-01-29T18:55:46.145998Z"
        },
        "id": "Bu8pAnSNbn2y",
        "trusted": true
      },
      "outputs": [],
      "source": [
        "resnet_lstm_training = modelTrain(resnet_lstm_model, [xtr, xtr_ske], [xval, xval_ske])"
      ]
    },
    {
      "cell_type": "code",
      "execution_count": null,
      "metadata": {
        "execution": {
          "iopub.execute_input": "2024-01-29T18:56:32.371309Z",
          "iopub.status.busy": "2024-01-29T18:56:32.371005Z",
          "iopub.status.idle": "2024-01-29T18:57:07.681994Z",
          "shell.execute_reply": "2024-01-29T18:57:07.681154Z",
          "shell.execute_reply.started": "2024-01-29T18:56:32.371282Z"
        },
        "id": "q2Z53Vb-bn2y",
        "trusted": true
      },
      "outputs": [],
      "source": [
        "modelLoss(resnet_lstm_training)\n",
        "modelAccuracy(resnet_lstm_training)\n",
        "Evaluation(resnet_lstm_model, [xte, xte_ske], yte)\n",
        "model_save(resnet_lstm_model, 'Resnet-LSTM')\n",
        "result_to_csv(resnet_lstm_training, 'Resnet-LSTM')"
      ]
    },
    {
      "cell_type": "markdown",
      "metadata": {
        "id": "Nry7Zma1bn2y"
      },
      "source": [
        "***ST-DCNN-LSTM***"
      ]
    },
    {
      "cell_type": "code",
      "execution_count": null,
      "metadata": {
        "execution": {
          "iopub.execute_input": "2024-01-29T19:02:09.378905Z",
          "iopub.status.busy": "2024-01-29T19:02:09.378023Z",
          "iopub.status.idle": "2024-01-29T19:02:09.40469Z",
          "shell.execute_reply": "2024-01-29T19:02:09.403922Z",
          "shell.execute_reply.started": "2024-01-29T19:02:09.378851Z"
        },
        "id": "oaFrCG8ibn2y",
        "trusted": true
      },
      "outputs": [],
      "source": [
        "st_cnn_lstm_model = modelDefine([inp_st, CNN_out.input, input_LSTM], m1)"
      ]
    },
    {
      "cell_type": "code",
      "execution_count": null,
      "metadata": {
        "execution": {
          "iopub.execute_input": "2024-01-29T19:02:12.299599Z",
          "iopub.status.busy": "2024-01-29T19:02:12.299204Z",
          "iopub.status.idle": "2024-01-29T19:04:55.887983Z",
          "shell.execute_reply": "2024-01-29T19:04:55.887016Z",
          "shell.execute_reply.started": "2024-01-29T19:02:12.299566Z"
        },
        "id": "WBiFDnmtbn2y",
        "trusted": true
      },
      "outputs": [],
      "source": [
        "st_cnn_lstm_training = modelTrain(st_cnn_lstm_model, [xtr, xtr, xtr_ske], [xval, xval, xval_ske])"
      ]
    },
    {
      "cell_type": "code",
      "execution_count": null,
      "metadata": {
        "execution": {
          "iopub.execute_input": "2024-01-29T19:05:09.188089Z",
          "iopub.status.busy": "2024-01-29T19:05:09.187232Z",
          "iopub.status.idle": "2024-01-29T19:05:34.267457Z",
          "shell.execute_reply": "2024-01-29T19:05:34.26643Z",
          "shell.execute_reply.started": "2024-01-29T19:05:09.188045Z"
        },
        "id": "rDUi_M77bn2z",
        "trusted": true
      },
      "outputs": [],
      "source": [
        "modelLoss(st_cnn_lstm_training)\n",
        "modelAccuracy(st_cnn_lstm_training)\n",
        "Evaluation(st_cnn_lstm_model, [xte, xte, xte_ske], yte)\n",
        "model_save(st_cnn_lstm_model, 'ST-DCNN-LSTM_Concatenate')\n",
        "result_to_csv(st_cnn_lstm_training, 'ST-DCNN-LSTM_Concatenate')"
      ]
    },
    {
      "cell_type": "markdown",
      "metadata": {
        "id": "1Tgn5mKibn2z"
      },
      "source": [
        "***ST-ResNet50-LSTM***"
      ]
    },
    {
      "cell_type": "code",
      "execution_count": null,
      "metadata": {
        "execution": {
          "iopub.execute_input": "2024-01-29T19:05:46.316422Z",
          "iopub.status.busy": "2024-01-29T19:05:46.315592Z",
          "iopub.status.idle": "2024-01-29T19:05:46.343793Z",
          "shell.execute_reply": "2024-01-29T19:05:46.342883Z",
          "shell.execute_reply.started": "2024-01-29T19:05:46.316387Z"
        },
        "id": "_cYWh-phbn2z",
        "trusted": true
      },
      "outputs": [],
      "source": [
        "st_resnet_lstm_model = modelDefine([inp_st, resnet50.input, input_LSTM], m2)"
      ]
    },
    {
      "cell_type": "code",
      "execution_count": null,
      "metadata": {
        "execution": {
          "iopub.execute_input": "2024-01-29T19:05:49.550185Z",
          "iopub.status.busy": "2024-01-29T19:05:49.549452Z",
          "iopub.status.idle": "2024-01-29T19:08:27.398448Z",
          "shell.execute_reply": "2024-01-29T19:08:27.397346Z",
          "shell.execute_reply.started": "2024-01-29T19:05:49.550143Z"
        },
        "id": "bXfNx0Rrbn2z",
        "trusted": true
      },
      "outputs": [],
      "source": [
        "st_resnet_lstm_training = modelTrain(st_resnet_lstm_model, [xtr, xtr, xtr_ske], [xval, xval, xval_ske])"
      ]
    },
    {
      "cell_type": "code",
      "execution_count": null,
      "metadata": {
        "execution": {
          "iopub.execute_input": "2024-01-29T19:08:27.401407Z",
          "iopub.status.busy": "2024-01-29T19:08:27.401012Z",
          "iopub.status.idle": "2024-01-29T19:09:09.72559Z",
          "shell.execute_reply": "2024-01-29T19:09:09.724768Z",
          "shell.execute_reply.started": "2024-01-29T19:08:27.401371Z"
        },
        "id": "6h_grEH2bn2z",
        "trusted": true
      },
      "outputs": [],
      "source": [
        "modelLoss(st_resnet_lstm_training)\n",
        "modelAccuracy(st_resnet_lstm_training)\n",
        "Evaluation(st_resnet_lstm_model, [xte, xte, xte_ske], yte)\n",
        "model_save(st_resnet_lstm_model, 'ST-ResNet50-LSTM')\n",
        "result_to_csv(st_resnet_lstm_training, 'ST-ResNet50-LSTM')"
      ]
    },
    {
      "cell_type": "markdown",
      "metadata": {
        "id": "8dH08Aatbn2z"
      },
      "source": [
        "***Merge Type***"
      ]
    },
    {
      "cell_type": "code",
      "execution_count": null,
      "metadata": {
        "execution": {
          "iopub.execute_input": "2024-01-29T19:09:15.126452Z",
          "iopub.status.busy": "2024-01-29T19:09:15.126091Z",
          "iopub.status.idle": "2024-01-29T19:21:38.892319Z",
          "shell.execute_reply": "2024-01-29T19:21:38.891522Z",
          "shell.execute_reply.started": "2024-01-29T19:09:15.126423Z"
        },
        "id": "POQTBnA7bn2z",
        "trusted": true
      },
      "outputs": [],
      "source": [
        "types = [tf.keras.layers.Dot(axes=1)([st_cnn_dense, t1]), tf.keras.layers.Maximum()([st_cnn_dense, t1]), tf.keras.layers.Multiply()([st_cnn_dense, t1]), tf.keras.layers.Average()([st_cnn_dense, t1])]\n",
        "for i in range(0, len(types)):\n",
        "    name = None\n",
        "    if i == 0:\n",
        "        name = 'Dot'\n",
        "    elif i == 1:\n",
        "        name = 'Max'\n",
        "    elif i == 2:\n",
        "        name = 'Multiply'\n",
        "    else:\n",
        "        name = 'Average'\n",
        "    tsm = Dense(1024, activation='relu')(types[i])\n",
        "    tsm = Dense(4, activation='softmax')(tsm)\n",
        "    st_cnn_lstm_merge_model = modelDefine([inp_st, CNN_out.input, input_LSTM], tsm)\n",
        "    st_cnn_lstm_merge_training = modelTrain(st_cnn_lstm_merge_model, [xtr, xtr, xtr_ske], [xval, xval, xval_ske])\n",
        "    modelLoss(st_cnn_lstm_merge_training)\n",
        "    modelAccuracy(st_cnn_lstm_merge_training)\n",
        "    Evaluation(st_cnn_lstm_merge_model, [xte, xte, xte_ske], yte)\n",
        "    model_save(st_cnn_lstm_merge_model, f'ST-DCNN-LSTM-{name}')\n",
        "    result_to_csv(st_cnn_lstm_merge_training, f'ST-DCNN-LSTM-{name}')"
      ]
    },
    {
      "cell_type": "code",
      "execution_count": null,
      "metadata": {
        "execution": {
          "iopub.status.busy": "2024-01-10T10:16:58.011437Z",
          "iopub.status.idle": "2024-01-10T10:16:58.011903Z",
          "shell.execute_reply": "2024-01-10T10:16:58.011684Z",
          "shell.execute_reply.started": "2024-01-10T10:16:58.011663Z"
        },
        "id": "8c-8-ZxLbn2z",
        "trusted": true
      },
      "outputs": [],
      "source": [
        "# st_cnn_lstm_model = modelDefine([inp_st, CNN_out.input, input_LSTM], m1)"
      ]
    },
    {
      "cell_type": "markdown",
      "metadata": {
        "id": "AY9ILRblbn2z"
      },
      "source": [
        "**Feature Fusion ST+LSTM**"
      ]
    },
    {
      "cell_type": "code",
      "execution_count": null,
      "metadata": {
        "execution": {
          "iopub.status.busy": "2024-01-10T10:16:58.013428Z",
          "iopub.status.idle": "2024-01-10T10:16:58.013827Z",
          "shell.execute_reply": "2024-01-10T10:16:58.013639Z",
          "shell.execute_reply.started": "2024-01-10T10:16:58.013618Z"
        },
        "id": "-lVi5E80bn2z",
        "trusted": true
      },
      "outputs": [],
      "source": [
        "# st_lstm = modelDefine([inp_st, input_LSTM], t)"
      ]
    },
    {
      "cell_type": "code",
      "execution_count": null,
      "metadata": {
        "execution": {
          "iopub.status.busy": "2024-01-10T10:16:58.01521Z",
          "iopub.status.idle": "2024-01-10T10:16:58.015588Z",
          "shell.execute_reply": "2024-01-10T10:16:58.01542Z",
          "shell.execute_reply.started": "2024-01-10T10:16:58.0154Z"
        },
        "id": "F4LHM4hQbn20",
        "trusted": true
      },
      "outputs": [],
      "source": [
        "# st_lstm.summary()"
      ]
    },
    {
      "cell_type": "code",
      "execution_count": null,
      "metadata": {
        "execution": {
          "iopub.status.busy": "2024-01-10T10:16:58.016941Z",
          "iopub.status.idle": "2024-01-10T10:16:58.017274Z",
          "shell.execute_reply": "2024-01-10T10:16:58.017128Z",
          "shell.execute_reply.started": "2024-01-10T10:16:58.017113Z"
        },
        "id": "WjTtvwwjbn20",
        "trusted": true
      },
      "outputs": [],
      "source": [
        "# st_lstm_train = modelTrain(st_lstm, [xtr, xtr_ske], [xval, xval_ske])"
      ]
    },
    {
      "cell_type": "code",
      "execution_count": null,
      "metadata": {
        "execution": {
          "iopub.status.busy": "2024-01-10T10:16:58.018558Z",
          "iopub.status.idle": "2024-01-10T10:16:58.01895Z",
          "shell.execute_reply": "2024-01-10T10:16:58.018742Z",
          "shell.execute_reply.started": "2024-01-10T10:16:58.018721Z"
        },
        "id": "_phtA0Qsbn20",
        "trusted": true
      },
      "outputs": [],
      "source": [
        "# modelLoss(st_lstm_train)"
      ]
    },
    {
      "cell_type": "code",
      "execution_count": null,
      "metadata": {
        "execution": {
          "iopub.status.busy": "2024-01-10T10:16:58.020875Z",
          "iopub.status.idle": "2024-01-10T10:16:58.021212Z",
          "shell.execute_reply": "2024-01-10T10:16:58.021065Z",
          "shell.execute_reply.started": "2024-01-10T10:16:58.02105Z"
        },
        "id": "umVSEtn7bn20",
        "trusted": true
      },
      "outputs": [],
      "source": [
        "# modelAccuracy(st_lstm_train)"
      ]
    },
    {
      "cell_type": "code",
      "execution_count": null,
      "metadata": {
        "execution": {
          "iopub.status.busy": "2024-01-10T10:16:58.022633Z",
          "iopub.status.idle": "2024-01-10T10:16:58.023023Z",
          "shell.execute_reply": "2024-01-10T10:16:58.022842Z",
          "shell.execute_reply.started": "2024-01-10T10:16:58.02282Z"
        },
        "id": "RqNmieqKbn20",
        "trusted": true
      },
      "outputs": [],
      "source": [
        "# Evaluation(st_lstm, [xte, xte_ske], yte)"
      ]
    },
    {
      "cell_type": "markdown",
      "metadata": {
        "id": "xDROKjk4bn20"
      },
      "source": [
        "<h1 style=\"text-align: center\"> Model demonstration </h1>"
      ]
    },
    {
      "cell_type": "code",
      "execution_count": null,
      "metadata": {
        "execution": {
          "iopub.status.busy": "2024-01-10T10:16:58.024069Z",
          "iopub.status.idle": "2024-01-10T10:16:58.024472Z",
          "shell.execute_reply": "2024-01-10T10:16:58.02427Z",
          "shell.execute_reply.started": "2024-01-10T10:16:58.024248Z"
        },
        "id": "Qz7ShBbrbn20",
        "trusted": true
      },
      "outputs": [],
      "source": [
        "# classes = []\n",
        "# for i in range(len(content)):\n",
        "#     class_name = content[i].split('/')[0]\n",
        "#     if class_name not in classes:\n",
        "#         classes.append(class_name)\n",
        "\n",
        "# num_classes = [i for i in range(10)]\n",
        "# class_map = dict(zip(num_classes,classes))"
      ]
    },
    {
      "cell_type": "code",
      "execution_count": null,
      "metadata": {
        "execution": {
          "iopub.status.busy": "2024-01-10T10:16:58.026147Z",
          "iopub.status.idle": "2024-01-10T10:16:58.026539Z",
          "shell.execute_reply": "2024-01-10T10:16:58.026345Z",
          "shell.execute_reply.started": "2024-01-10T10:16:58.026328Z"
        },
        "id": "IHvtL5D9bn20",
        "trusted": true
      },
      "outputs": [],
      "source": [
        "# random_videos = np.random.randint(0,len(xte),size=(10))\n",
        "# predicted  = model.predict(xte[random_videos],batch_size = 10)\n",
        "# predicted  = np.argmax(predicted,axis=1)"
      ]
    },
    {
      "cell_type": "code",
      "execution_count": null,
      "metadata": {
        "execution": {
          "iopub.status.busy": "2024-01-10T10:16:58.028472Z",
          "iopub.status.idle": "2024-01-10T10:16:58.028926Z",
          "shell.execute_reply": "2024-01-10T10:16:58.02871Z",
          "shell.execute_reply.started": "2024-01-10T10:16:58.028689Z"
        },
        "id": "3cuLWlS_bn20",
        "trusted": true
      },
      "outputs": [],
      "source": [
        "# fig = plt.figure(figsize=(30,10))\n",
        "\n",
        "# for i,rand_indx in enumerate(random_videos):\n",
        "#     ax = plt.subplot(2,5,i+1)\n",
        "#     video = xte[rand_indx]\n",
        "#     frame = video[np.random.randint(0,10)]\n",
        "#     ax.set_title(class_map[predicted[i]])\n",
        "#     imshow(frame)"
      ]
    }
  ],
  "metadata": {
    "colab": {
      "name": "Student Behaviors NoteBook 1",
      "provenance": []
    },
    "kaggle": {
      "accelerator": "gpu",
      "dataSources": [
        {
          "datasetId": 4177367,
          "sourceId": 7217892,
          "sourceType": "datasetVersion"
        },
        {
          "datasetId": 4196244,
          "sourceId": 7244283,
          "sourceType": "datasetVersion"
        },
        {
          "datasetId": 4329415,
          "sourceId": 7438683,
          "sourceType": "datasetVersion"
        }
      ],
      "dockerImageVersionId": 30626,
      "isGpuEnabled": true,
      "isInternetEnabled": true,
      "language": "python",
      "sourceType": "notebook"
    },
    "kernelspec": {
      "display_name": "Python 3",
      "language": "python",
      "name": "python3"
    },
    "language_info": {
      "codemirror_mode": {
        "name": "ipython",
        "version": 3
      },
      "file_extension": ".py",
      "mimetype": "text/x-python",
      "name": "python",
      "nbconvert_exporter": "python",
      "pygments_lexer": "ipython3",
      "version": "3.10.12"
    }
  },
  "nbformat": 4,
  "nbformat_minor": 0
}
